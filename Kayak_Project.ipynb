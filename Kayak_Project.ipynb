{
 "cells": [
  {
   "cell_type": "markdown",
   "metadata": {},
   "source": [
    "![Kayak](https://seekvectorlogo.com/wp-content/uploads/2018/01/kayak-vector-logo.png)\n",
    "\n",
    "# Plan your trip with Kayak"
   ]
  },
  {
   "cell_type": "markdown",
   "metadata": {},
   "source": [
    "# 1. Import libraries"
   ]
  },
  {
   "cell_type": "code",
   "execution_count": 1,
   "metadata": {},
   "outputs": [],
   "source": [
    "import pandas as pd \n",
    "import numpy as np\n",
    "import plotly.express as px\n",
    "from geopy.geocoders import Nominatim\n",
    "from meteofrance_api import MeteoFranceClient\n",
    "from datetime import datetime\n",
    "import json\n",
    "import boto3\n",
    "import requests\n",
    "from sqlalchemy import create_engine\n",
    "import os\n",
    "\n",
    "from dotenv import load_dotenv\n",
    "import dotenv"
   ]
  },
  {
   "cell_type": "markdown",
   "metadata": {},
   "source": [
    "# 2. Data : list of place "
   ]
  },
  {
   "cell_type": "code",
   "execution_count": 4,
   "metadata": {},
   "outputs": [],
   "source": [
    "holy_place = [\n",
    "\"Mont Saint Michel\",\n",
    "\"St Malo\",\n",
    "\"Bayeux\",\n",
    "\"Le Havre\",\n",
    "\"Rouen\",\n",
    "\"Paris\",\n",
    "\"Amiens\",\n",
    "\"Lille\",\n",
    "\"Strasbourg\",\n",
    "\"Chateau du Haut Koenigsbourg\",\n",
    "\"Colmar\",\n",
    "\"Eguisheim\",\n",
    "\"Besancon\",\n",
    "\"Dijon\",\n",
    "\"Annecy\",\n",
    "\"Grenoble\",\n",
    "\"Lyon\",\n",
    "\"Gorges du Verdon\",\n",
    "\"Bormes les Mimosas\",\n",
    "\"Cassis\",\n",
    "\"Marseille\",\n",
    "\"Aix en Provence\",\n",
    "\"Avignon\",\n",
    "\"Uzes\",\n",
    "\"Nimes\",\n",
    "\"Aigues Mortes\",\n",
    "\"Saintes Maries de la mer\",\n",
    "\"Collioure\",\n",
    "\"Carcassonne\",\n",
    "\"Ariege\",\n",
    "\"Toulouse\",\n",
    "\"Montauban\",\n",
    "\"Biarritz\",\n",
    "\"Bayonne\",\n",
    "\"La Rochelle\"\n",
    "]"
   ]
  },
  {
   "cell_type": "markdown",
   "metadata": {},
   "source": [
    "# 3. API call for cities coordonates & weather"
   ]
  },
  {
   "cell_type": "markdown",
   "metadata": {},
   "source": [
    "## 3.1. API call"
   ]
  },
  {
   "cell_type": "code",
   "execution_count": null,
   "metadata": {},
   "outputs": [],
   "source": [
    "# Initialize geocoder based on OpenStreetMap + weather client\n",
    "geolocator = Nominatim(timeout=10, user_agent=\"meteo_app\")\n",
    "client = MeteoFranceClient()"
   ]
  },
  {
   "cell_type": "code",
   "execution_count": null,
   "metadata": {},
   "outputs": [],
   "source": [
    "# Creation of function to fetch coordinates & weather on 7 days\n",
    "def get_forecast_by_city_fordf(city_name):\n",
    "    \"\"\"Returns the D→D+7 forecasts for a given city\"\"\"\n",
    "    # Geocoding\n",
    "    location = geolocator.geocode(f'{city_name}, France')\n",
    "    if not location:\n",
    "        return city_name, None\n",
    "\n",
    "    # Retrieve weather forecast + id\n",
    "    forecast = client.get_forecast(location.latitude, location.longitude)\n",
    "    \n",
    "    # Extract the next 7 days\n",
    "    daily = forecast.daily_forecast[:7]\n",
    "    id_place = forecast.position['insee']\n",
    "    return city_name, daily, id_place, location.latitude, location.longitude"
   ]
  },
  {
   "cell_type": "code",
   "execution_count": null,
   "metadata": {},
   "outputs": [
    {
     "data": {
      "text/html": [
       "<div>\n",
       "<style scoped>\n",
       "    .dataframe tbody tr th:only-of-type {\n",
       "        vertical-align: middle;\n",
       "    }\n",
       "\n",
       "    .dataframe tbody tr th {\n",
       "        vertical-align: top;\n",
       "    }\n",
       "\n",
       "    .dataframe thead th {\n",
       "        text-align: right;\n",
       "    }\n",
       "</style>\n",
       "<table border=\"1\" class=\"dataframe\">\n",
       "  <thead>\n",
       "    <tr style=\"text-align: right;\">\n",
       "      <th></th>\n",
       "      <th>insee</th>\n",
       "      <th>ville</th>\n",
       "      <th>lat</th>\n",
       "      <th>lon</th>\n",
       "      <th>date</th>\n",
       "      <th>tmin</th>\n",
       "      <th>tmax</th>\n",
       "      <th>pluie</th>\n",
       "    </tr>\n",
       "  </thead>\n",
       "  <tbody>\n",
       "    <tr>\n",
       "      <th>0</th>\n",
       "      <td>5035351</td>\n",
       "      <td>Mont Saint Michel</td>\n",
       "      <td>48.635954</td>\n",
       "      <td>-1.511460</td>\n",
       "      <td>2025-10-20</td>\n",
       "      <td>12.6</td>\n",
       "      <td>17.4</td>\n",
       "      <td>1.7</td>\n",
       "    </tr>\n",
       "    <tr>\n",
       "      <th>1</th>\n",
       "      <td>5035351</td>\n",
       "      <td>Mont Saint Michel</td>\n",
       "      <td>48.635954</td>\n",
       "      <td>-1.511460</td>\n",
       "      <td>2025-10-21</td>\n",
       "      <td>11.4</td>\n",
       "      <td>16.9</td>\n",
       "      <td>0.8</td>\n",
       "    </tr>\n",
       "    <tr>\n",
       "      <th>2</th>\n",
       "      <td>5035351</td>\n",
       "      <td>Mont Saint Michel</td>\n",
       "      <td>48.635954</td>\n",
       "      <td>-1.511460</td>\n",
       "      <td>2025-10-22</td>\n",
       "      <td>12.1</td>\n",
       "      <td>17.9</td>\n",
       "      <td>15.0</td>\n",
       "    </tr>\n",
       "    <tr>\n",
       "      <th>3</th>\n",
       "      <td>5035351</td>\n",
       "      <td>Mont Saint Michel</td>\n",
       "      <td>48.635954</td>\n",
       "      <td>-1.511460</td>\n",
       "      <td>2025-10-23</td>\n",
       "      <td>10.6</td>\n",
       "      <td>13.5</td>\n",
       "      <td>21.6</td>\n",
       "    </tr>\n",
       "    <tr>\n",
       "      <th>4</th>\n",
       "      <td>5035351</td>\n",
       "      <td>Mont Saint Michel</td>\n",
       "      <td>48.635954</td>\n",
       "      <td>-1.511460</td>\n",
       "      <td>2025-10-24</td>\n",
       "      <td>7.6</td>\n",
       "      <td>13.6</td>\n",
       "      <td>13.4</td>\n",
       "    </tr>\n",
       "    <tr>\n",
       "      <th>...</th>\n",
       "      <td>...</td>\n",
       "      <td>...</td>\n",
       "      <td>...</td>\n",
       "      <td>...</td>\n",
       "      <td>...</td>\n",
       "      <td>...</td>\n",
       "      <td>...</td>\n",
       "      <td>...</td>\n",
       "    </tr>\n",
       "    <tr>\n",
       "      <th>240</th>\n",
       "      <td>173000</td>\n",
       "      <td>La Rochelle</td>\n",
       "      <td>46.159732</td>\n",
       "      <td>-1.151595</td>\n",
       "      <td>2025-10-22</td>\n",
       "      <td>15.2</td>\n",
       "      <td>18.2</td>\n",
       "      <td>23.2</td>\n",
       "    </tr>\n",
       "    <tr>\n",
       "      <th>241</th>\n",
       "      <td>173000</td>\n",
       "      <td>La Rochelle</td>\n",
       "      <td>46.159732</td>\n",
       "      <td>-1.151595</td>\n",
       "      <td>2025-10-23</td>\n",
       "      <td>12.6</td>\n",
       "      <td>16.0</td>\n",
       "      <td>9.7</td>\n",
       "    </tr>\n",
       "    <tr>\n",
       "      <th>242</th>\n",
       "      <td>173000</td>\n",
       "      <td>La Rochelle</td>\n",
       "      <td>46.159732</td>\n",
       "      <td>-1.151595</td>\n",
       "      <td>2025-10-24</td>\n",
       "      <td>12.0</td>\n",
       "      <td>15.5</td>\n",
       "      <td>4.4</td>\n",
       "    </tr>\n",
       "    <tr>\n",
       "      <th>243</th>\n",
       "      <td>173000</td>\n",
       "      <td>La Rochelle</td>\n",
       "      <td>46.159732</td>\n",
       "      <td>-1.151595</td>\n",
       "      <td>2025-10-25</td>\n",
       "      <td>11.1</td>\n",
       "      <td>15.7</td>\n",
       "      <td>2.1</td>\n",
       "    </tr>\n",
       "    <tr>\n",
       "      <th>244</th>\n",
       "      <td>173000</td>\n",
       "      <td>La Rochelle</td>\n",
       "      <td>46.159732</td>\n",
       "      <td>-1.151595</td>\n",
       "      <td>2025-10-26</td>\n",
       "      <td>7.6</td>\n",
       "      <td>13.9</td>\n",
       "      <td>1.4</td>\n",
       "    </tr>\n",
       "  </tbody>\n",
       "</table>\n",
       "<p>245 rows × 8 columns</p>\n",
       "</div>"
      ],
      "text/plain": [
       "       insee              ville        lat       lon        date  tmin  tmax  \\\n",
       "0    5035351  Mont Saint Michel  48.635954 -1.511460  2025-10-20  12.6  17.4   \n",
       "1    5035351  Mont Saint Michel  48.635954 -1.511460  2025-10-21  11.4  16.9   \n",
       "2    5035351  Mont Saint Michel  48.635954 -1.511460  2025-10-22  12.1  17.9   \n",
       "3    5035351  Mont Saint Michel  48.635954 -1.511460  2025-10-23  10.6  13.5   \n",
       "4    5035351  Mont Saint Michel  48.635954 -1.511460  2025-10-24   7.6  13.6   \n",
       "..       ...                ...        ...       ...         ...   ...   ...   \n",
       "240   173000        La Rochelle  46.159732 -1.151595  2025-10-22  15.2  18.2   \n",
       "241   173000        La Rochelle  46.159732 -1.151595  2025-10-23  12.6  16.0   \n",
       "242   173000        La Rochelle  46.159732 -1.151595  2025-10-24  12.0  15.5   \n",
       "243   173000        La Rochelle  46.159732 -1.151595  2025-10-25  11.1  15.7   \n",
       "244   173000        La Rochelle  46.159732 -1.151595  2025-10-26   7.6  13.9   \n",
       "\n",
       "     pluie  \n",
       "0      1.7  \n",
       "1      0.8  \n",
       "2     15.0  \n",
       "3     21.6  \n",
       "4     13.4  \n",
       "..     ...  \n",
       "240   23.2  \n",
       "241    9.7  \n",
       "242    4.4  \n",
       "243    2.1  \n",
       "244    1.4  \n",
       "\n",
       "[245 rows x 8 columns]"
      ]
     },
     "execution_count": 14,
     "metadata": {},
     "output_type": "execute_result"
    }
   ],
   "source": [
    "# Creation of empty variable to put futur data\n",
    "data_weather = []\n",
    "\n",
    "# loop to fetch infos on each location\n",
    "for place in holy_place:\n",
    "    city, daily_forecast, id_place, lat, lon = get_forecast_by_city_fordf(place)\n",
    "    if daily_forecast:\n",
    "        for day in daily_forecast:\n",
    "            row = {\n",
    "                \"insee\": id_place,                \n",
    "                \"ville\": city,\n",
    "                \"lat\": lat,\n",
    "                \"lon\": lon,\n",
    "                \"date\": datetime.fromtimestamp(day[\"dt\"]).strftime(\"%Y-%m-%d\"),\n",
    "                \"tmin\": day[\"T\"][\"min\"],\n",
    "                \"tmax\": day[\"T\"][\"max\"],\n",
    "                \"pluie\": day['precipitation']['24h']\n",
    "            }\n",
    "            data_weather.append(row)\n",
    "\n",
    "# Creation of df with all data\n",
    "df_weather = pd.DataFrame(data_weather)\n",
    "df_weather"
   ]
  },
  {
   "cell_type": "code",
   "execution_count": null,
   "metadata": {},
   "outputs": [],
   "source": [
    "# Save df as csv file\n",
    "pd.DataFrame.to_csv(df_weather, \"data/weather.csv\", index=False)"
   ]
  },
  {
   "cell_type": "markdown",
   "metadata": {},
   "source": [
    "## 3.2. Clean data"
   ]
  },
  {
   "cell_type": "code",
   "execution_count": 5,
   "metadata": {},
   "outputs": [
    {
     "name": "stdout",
     "output_type": "stream",
     "text": [
      "⚠️ DataFrame introuvable → import depuis CSV\n",
      "<class 'pandas.core.frame.DataFrame'>\n",
      "RangeIndex: 245 entries, 0 to 244\n",
      "Data columns (total 8 columns):\n",
      " #   Column  Non-Null Count  Dtype  \n",
      "---  ------  --------------  -----  \n",
      " 0   insee   245 non-null    int64  \n",
      " 1   ville   245 non-null    object \n",
      " 2   lat     245 non-null    float64\n",
      " 3   lon     245 non-null    float64\n",
      " 4   date    245 non-null    object \n",
      " 5   tmin    245 non-null    float64\n",
      " 6   tmax    245 non-null    float64\n",
      " 7   pluie   245 non-null    float64\n",
      "dtypes: float64(5), int64(1), object(2)\n",
      "memory usage: 15.4+ KB\n",
      "None\n"
     ]
    }
   ],
   "source": [
    "try:\n",
    "    # try to use an already existing df\n",
    "    df_weather\n",
    "    print(\"✅ DataFrame déjà disponible en mémoire\")\n",
    "\n",
    "except NameError:\n",
    "    # if df does not exist → we read it from the CSV\n",
    "    print(\"⚠️ DataFrame introuvable → import depuis CSV\")\n",
    "    df_weather = pd.read_csv(\"data/weather.csv\")\n",
    "    print(df_weather.info())"
   ]
  },
  {
   "cell_type": "code",
   "execution_count": 6,
   "metadata": {},
   "outputs": [
    {
     "data": {
      "text/html": [
       "<div>\n",
       "<style scoped>\n",
       "    .dataframe tbody tr th:only-of-type {\n",
       "        vertical-align: middle;\n",
       "    }\n",
       "\n",
       "    .dataframe tbody tr th {\n",
       "        vertical-align: top;\n",
       "    }\n",
       "\n",
       "    .dataframe thead th {\n",
       "        text-align: right;\n",
       "    }\n",
       "</style>\n",
       "<table border=\"1\" class=\"dataframe\">\n",
       "  <thead>\n",
       "    <tr style=\"text-align: right;\">\n",
       "      <th></th>\n",
       "      <th>insee</th>\n",
       "      <th>ville</th>\n",
       "      <th>lat</th>\n",
       "      <th>lon</th>\n",
       "      <th>date</th>\n",
       "      <th>tmin</th>\n",
       "      <th>tmax</th>\n",
       "      <th>pluie</th>\n",
       "      <th>td_mean</th>\n",
       "    </tr>\n",
       "  </thead>\n",
       "  <tbody>\n",
       "    <tr>\n",
       "      <th>0</th>\n",
       "      <td>5035351</td>\n",
       "      <td>Mont Saint Michel</td>\n",
       "      <td>48.635954</td>\n",
       "      <td>-1.51146</td>\n",
       "      <td>2025-10-20</td>\n",
       "      <td>12.6</td>\n",
       "      <td>17.4</td>\n",
       "      <td>1.7</td>\n",
       "      <td>15.00</td>\n",
       "    </tr>\n",
       "    <tr>\n",
       "      <th>1</th>\n",
       "      <td>5035351</td>\n",
       "      <td>Mont Saint Michel</td>\n",
       "      <td>48.635954</td>\n",
       "      <td>-1.51146</td>\n",
       "      <td>2025-10-21</td>\n",
       "      <td>11.4</td>\n",
       "      <td>16.9</td>\n",
       "      <td>0.8</td>\n",
       "      <td>14.15</td>\n",
       "    </tr>\n",
       "    <tr>\n",
       "      <th>2</th>\n",
       "      <td>5035351</td>\n",
       "      <td>Mont Saint Michel</td>\n",
       "      <td>48.635954</td>\n",
       "      <td>-1.51146</td>\n",
       "      <td>2025-10-22</td>\n",
       "      <td>12.1</td>\n",
       "      <td>17.9</td>\n",
       "      <td>15.0</td>\n",
       "      <td>15.00</td>\n",
       "    </tr>\n",
       "    <tr>\n",
       "      <th>3</th>\n",
       "      <td>5035351</td>\n",
       "      <td>Mont Saint Michel</td>\n",
       "      <td>48.635954</td>\n",
       "      <td>-1.51146</td>\n",
       "      <td>2025-10-23</td>\n",
       "      <td>10.6</td>\n",
       "      <td>13.5</td>\n",
       "      <td>21.6</td>\n",
       "      <td>12.05</td>\n",
       "    </tr>\n",
       "    <tr>\n",
       "      <th>4</th>\n",
       "      <td>5035351</td>\n",
       "      <td>Mont Saint Michel</td>\n",
       "      <td>48.635954</td>\n",
       "      <td>-1.51146</td>\n",
       "      <td>2025-10-24</td>\n",
       "      <td>7.6</td>\n",
       "      <td>13.6</td>\n",
       "      <td>13.4</td>\n",
       "      <td>10.60</td>\n",
       "    </tr>\n",
       "  </tbody>\n",
       "</table>\n",
       "</div>"
      ],
      "text/plain": [
       "     insee              ville        lat      lon        date  tmin  tmax  \\\n",
       "0  5035351  Mont Saint Michel  48.635954 -1.51146  2025-10-20  12.6  17.4   \n",
       "1  5035351  Mont Saint Michel  48.635954 -1.51146  2025-10-21  11.4  16.9   \n",
       "2  5035351  Mont Saint Michel  48.635954 -1.51146  2025-10-22  12.1  17.9   \n",
       "3  5035351  Mont Saint Michel  48.635954 -1.51146  2025-10-23  10.6  13.5   \n",
       "4  5035351  Mont Saint Michel  48.635954 -1.51146  2025-10-24   7.6  13.6   \n",
       "\n",
       "   pluie  td_mean  \n",
       "0    1.7    15.00  \n",
       "1    0.8    14.15  \n",
       "2   15.0    15.00  \n",
       "3   21.6    12.05  \n",
       "4   13.4    10.60  "
      ]
     },
     "execution_count": 6,
     "metadata": {},
     "output_type": "execute_result"
    }
   ],
   "source": [
    "# Calculate mean temperature for each day and place\n",
    "df_weather['td_mean'] = np.mean(df_weather[['tmin', 'tmax']], axis=1)\n",
    "df_weather.head()"
   ]
  },
  {
   "cell_type": "code",
   "execution_count": 7,
   "metadata": {},
   "outputs": [
    {
     "data": {
      "text/html": [
       "<div>\n",
       "<style scoped>\n",
       "    .dataframe tbody tr th:only-of-type {\n",
       "        vertical-align: middle;\n",
       "    }\n",
       "\n",
       "    .dataframe tbody tr th {\n",
       "        vertical-align: top;\n",
       "    }\n",
       "\n",
       "    .dataframe thead th {\n",
       "        text-align: right;\n",
       "    }\n",
       "</style>\n",
       "<table border=\"1\" class=\"dataframe\">\n",
       "  <thead>\n",
       "    <tr style=\"text-align: right;\">\n",
       "      <th></th>\n",
       "      <th>insee</th>\n",
       "      <th>ville</th>\n",
       "      <th>lat</th>\n",
       "      <th>lon</th>\n",
       "      <th>date</th>\n",
       "      <th>tmin</th>\n",
       "      <th>tmax</th>\n",
       "      <th>pluie</th>\n",
       "      <th>td_mean</th>\n",
       "      <th>pluiew_mean</th>\n",
       "      <th>tw_mean</th>\n",
       "    </tr>\n",
       "  </thead>\n",
       "  <tbody>\n",
       "    <tr>\n",
       "      <th>0</th>\n",
       "      <td>5035351</td>\n",
       "      <td>Mont Saint Michel</td>\n",
       "      <td>48.635954</td>\n",
       "      <td>-1.51146</td>\n",
       "      <td>2025-10-20</td>\n",
       "      <td>12.6</td>\n",
       "      <td>17.4</td>\n",
       "      <td>1.7</td>\n",
       "      <td>15.00</td>\n",
       "      <td>10.457143</td>\n",
       "      <td>12.385714</td>\n",
       "    </tr>\n",
       "    <tr>\n",
       "      <th>1</th>\n",
       "      <td>5035351</td>\n",
       "      <td>Mont Saint Michel</td>\n",
       "      <td>48.635954</td>\n",
       "      <td>-1.51146</td>\n",
       "      <td>2025-10-21</td>\n",
       "      <td>11.4</td>\n",
       "      <td>16.9</td>\n",
       "      <td>0.8</td>\n",
       "      <td>14.15</td>\n",
       "      <td>10.457143</td>\n",
       "      <td>12.385714</td>\n",
       "    </tr>\n",
       "    <tr>\n",
       "      <th>2</th>\n",
       "      <td>5035351</td>\n",
       "      <td>Mont Saint Michel</td>\n",
       "      <td>48.635954</td>\n",
       "      <td>-1.51146</td>\n",
       "      <td>2025-10-22</td>\n",
       "      <td>12.1</td>\n",
       "      <td>17.9</td>\n",
       "      <td>15.0</td>\n",
       "      <td>15.00</td>\n",
       "      <td>10.457143</td>\n",
       "      <td>12.385714</td>\n",
       "    </tr>\n",
       "    <tr>\n",
       "      <th>3</th>\n",
       "      <td>5035351</td>\n",
       "      <td>Mont Saint Michel</td>\n",
       "      <td>48.635954</td>\n",
       "      <td>-1.51146</td>\n",
       "      <td>2025-10-23</td>\n",
       "      <td>10.6</td>\n",
       "      <td>13.5</td>\n",
       "      <td>21.6</td>\n",
       "      <td>12.05</td>\n",
       "      <td>10.457143</td>\n",
       "      <td>12.385714</td>\n",
       "    </tr>\n",
       "    <tr>\n",
       "      <th>4</th>\n",
       "      <td>5035351</td>\n",
       "      <td>Mont Saint Michel</td>\n",
       "      <td>48.635954</td>\n",
       "      <td>-1.51146</td>\n",
       "      <td>2025-10-24</td>\n",
       "      <td>7.6</td>\n",
       "      <td>13.6</td>\n",
       "      <td>13.4</td>\n",
       "      <td>10.60</td>\n",
       "      <td>10.457143</td>\n",
       "      <td>12.385714</td>\n",
       "    </tr>\n",
       "  </tbody>\n",
       "</table>\n",
       "</div>"
      ],
      "text/plain": [
       "     insee              ville        lat      lon        date  tmin  tmax  \\\n",
       "0  5035351  Mont Saint Michel  48.635954 -1.51146  2025-10-20  12.6  17.4   \n",
       "1  5035351  Mont Saint Michel  48.635954 -1.51146  2025-10-21  11.4  16.9   \n",
       "2  5035351  Mont Saint Michel  48.635954 -1.51146  2025-10-22  12.1  17.9   \n",
       "3  5035351  Mont Saint Michel  48.635954 -1.51146  2025-10-23  10.6  13.5   \n",
       "4  5035351  Mont Saint Michel  48.635954 -1.51146  2025-10-24   7.6  13.6   \n",
       "\n",
       "   pluie  td_mean  pluiew_mean    tw_mean  \n",
       "0    1.7    15.00    10.457143  12.385714  \n",
       "1    0.8    14.15    10.457143  12.385714  \n",
       "2   15.0    15.00    10.457143  12.385714  \n",
       "3   21.6    12.05    10.457143  12.385714  \n",
       "4   13.4    10.60    10.457143  12.385714  "
      ]
     },
     "execution_count": 7,
     "metadata": {},
     "output_type": "execute_result"
    }
   ],
   "source": [
    "# Copy to work without deleting data\n",
    "df_w = df_weather.copy(deep=True)\n",
    "\n",
    "# Calculate mean precipitation on the 7 days for each place \n",
    "df_w['pluiew_mean'] = df_w.groupby('insee')['pluie'].transform(\"mean\")\n",
    "\n",
    "# Calculate mean temperature on the 7 days for each place\n",
    "df_w['tw_mean'] = df_w.groupby('insee')['td_mean'].transform(\"mean\")\n",
    "\n",
    "df_w.head()"
   ]
  },
  {
   "cell_type": "code",
   "execution_count": 8,
   "metadata": {},
   "outputs": [
    {
     "data": {
      "text/html": [
       "<div>\n",
       "<style scoped>\n",
       "    .dataframe tbody tr th:only-of-type {\n",
       "        vertical-align: middle;\n",
       "    }\n",
       "\n",
       "    .dataframe tbody tr th {\n",
       "        vertical-align: top;\n",
       "    }\n",
       "\n",
       "    .dataframe thead th {\n",
       "        text-align: right;\n",
       "    }\n",
       "</style>\n",
       "<table border=\"1\" class=\"dataframe\">\n",
       "  <thead>\n",
       "    <tr style=\"text-align: right;\">\n",
       "      <th></th>\n",
       "      <th>insee</th>\n",
       "      <th>ville</th>\n",
       "      <th>lat</th>\n",
       "      <th>lon</th>\n",
       "      <th>date</th>\n",
       "      <th>pluiew_mean</th>\n",
       "      <th>tw_mean</th>\n",
       "    </tr>\n",
       "  </thead>\n",
       "  <tbody>\n",
       "    <tr>\n",
       "      <th>0</th>\n",
       "      <td>41440</td>\n",
       "      <td>Gorges du Verdon</td>\n",
       "      <td>43.749656</td>\n",
       "      <td>6.328562</td>\n",
       "      <td>2025-10-26</td>\n",
       "      <td>10.042857</td>\n",
       "      <td>9.528571</td>\n",
       "    </tr>\n",
       "    <tr>\n",
       "      <th>1</th>\n",
       "      <td>91960</td>\n",
       "      <td>Ariege</td>\n",
       "      <td>42.945537</td>\n",
       "      <td>1.406554</td>\n",
       "      <td>2025-10-26</td>\n",
       "      <td>4.857143</td>\n",
       "      <td>11.450000</td>\n",
       "    </tr>\n",
       "    <tr>\n",
       "      <th>2</th>\n",
       "      <td>110690</td>\n",
       "      <td>Carcassonne</td>\n",
       "      <td>43.213036</td>\n",
       "      <td>2.349107</td>\n",
       "      <td>2025-10-26</td>\n",
       "      <td>2.728571</td>\n",
       "      <td>15.478571</td>\n",
       "    </tr>\n",
       "    <tr>\n",
       "      <th>3</th>\n",
       "      <td>130010</td>\n",
       "      <td>Aix en Provence</td>\n",
       "      <td>43.529842</td>\n",
       "      <td>5.447474</td>\n",
       "      <td>2025-10-26</td>\n",
       "      <td>5.257143</td>\n",
       "      <td>14.292857</td>\n",
       "    </tr>\n",
       "    <tr>\n",
       "      <th>4</th>\n",
       "      <td>130220</td>\n",
       "      <td>Cassis</td>\n",
       "      <td>43.214036</td>\n",
       "      <td>5.539632</td>\n",
       "      <td>2025-10-26</td>\n",
       "      <td>3.357143</td>\n",
       "      <td>16.971429</td>\n",
       "    </tr>\n",
       "  </tbody>\n",
       "</table>\n",
       "</div>"
      ],
      "text/plain": [
       "    insee             ville        lat       lon        date  pluiew_mean  \\\n",
       "0   41440  Gorges du Verdon  43.749656  6.328562  2025-10-26    10.042857   \n",
       "1   91960            Ariege  42.945537  1.406554  2025-10-26     4.857143   \n",
       "2  110690       Carcassonne  43.213036  2.349107  2025-10-26     2.728571   \n",
       "3  130010   Aix en Provence  43.529842  5.447474  2025-10-26     5.257143   \n",
       "4  130220            Cassis  43.214036  5.539632  2025-10-26     3.357143   \n",
       "\n",
       "     tw_mean  \n",
       "0   9.528571  \n",
       "1  11.450000  \n",
       "2  15.478571  \n",
       "3  14.292857  \n",
       "4  16.971429  "
      ]
     },
     "execution_count": 8,
     "metadata": {},
     "output_type": "execute_result"
    }
   ],
   "source": [
    "# Keep 1 line for each city\n",
    "df_w1 = df_w.groupby(by='insee').last().reset_index()\n",
    "\n",
    "# Drop useless columns\n",
    "df_w2 = df_w1.drop(columns=['tmin', 'tmax', 'pluie', 'td_mean'])\n",
    "\n",
    "df_w2.head()"
   ]
  },
  {
   "cell_type": "code",
   "execution_count": null,
   "metadata": {},
   "outputs": [],
   "source": [
    "# Save to csv file\n",
    "pd.DataFrame.to_csv(df_w2, \"data/cities_weather.csv\", index=False)"
   ]
  },
  {
   "cell_type": "code",
   "execution_count": 9,
   "metadata": {},
   "outputs": [
    {
     "data": {
      "text/html": [
       "<div>\n",
       "<style scoped>\n",
       "    .dataframe tbody tr th:only-of-type {\n",
       "        vertical-align: middle;\n",
       "    }\n",
       "\n",
       "    .dataframe tbody tr th {\n",
       "        vertical-align: top;\n",
       "    }\n",
       "\n",
       "    .dataframe thead th {\n",
       "        text-align: right;\n",
       "    }\n",
       "</style>\n",
       "<table border=\"1\" class=\"dataframe\">\n",
       "  <thead>\n",
       "    <tr style=\"text-align: right;\">\n",
       "      <th></th>\n",
       "      <th>insee</th>\n",
       "      <th>ville</th>\n",
       "      <th>lat</th>\n",
       "      <th>lon</th>\n",
       "      <th>date</th>\n",
       "      <th>pluiew_mean</th>\n",
       "      <th>tw_mean</th>\n",
       "    </tr>\n",
       "  </thead>\n",
       "  <tbody>\n",
       "    <tr>\n",
       "      <th>2</th>\n",
       "      <td>110690</td>\n",
       "      <td>Carcassonne</td>\n",
       "      <td>43.213036</td>\n",
       "      <td>2.349107</td>\n",
       "      <td>2025-10-26</td>\n",
       "      <td>2.728571</td>\n",
       "      <td>15.478571</td>\n",
       "    </tr>\n",
       "    <tr>\n",
       "      <th>5</th>\n",
       "      <td>130550</td>\n",
       "      <td>Marseille</td>\n",
       "      <td>43.296174</td>\n",
       "      <td>5.369953</td>\n",
       "      <td>2025-10-26</td>\n",
       "      <td>1.785714</td>\n",
       "      <td>17.071429</td>\n",
       "    </tr>\n",
       "    <tr>\n",
       "      <th>10</th>\n",
       "      <td>300030</td>\n",
       "      <td>Aigues Mortes</td>\n",
       "      <td>43.566152</td>\n",
       "      <td>4.191540</td>\n",
       "      <td>2025-10-26</td>\n",
       "      <td>1.328571</td>\n",
       "      <td>16.921429</td>\n",
       "    </tr>\n",
       "    <tr>\n",
       "      <th>11</th>\n",
       "      <td>301890</td>\n",
       "      <td>Nimes</td>\n",
       "      <td>43.837425</td>\n",
       "      <td>4.360069</td>\n",
       "      <td>2025-10-26</td>\n",
       "      <td>1.785714</td>\n",
       "      <td>16.264286</td>\n",
       "    </tr>\n",
       "    <tr>\n",
       "      <th>17</th>\n",
       "      <td>660530</td>\n",
       "      <td>Collioure</td>\n",
       "      <td>42.525050</td>\n",
       "      <td>3.083155</td>\n",
       "      <td>2025-10-26</td>\n",
       "      <td>0.742857</td>\n",
       "      <td>18.000000</td>\n",
       "    </tr>\n",
       "    <tr>\n",
       "      <th>31</th>\n",
       "      <td>1309651</td>\n",
       "      <td>Saintes Maries de la mer</td>\n",
       "      <td>43.451592</td>\n",
       "      <td>4.427720</td>\n",
       "      <td>2025-10-26</td>\n",
       "      <td>0.771429</td>\n",
       "      <td>17.014286</td>\n",
       "    </tr>\n",
       "  </tbody>\n",
       "</table>\n",
       "</div>"
      ],
      "text/plain": [
       "      insee                     ville        lat       lon        date  \\\n",
       "2    110690               Carcassonne  43.213036  2.349107  2025-10-26   \n",
       "5    130550                 Marseille  43.296174  5.369953  2025-10-26   \n",
       "10   300030             Aigues Mortes  43.566152  4.191540  2025-10-26   \n",
       "11   301890                     Nimes  43.837425  4.360069  2025-10-26   \n",
       "17   660530                 Collioure  42.525050  3.083155  2025-10-26   \n",
       "31  1309651  Saintes Maries de la mer  43.451592  4.427720  2025-10-26   \n",
       "\n",
       "    pluiew_mean    tw_mean  \n",
       "2      2.728571  15.478571  \n",
       "5      1.785714  17.071429  \n",
       "10     1.328571  16.921429  \n",
       "11     1.785714  16.264286  \n",
       "17     0.742857  18.000000  \n",
       "31     0.771429  17.014286  "
      ]
     },
     "execution_count": 9,
     "metadata": {},
     "output_type": "execute_result"
    }
   ],
   "source": [
    "# Keep only cities with mean precipitations less than 3mm\n",
    "df_w3 = df_w2[df_w2['pluiew_mean'] <= 3 ]\n",
    "df_w3.head(10)"
   ]
  },
  {
   "cell_type": "code",
   "execution_count": 10,
   "metadata": {},
   "outputs": [
    {
     "data": {
      "text/html": [
       "<div>\n",
       "<style scoped>\n",
       "    .dataframe tbody tr th:only-of-type {\n",
       "        vertical-align: middle;\n",
       "    }\n",
       "\n",
       "    .dataframe tbody tr th {\n",
       "        vertical-align: top;\n",
       "    }\n",
       "\n",
       "    .dataframe thead th {\n",
       "        text-align: right;\n",
       "    }\n",
       "</style>\n",
       "<table border=\"1\" class=\"dataframe\">\n",
       "  <thead>\n",
       "    <tr style=\"text-align: right;\">\n",
       "      <th></th>\n",
       "      <th>insee</th>\n",
       "      <th>ville</th>\n",
       "      <th>lat</th>\n",
       "      <th>lon</th>\n",
       "      <th>date</th>\n",
       "      <th>pluiew_mean</th>\n",
       "      <th>tw_mean</th>\n",
       "    </tr>\n",
       "  </thead>\n",
       "  <tbody>\n",
       "    <tr>\n",
       "      <th>17</th>\n",
       "      <td>660530</td>\n",
       "      <td>Collioure</td>\n",
       "      <td>42.525050</td>\n",
       "      <td>3.083155</td>\n",
       "      <td>2025-10-26</td>\n",
       "      <td>0.742857</td>\n",
       "      <td>18.000000</td>\n",
       "    </tr>\n",
       "    <tr>\n",
       "      <th>5</th>\n",
       "      <td>130550</td>\n",
       "      <td>Marseille</td>\n",
       "      <td>43.296174</td>\n",
       "      <td>5.369953</td>\n",
       "      <td>2025-10-26</td>\n",
       "      <td>1.785714</td>\n",
       "      <td>17.071429</td>\n",
       "    </tr>\n",
       "    <tr>\n",
       "      <th>31</th>\n",
       "      <td>1309651</td>\n",
       "      <td>Saintes Maries de la mer</td>\n",
       "      <td>43.451592</td>\n",
       "      <td>4.427720</td>\n",
       "      <td>2025-10-26</td>\n",
       "      <td>0.771429</td>\n",
       "      <td>17.014286</td>\n",
       "    </tr>\n",
       "    <tr>\n",
       "      <th>10</th>\n",
       "      <td>300030</td>\n",
       "      <td>Aigues Mortes</td>\n",
       "      <td>43.566152</td>\n",
       "      <td>4.191540</td>\n",
       "      <td>2025-10-26</td>\n",
       "      <td>1.328571</td>\n",
       "      <td>16.921429</td>\n",
       "    </tr>\n",
       "    <tr>\n",
       "      <th>11</th>\n",
       "      <td>301890</td>\n",
       "      <td>Nimes</td>\n",
       "      <td>43.837425</td>\n",
       "      <td>4.360069</td>\n",
       "      <td>2025-10-26</td>\n",
       "      <td>1.785714</td>\n",
       "      <td>16.264286</td>\n",
       "    </tr>\n",
       "  </tbody>\n",
       "</table>\n",
       "</div>"
      ],
      "text/plain": [
       "      insee                     ville        lat       lon        date  \\\n",
       "17   660530                 Collioure  42.525050  3.083155  2025-10-26   \n",
       "5    130550                 Marseille  43.296174  5.369953  2025-10-26   \n",
       "31  1309651  Saintes Maries de la mer  43.451592  4.427720  2025-10-26   \n",
       "10   300030             Aigues Mortes  43.566152  4.191540  2025-10-26   \n",
       "11   301890                     Nimes  43.837425  4.360069  2025-10-26   \n",
       "\n",
       "    pluiew_mean    tw_mean  \n",
       "17     0.742857  18.000000  \n",
       "5      1.785714  17.071429  \n",
       "31     0.771429  17.014286  \n",
       "10     1.328571  16.921429  \n",
       "11     1.785714  16.264286  "
      ]
     },
     "execution_count": 10,
     "metadata": {},
     "output_type": "execute_result"
    }
   ],
   "source": [
    "# Extract in a new df the 5 cities with the best mean temperature\n",
    "df_w4 = df_w3.sort_values(by='tw_mean', ascending=False)\n",
    "df_w5 = df_w4.head(5)\n",
    "df_w5"
   ]
  },
  {
   "cell_type": "markdown",
   "metadata": {},
   "source": [
    "## 3.3. Visualization"
   ]
  },
  {
   "cell_type": "code",
   "execution_count": 11,
   "metadata": {},
   "outputs": [
    {
     "data": {
      "application/vnd.plotly.v1+json": {
       "config": {
        "plotlyServerURL": "https://plot.ly"
       },
       "data": [
        {
         "customdata": {
          "bdata": "WHzFV3zF5z8AAAAAAAAyQCVJkiRJkvw/JUmSJEkSMUD5iq/4iq/oPzqogzqoAzFAHtRBHdRB9T++4iu+4uswQCVJkiRJkvw/OqiDOqhDMEA=",
          "dtype": "f8",
          "shape": "5, 2"
         },
         "hovertemplate": "<b>%{hovertext}</b><br><br>tw_mean=%{marker.color}<br>lat=%{lat}<br>lon=%{lon}<br>pluiew_mean=%{customdata[0]}<extra></extra>",
         "hovertext": [
          "Collioure",
          "Marseille",
          "Saintes Maries de la mer",
          "Aigues Mortes",
          "Nimes"
         ],
         "lat": {
          "bdata": "5WGh1jRDRUA1NRoK6aVFQHkQ8cXNuUVA5gcJrHfIRUCULTe9MOtFQA==",
          "dtype": "f8"
         },
         "legendgroup": "",
         "lon": {
          "bdata": "6uLbYE2qCEA0SwLU1HoVQLVau0j8tRFA3IDPDyPEEEDBQGvZtXARQA==",
          "dtype": "f8"
         },
         "marker": {
          "color": {
           "bdata": "AAAAAAAAMkAlSZIkSRIxQDqogzqoAzFAvuIrvuLrMEA6qIM6qEMwQA==",
           "dtype": "f8"
          },
          "coloraxis": "coloraxis",
          "size": {
           "bdata": "AAAAAAAAMkAlSZIkSRIxQDqogzqoAzFAvuIrvuLrMEA6qIM6qEMwQA==",
           "dtype": "f8"
          },
          "sizemode": "area",
          "sizeref": 0.045
         },
         "mode": "markers",
         "name": "",
         "showlegend": false,
         "subplot": "map",
         "type": "scattermap"
        }
       ],
       "layout": {
        "coloraxis": {
         "colorbar": {
          "title": {
           "text": "tw_mean"
          }
         },
         "colorscale": [
          [
           0,
           "#0d0887"
          ],
          [
           0.1111111111111111,
           "#46039f"
          ],
          [
           0.2222222222222222,
           "#7201a8"
          ],
          [
           0.3333333333333333,
           "#9c179e"
          ],
          [
           0.4444444444444444,
           "#bd3786"
          ],
          [
           0.5555555555555556,
           "#d8576b"
          ],
          [
           0.6666666666666666,
           "#ed7953"
          ],
          [
           0.7777777777777778,
           "#fb9f3a"
          ],
          [
           0.8888888888888888,
           "#fdca26"
          ],
          [
           1,
           "#f0f921"
          ]
         ]
        },
        "geo": {
         "fitbounds": "locations"
        },
        "height": 500,
        "legend": {
         "itemsizing": "constant",
         "tracegroupgap": 0
        },
        "map": {
         "center": {
          "lat": 43.335278699999996,
          "lon": 4.28648736
         },
         "domain": {
          "x": [
           0,
           1
          ],
          "y": [
           0,
           1
          ]
         },
         "style": "basic",
         "zoom": 5
        },
        "mapbox": {
         "center": {
          "lat": 43.335278699999996,
          "lon": 4.28648736
         },
         "zoom": 5
        },
        "margin": {
         "b": 0,
         "l": 0,
         "r": 0,
         "t": 0
        },
        "template": {
         "data": {
          "bar": [
           {
            "error_x": {
             "color": "#2a3f5f"
            },
            "error_y": {
             "color": "#2a3f5f"
            },
            "marker": {
             "line": {
              "color": "#E5ECF6",
              "width": 0.5
             },
             "pattern": {
              "fillmode": "overlay",
              "size": 10,
              "solidity": 0.2
             }
            },
            "type": "bar"
           }
          ],
          "barpolar": [
           {
            "marker": {
             "line": {
              "color": "#E5ECF6",
              "width": 0.5
             },
             "pattern": {
              "fillmode": "overlay",
              "size": 10,
              "solidity": 0.2
             }
            },
            "type": "barpolar"
           }
          ],
          "carpet": [
           {
            "aaxis": {
             "endlinecolor": "#2a3f5f",
             "gridcolor": "white",
             "linecolor": "white",
             "minorgridcolor": "white",
             "startlinecolor": "#2a3f5f"
            },
            "baxis": {
             "endlinecolor": "#2a3f5f",
             "gridcolor": "white",
             "linecolor": "white",
             "minorgridcolor": "white",
             "startlinecolor": "#2a3f5f"
            },
            "type": "carpet"
           }
          ],
          "choropleth": [
           {
            "colorbar": {
             "outlinewidth": 0,
             "ticks": ""
            },
            "type": "choropleth"
           }
          ],
          "contour": [
           {
            "colorbar": {
             "outlinewidth": 0,
             "ticks": ""
            },
            "colorscale": [
             [
              0,
              "#0d0887"
             ],
             [
              0.1111111111111111,
              "#46039f"
             ],
             [
              0.2222222222222222,
              "#7201a8"
             ],
             [
              0.3333333333333333,
              "#9c179e"
             ],
             [
              0.4444444444444444,
              "#bd3786"
             ],
             [
              0.5555555555555556,
              "#d8576b"
             ],
             [
              0.6666666666666666,
              "#ed7953"
             ],
             [
              0.7777777777777778,
              "#fb9f3a"
             ],
             [
              0.8888888888888888,
              "#fdca26"
             ],
             [
              1,
              "#f0f921"
             ]
            ],
            "type": "contour"
           }
          ],
          "contourcarpet": [
           {
            "colorbar": {
             "outlinewidth": 0,
             "ticks": ""
            },
            "type": "contourcarpet"
           }
          ],
          "heatmap": [
           {
            "colorbar": {
             "outlinewidth": 0,
             "ticks": ""
            },
            "colorscale": [
             [
              0,
              "#0d0887"
             ],
             [
              0.1111111111111111,
              "#46039f"
             ],
             [
              0.2222222222222222,
              "#7201a8"
             ],
             [
              0.3333333333333333,
              "#9c179e"
             ],
             [
              0.4444444444444444,
              "#bd3786"
             ],
             [
              0.5555555555555556,
              "#d8576b"
             ],
             [
              0.6666666666666666,
              "#ed7953"
             ],
             [
              0.7777777777777778,
              "#fb9f3a"
             ],
             [
              0.8888888888888888,
              "#fdca26"
             ],
             [
              1,
              "#f0f921"
             ]
            ],
            "type": "heatmap"
           }
          ],
          "histogram": [
           {
            "marker": {
             "pattern": {
              "fillmode": "overlay",
              "size": 10,
              "solidity": 0.2
             }
            },
            "type": "histogram"
           }
          ],
          "histogram2d": [
           {
            "colorbar": {
             "outlinewidth": 0,
             "ticks": ""
            },
            "colorscale": [
             [
              0,
              "#0d0887"
             ],
             [
              0.1111111111111111,
              "#46039f"
             ],
             [
              0.2222222222222222,
              "#7201a8"
             ],
             [
              0.3333333333333333,
              "#9c179e"
             ],
             [
              0.4444444444444444,
              "#bd3786"
             ],
             [
              0.5555555555555556,
              "#d8576b"
             ],
             [
              0.6666666666666666,
              "#ed7953"
             ],
             [
              0.7777777777777778,
              "#fb9f3a"
             ],
             [
              0.8888888888888888,
              "#fdca26"
             ],
             [
              1,
              "#f0f921"
             ]
            ],
            "type": "histogram2d"
           }
          ],
          "histogram2dcontour": [
           {
            "colorbar": {
             "outlinewidth": 0,
             "ticks": ""
            },
            "colorscale": [
             [
              0,
              "#0d0887"
             ],
             [
              0.1111111111111111,
              "#46039f"
             ],
             [
              0.2222222222222222,
              "#7201a8"
             ],
             [
              0.3333333333333333,
              "#9c179e"
             ],
             [
              0.4444444444444444,
              "#bd3786"
             ],
             [
              0.5555555555555556,
              "#d8576b"
             ],
             [
              0.6666666666666666,
              "#ed7953"
             ],
             [
              0.7777777777777778,
              "#fb9f3a"
             ],
             [
              0.8888888888888888,
              "#fdca26"
             ],
             [
              1,
              "#f0f921"
             ]
            ],
            "type": "histogram2dcontour"
           }
          ],
          "mesh3d": [
           {
            "colorbar": {
             "outlinewidth": 0,
             "ticks": ""
            },
            "type": "mesh3d"
           }
          ],
          "parcoords": [
           {
            "line": {
             "colorbar": {
              "outlinewidth": 0,
              "ticks": ""
             }
            },
            "type": "parcoords"
           }
          ],
          "pie": [
           {
            "automargin": true,
            "type": "pie"
           }
          ],
          "scatter": [
           {
            "fillpattern": {
             "fillmode": "overlay",
             "size": 10,
             "solidity": 0.2
            },
            "type": "scatter"
           }
          ],
          "scatter3d": [
           {
            "line": {
             "colorbar": {
              "outlinewidth": 0,
              "ticks": ""
             }
            },
            "marker": {
             "colorbar": {
              "outlinewidth": 0,
              "ticks": ""
             }
            },
            "type": "scatter3d"
           }
          ],
          "scattercarpet": [
           {
            "marker": {
             "colorbar": {
              "outlinewidth": 0,
              "ticks": ""
             }
            },
            "type": "scattercarpet"
           }
          ],
          "scattergeo": [
           {
            "marker": {
             "colorbar": {
              "outlinewidth": 0,
              "ticks": ""
             }
            },
            "type": "scattergeo"
           }
          ],
          "scattergl": [
           {
            "marker": {
             "colorbar": {
              "outlinewidth": 0,
              "ticks": ""
             }
            },
            "type": "scattergl"
           }
          ],
          "scattermap": [
           {
            "marker": {
             "colorbar": {
              "outlinewidth": 0,
              "ticks": ""
             }
            },
            "type": "scattermap"
           }
          ],
          "scattermapbox": [
           {
            "marker": {
             "colorbar": {
              "outlinewidth": 0,
              "ticks": ""
             }
            },
            "type": "scattermapbox"
           }
          ],
          "scatterpolar": [
           {
            "marker": {
             "colorbar": {
              "outlinewidth": 0,
              "ticks": ""
             }
            },
            "type": "scatterpolar"
           }
          ],
          "scatterpolargl": [
           {
            "marker": {
             "colorbar": {
              "outlinewidth": 0,
              "ticks": ""
             }
            },
            "type": "scatterpolargl"
           }
          ],
          "scatterternary": [
           {
            "marker": {
             "colorbar": {
              "outlinewidth": 0,
              "ticks": ""
             }
            },
            "type": "scatterternary"
           }
          ],
          "surface": [
           {
            "colorbar": {
             "outlinewidth": 0,
             "ticks": ""
            },
            "colorscale": [
             [
              0,
              "#0d0887"
             ],
             [
              0.1111111111111111,
              "#46039f"
             ],
             [
              0.2222222222222222,
              "#7201a8"
             ],
             [
              0.3333333333333333,
              "#9c179e"
             ],
             [
              0.4444444444444444,
              "#bd3786"
             ],
             [
              0.5555555555555556,
              "#d8576b"
             ],
             [
              0.6666666666666666,
              "#ed7953"
             ],
             [
              0.7777777777777778,
              "#fb9f3a"
             ],
             [
              0.8888888888888888,
              "#fdca26"
             ],
             [
              1,
              "#f0f921"
             ]
            ],
            "type": "surface"
           }
          ],
          "table": [
           {
            "cells": {
             "fill": {
              "color": "#EBF0F8"
             },
             "line": {
              "color": "white"
             }
            },
            "header": {
             "fill": {
              "color": "#C8D4E3"
             },
             "line": {
              "color": "white"
             }
            },
            "type": "table"
           }
          ]
         },
         "layout": {
          "annotationdefaults": {
           "arrowcolor": "#2a3f5f",
           "arrowhead": 0,
           "arrowwidth": 1
          },
          "autotypenumbers": "strict",
          "coloraxis": {
           "colorbar": {
            "outlinewidth": 0,
            "ticks": ""
           }
          },
          "colorscale": {
           "diverging": [
            [
             0,
             "#8e0152"
            ],
            [
             0.1,
             "#c51b7d"
            ],
            [
             0.2,
             "#de77ae"
            ],
            [
             0.3,
             "#f1b6da"
            ],
            [
             0.4,
             "#fde0ef"
            ],
            [
             0.5,
             "#f7f7f7"
            ],
            [
             0.6,
             "#e6f5d0"
            ],
            [
             0.7,
             "#b8e186"
            ],
            [
             0.8,
             "#7fbc41"
            ],
            [
             0.9,
             "#4d9221"
            ],
            [
             1,
             "#276419"
            ]
           ],
           "sequential": [
            [
             0,
             "#0d0887"
            ],
            [
             0.1111111111111111,
             "#46039f"
            ],
            [
             0.2222222222222222,
             "#7201a8"
            ],
            [
             0.3333333333333333,
             "#9c179e"
            ],
            [
             0.4444444444444444,
             "#bd3786"
            ],
            [
             0.5555555555555556,
             "#d8576b"
            ],
            [
             0.6666666666666666,
             "#ed7953"
            ],
            [
             0.7777777777777778,
             "#fb9f3a"
            ],
            [
             0.8888888888888888,
             "#fdca26"
            ],
            [
             1,
             "#f0f921"
            ]
           ],
           "sequentialminus": [
            [
             0,
             "#0d0887"
            ],
            [
             0.1111111111111111,
             "#46039f"
            ],
            [
             0.2222222222222222,
             "#7201a8"
            ],
            [
             0.3333333333333333,
             "#9c179e"
            ],
            [
             0.4444444444444444,
             "#bd3786"
            ],
            [
             0.5555555555555556,
             "#d8576b"
            ],
            [
             0.6666666666666666,
             "#ed7953"
            ],
            [
             0.7777777777777778,
             "#fb9f3a"
            ],
            [
             0.8888888888888888,
             "#fdca26"
            ],
            [
             1,
             "#f0f921"
            ]
           ]
          },
          "colorway": [
           "#636efa",
           "#EF553B",
           "#00cc96",
           "#ab63fa",
           "#FFA15A",
           "#19d3f3",
           "#FF6692",
           "#B6E880",
           "#FF97FF",
           "#FECB52"
          ],
          "font": {
           "color": "#2a3f5f"
          },
          "geo": {
           "bgcolor": "white",
           "lakecolor": "white",
           "landcolor": "#E5ECF6",
           "showlakes": true,
           "showland": true,
           "subunitcolor": "white"
          },
          "hoverlabel": {
           "align": "left"
          },
          "hovermode": "closest",
          "mapbox": {
           "style": "light"
          },
          "paper_bgcolor": "white",
          "plot_bgcolor": "#E5ECF6",
          "polar": {
           "angularaxis": {
            "gridcolor": "white",
            "linecolor": "white",
            "ticks": ""
           },
           "bgcolor": "#E5ECF6",
           "radialaxis": {
            "gridcolor": "white",
            "linecolor": "white",
            "ticks": ""
           }
          },
          "scene": {
           "xaxis": {
            "backgroundcolor": "#E5ECF6",
            "gridcolor": "white",
            "gridwidth": 2,
            "linecolor": "white",
            "showbackground": true,
            "ticks": "",
            "zerolinecolor": "white"
           },
           "yaxis": {
            "backgroundcolor": "#E5ECF6",
            "gridcolor": "white",
            "gridwidth": 2,
            "linecolor": "white",
            "showbackground": true,
            "ticks": "",
            "zerolinecolor": "white"
           },
           "zaxis": {
            "backgroundcolor": "#E5ECF6",
            "gridcolor": "white",
            "gridwidth": 2,
            "linecolor": "white",
            "showbackground": true,
            "ticks": "",
            "zerolinecolor": "white"
           }
          },
          "shapedefaults": {
           "line": {
            "color": "#2a3f5f"
           }
          },
          "ternary": {
           "aaxis": {
            "gridcolor": "white",
            "linecolor": "white",
            "ticks": ""
           },
           "baxis": {
            "gridcolor": "white",
            "linecolor": "white",
            "ticks": ""
           },
           "bgcolor": "#E5ECF6",
           "caxis": {
            "gridcolor": "white",
            "linecolor": "white",
            "ticks": ""
           }
          },
          "title": {
           "x": 0.05
          },
          "xaxis": {
           "automargin": true,
           "gridcolor": "white",
           "linecolor": "white",
           "ticks": "",
           "title": {
            "standoff": 15
           },
           "zerolinecolor": "white",
           "zerolinewidth": 2
          },
          "yaxis": {
           "automargin": true,
           "gridcolor": "white",
           "linecolor": "white",
           "ticks": "",
           "title": {
            "standoff": 15
           },
           "zerolinecolor": "white",
           "zerolinewidth": 2
          }
         }
        },
        "width": 600
       }
      }
     },
     "metadata": {},
     "output_type": "display_data"
    }
   ],
   "source": [
    "# Map visualization\n",
    "fig = px.scatter_map(df_w5, lat=\"lat\", lon=\"lon\", color=\"tw_mean\",\n",
    "                     hover_name=\"ville\", hover_data=[\"pluiew_mean\", \"tw_mean\"], \n",
    "                     zoom=5, size='tw_mean', height=500, width=600)\n",
    "fig.update_geos(fitbounds=\"locations\")\n",
    "fig.update_layout(map_style=\"basic\")\n",
    "fig.update_layout(margin={\"r\":0,\"t\":0,\"l\":0,\"b\":0})\n",
    "fig.show()"
   ]
  },
  {
   "cell_type": "markdown",
   "metadata": {},
   "source": [
    "# 4. Scrapping Booking.com"
   ]
  },
  {
   "cell_type": "markdown",
   "metadata": {},
   "source": [
    "## 4.1. Retrieve URL"
   ]
  },
  {
   "cell_type": "markdown",
   "metadata": {},
   "source": [
    "Activation of a spider that goes directly to booking.com and searches the URL of 20 hotels for each city,   \n",
    "on anaconda prompt to ensure the spider is launched in the correct environment.\n",
    "* Activate the environment:\n",
    "-> ``` (base) C:\\Users\\Username> conda activate scrap_py311 ```\n",
    "* Retrieve the script from its path:\n",
    "-> ``` (scrap_py311) C:\\Users\\Username> cd \"C:\\Users\\Username\\projet_kayak\\src\" ```\n",
    "* Run the script:\n",
    "-> ``` (scrap_py311) C:\\Users\\Username\\projet_kayak\\src> python booking_url_hotel.py ```"
   ]
  },
  {
   "cell_type": "markdown",
   "metadata": {},
   "source": [
    "## 4.2. Retrieve hotel's info via scrapy "
   ]
  },
  {
   "cell_type": "markdown",
   "metadata": {},
   "source": [
    "Activation of a spider that goes directly to booking.com and searches the informations for each hotel,   \n",
    "on anaconda prompt to ensure the spider is launched in the correct environment.\n",
    "* Activate the environment:\n",
    "-> ``` (base) C:\\Users\\Username> conda activate scrap_py311 ```\n",
    "* Retrieve the script from its path:\n",
    "-> ``` (scrap_py311) C:\\Users\\Username> cd \"C:\\Users\\Username\\projet_kayak\\src\" ```\n",
    "* Run the script:\n",
    "-> ``` (scrap_py311) C:\\Users\\Username\\projet_kayak\\src> python booking_info_hotel.py ```"
   ]
  },
  {
   "cell_type": "markdown",
   "metadata": {},
   "source": [
    "## 4.3. Merge Data Weather and Hotels Scrapping"
   ]
  },
  {
   "cell_type": "code",
   "execution_count": 12,
   "metadata": {},
   "outputs": [
    {
     "name": "stdout",
     "output_type": "stream",
     "text": [
      "✅ DataFrame déjà disponible en mémoire\n"
     ]
    }
   ],
   "source": [
    "try:\n",
    "    # try to use an already existing df\n",
    "    df_w2\n",
    "    print(\"✅ DataFrame déjà disponible en mémoire\")\n",
    "\n",
    "except NameError:\n",
    "    # if df does not exist → we read it from the CSV\n",
    "    print(\"⚠️ DataFrame introuvable → import depuis CSV\")\n",
    "    df_w2 = pd.read_csv('data/cities_weather.csv')\n",
    "    print(df_w2.info())\n"
   ]
  },
  {
   "cell_type": "code",
   "execution_count": 13,
   "metadata": {},
   "outputs": [
    {
     "data": {
      "text/html": [
       "<div>\n",
       "<style scoped>\n",
       "    .dataframe tbody tr th:only-of-type {\n",
       "        vertical-align: middle;\n",
       "    }\n",
       "\n",
       "    .dataframe tbody tr th {\n",
       "        vertical-align: top;\n",
       "    }\n",
       "\n",
       "    .dataframe thead th {\n",
       "        text-align: right;\n",
       "    }\n",
       "</style>\n",
       "<table border=\"1\" class=\"dataframe\">\n",
       "  <thead>\n",
       "    <tr style=\"text-align: right;\">\n",
       "      <th></th>\n",
       "      <th>insee</th>\n",
       "      <th>ville</th>\n",
       "      <th>lat</th>\n",
       "      <th>lon</th>\n",
       "      <th>date</th>\n",
       "      <th>pluiew_mean</th>\n",
       "      <th>tw_mean</th>\n",
       "    </tr>\n",
       "  </thead>\n",
       "  <tbody>\n",
       "    <tr>\n",
       "      <th>0</th>\n",
       "      <td>41440</td>\n",
       "      <td>Gorges du Verdon</td>\n",
       "      <td>43.749656</td>\n",
       "      <td>6.328562</td>\n",
       "      <td>2025-10-26</td>\n",
       "      <td>10.042857</td>\n",
       "      <td>9.528571</td>\n",
       "    </tr>\n",
       "    <tr>\n",
       "      <th>1</th>\n",
       "      <td>91960</td>\n",
       "      <td>Ariege</td>\n",
       "      <td>42.945537</td>\n",
       "      <td>1.406554</td>\n",
       "      <td>2025-10-26</td>\n",
       "      <td>4.857143</td>\n",
       "      <td>11.450000</td>\n",
       "    </tr>\n",
       "    <tr>\n",
       "      <th>2</th>\n",
       "      <td>110690</td>\n",
       "      <td>Carcassonne</td>\n",
       "      <td>43.213036</td>\n",
       "      <td>2.349107</td>\n",
       "      <td>2025-10-26</td>\n",
       "      <td>2.728571</td>\n",
       "      <td>15.478571</td>\n",
       "    </tr>\n",
       "    <tr>\n",
       "      <th>3</th>\n",
       "      <td>130010</td>\n",
       "      <td>Aix en Provence</td>\n",
       "      <td>43.529842</td>\n",
       "      <td>5.447474</td>\n",
       "      <td>2025-10-26</td>\n",
       "      <td>5.257143</td>\n",
       "      <td>14.292857</td>\n",
       "    </tr>\n",
       "    <tr>\n",
       "      <th>4</th>\n",
       "      <td>130220</td>\n",
       "      <td>Cassis</td>\n",
       "      <td>43.214036</td>\n",
       "      <td>5.539632</td>\n",
       "      <td>2025-10-26</td>\n",
       "      <td>3.357143</td>\n",
       "      <td>16.971429</td>\n",
       "    </tr>\n",
       "  </tbody>\n",
       "</table>\n",
       "</div>"
      ],
      "text/plain": [
       "    insee             ville        lat       lon        date  pluiew_mean  \\\n",
       "0   41440  Gorges du Verdon  43.749656  6.328562  2025-10-26    10.042857   \n",
       "1   91960            Ariege  42.945537  1.406554  2025-10-26     4.857143   \n",
       "2  110690       Carcassonne  43.213036  2.349107  2025-10-26     2.728571   \n",
       "3  130010   Aix en Provence  43.529842  5.447474  2025-10-26     5.257143   \n",
       "4  130220            Cassis  43.214036  5.539632  2025-10-26     3.357143   \n",
       "\n",
       "     tw_mean  \n",
       "0   9.528571  \n",
       "1  11.450000  \n",
       "2  15.478571  \n",
       "3  14.292857  \n",
       "4  16.971429  "
      ]
     },
     "execution_count": 13,
     "metadata": {},
     "output_type": "execute_result"
    }
   ],
   "source": [
    "df_w2.head()"
   ]
  },
  {
   "cell_type": "code",
   "execution_count": 14,
   "metadata": {},
   "outputs": [
    {
     "data": {
      "text/html": [
       "<div>\n",
       "<style scoped>\n",
       "    .dataframe tbody tr th:only-of-type {\n",
       "        vertical-align: middle;\n",
       "    }\n",
       "\n",
       "    .dataframe tbody tr th {\n",
       "        vertical-align: top;\n",
       "    }\n",
       "\n",
       "    .dataframe thead th {\n",
       "        text-align: right;\n",
       "    }\n",
       "</style>\n",
       "<table border=\"1\" class=\"dataframe\">\n",
       "  <thead>\n",
       "    <tr style=\"text-align: right;\">\n",
       "      <th></th>\n",
       "      <th>ville</th>\n",
       "      <th>url</th>\n",
       "      <th>nom</th>\n",
       "      <th>note</th>\n",
       "      <th>adresse</th>\n",
       "      <th>description</th>\n",
       "      <th>insee</th>\n",
       "      <th>lat</th>\n",
       "      <th>lon</th>\n",
       "      <th>date</th>\n",
       "      <th>pluiew_mean</th>\n",
       "      <th>tw_mean</th>\n",
       "    </tr>\n",
       "  </thead>\n",
       "  <tbody>\n",
       "    <tr>\n",
       "      <th>0</th>\n",
       "      <td>Gorges du Verdon</td>\n",
       "      <td>https://www.booking.com/hotel/fr/charming-stud...</td>\n",
       "      <td>CHARMING studio proche centre</td>\n",
       "      <td>Avec une note de 10</td>\n",
       "      <td>243 Route des Gorges du Verdon, 04120 Castella...</td>\n",
       "      <td>Situé à Castellane, l’hébergement CHARMING stu...</td>\n",
       "      <td>41440</td>\n",
       "      <td>43.749656</td>\n",
       "      <td>6.328562</td>\n",
       "      <td>2025-10-26</td>\n",
       "      <td>10.042857</td>\n",
       "      <td>9.528571</td>\n",
       "    </tr>\n",
       "    <tr>\n",
       "      <th>1</th>\n",
       "      <td>Gorges du Verdon</td>\n",
       "      <td>https://www.booking.com/hotel/fr/la-bastide-de...</td>\n",
       "      <td>La Bastide des Marcassins</td>\n",
       "      <td>Avec une note de 10</td>\n",
       "      <td>81 All. du Rossignol, 83630 Moissac-Bellevue, ...</td>\n",
       "      <td>Situé à Moissac-Bellevue, l’hébergement La Bas...</td>\n",
       "      <td>41440</td>\n",
       "      <td>43.749656</td>\n",
       "      <td>6.328562</td>\n",
       "      <td>2025-10-26</td>\n",
       "      <td>10.042857</td>\n",
       "      <td>9.528571</td>\n",
       "    </tr>\n",
       "    <tr>\n",
       "      <th>2</th>\n",
       "      <td>Gorges du Verdon</td>\n",
       "      <td>https://www.booking.com/hotel/fr/chambres-d-ho...</td>\n",
       "      <td>Gorges du Verdon - Chambres d'Hotes des arches...</td>\n",
       "      <td>Avec une note de 9.6</td>\n",
       "      <td>Chambre des arches 2388 Rte de Chasteuil, 0412...</td>\n",
       "      <td>Situé à Castellane, l’hébergement Gorges du Ve...</td>\n",
       "      <td>41440</td>\n",
       "      <td>43.749656</td>\n",
       "      <td>6.328562</td>\n",
       "      <td>2025-10-26</td>\n",
       "      <td>10.042857</td>\n",
       "      <td>9.528571</td>\n",
       "    </tr>\n",
       "    <tr>\n",
       "      <th>3</th>\n",
       "      <td>Gorges du Verdon</td>\n",
       "      <td>https://www.booking.com/hotel/fr/montagnac-vil...</td>\n",
       "      <td>Montagnac Village House - Verdon</td>\n",
       "      <td>Avec une note de 9.5</td>\n",
       "      <td>53 Route Nouvelle, 04500 Montagnac, France</td>\n",
       "      <td>L’hébergement Montagnac Village House - Verdon...</td>\n",
       "      <td>41440</td>\n",
       "      <td>43.749656</td>\n",
       "      <td>6.328562</td>\n",
       "      <td>2025-10-26</td>\n",
       "      <td>10.042857</td>\n",
       "      <td>9.528571</td>\n",
       "    </tr>\n",
       "    <tr>\n",
       "      <th>4</th>\n",
       "      <td>Gorges du Verdon</td>\n",
       "      <td>https://www.booking.com/hotel/fr/le-petit-para...</td>\n",
       "      <td>Le Petit Paradis Provençal</td>\n",
       "      <td>Avec une note de 9.6</td>\n",
       "      <td>261C Imp. du Bosquet, 04500 Allemagne-en-Prove...</td>\n",
       "      <td>Possédant une piscine extérieure ouverte en sa...</td>\n",
       "      <td>41440</td>\n",
       "      <td>43.749656</td>\n",
       "      <td>6.328562</td>\n",
       "      <td>2025-10-26</td>\n",
       "      <td>10.042857</td>\n",
       "      <td>9.528571</td>\n",
       "    </tr>\n",
       "  </tbody>\n",
       "</table>\n",
       "</div>"
      ],
      "text/plain": [
       "              ville                                                url  \\\n",
       "0  Gorges du Verdon  https://www.booking.com/hotel/fr/charming-stud...   \n",
       "1  Gorges du Verdon  https://www.booking.com/hotel/fr/la-bastide-de...   \n",
       "2  Gorges du Verdon  https://www.booking.com/hotel/fr/chambres-d-ho...   \n",
       "3  Gorges du Verdon  https://www.booking.com/hotel/fr/montagnac-vil...   \n",
       "4  Gorges du Verdon  https://www.booking.com/hotel/fr/le-petit-para...   \n",
       "\n",
       "                                                 nom                  note  \\\n",
       "0                      CHARMING studio proche centre   Avec une note de 10   \n",
       "1                          La Bastide des Marcassins   Avec une note de 10   \n",
       "2  Gorges du Verdon - Chambres d'Hotes des arches...  Avec une note de 9.6   \n",
       "3                   Montagnac Village House - Verdon  Avec une note de 9.5   \n",
       "4                         Le Petit Paradis Provençal  Avec une note de 9.6   \n",
       "\n",
       "                                             adresse  \\\n",
       "0  243 Route des Gorges du Verdon, 04120 Castella...   \n",
       "1  81 All. du Rossignol, 83630 Moissac-Bellevue, ...   \n",
       "2  Chambre des arches 2388 Rte de Chasteuil, 0412...   \n",
       "3         53 Route Nouvelle, 04500 Montagnac, France   \n",
       "4  261C Imp. du Bosquet, 04500 Allemagne-en-Prove...   \n",
       "\n",
       "                                         description  insee        lat  \\\n",
       "0  Situé à Castellane, l’hébergement CHARMING stu...  41440  43.749656   \n",
       "1  Situé à Moissac-Bellevue, l’hébergement La Bas...  41440  43.749656   \n",
       "2  Situé à Castellane, l’hébergement Gorges du Ve...  41440  43.749656   \n",
       "3  L’hébergement Montagnac Village House - Verdon...  41440  43.749656   \n",
       "4  Possédant une piscine extérieure ouverte en sa...  41440  43.749656   \n",
       "\n",
       "        lon        date  pluiew_mean   tw_mean  \n",
       "0  6.328562  2025-10-26    10.042857  9.528571  \n",
       "1  6.328562  2025-10-26    10.042857  9.528571  \n",
       "2  6.328562  2025-10-26    10.042857  9.528571  \n",
       "3  6.328562  2025-10-26    10.042857  9.528571  \n",
       "4  6.328562  2025-10-26    10.042857  9.528571  "
      ]
     },
     "execution_count": 14,
     "metadata": {},
     "output_type": "execute_result"
    }
   ],
   "source": [
    "# Charger le JSON\n",
    "with open(\"data/hotels_details.json\", \"r\", encoding=\"utf-8\") as f:\n",
    "    hotels = json.load(f)\n",
    "\n",
    "# Convertir en DataFrame\n",
    "df_hotels = pd.DataFrame(hotels)\n",
    "\n",
    "# Merge avec df_top5_insee\n",
    "df_merged = pd.merge(df_hotels, df_w2, on='ville', how=\"right\")\n",
    "\n",
    "df_merged.head()"
   ]
  },
  {
   "cell_type": "code",
   "execution_count": null,
   "metadata": {},
   "outputs": [],
   "source": [
    "# Reconvertir en liste de dicts\n",
    "hotels_enriched = df_merged.to_dict(orient=\"records\")\n",
    "\n",
    "# Sauvegarder en JSON enrichi\n",
    "with open(\"data/all_hotels_details_insee.json\", \"w\", encoding=\"utf-8\") as f:\n",
    "    json.dump(hotels_enriched, f, indent=4, ensure_ascii=False)"
   ]
  },
  {
   "cell_type": "markdown",
   "metadata": {},
   "source": [
    "# 5. Hotels recommendations for best cities destinations"
   ]
  },
  {
   "cell_type": "markdown",
   "metadata": {},
   "source": [
    "## 5.1. Merge all informations into 1 df\n",
    "Some hotels are in duplicate because recommended for several cities.   \n",
    "To not miss then we need to use the 1rst dataset all_cities_urls_hotels.json to complete data/all_hotels_details_insee.json."
   ]
  },
  {
   "cell_type": "markdown",
   "metadata": {},
   "source": [
    "### 5.1. Import data"
   ]
  },
  {
   "cell_type": "code",
   "execution_count": 15,
   "metadata": {},
   "outputs": [
    {
     "data": {
      "text/html": [
       "<div>\n",
       "<style scoped>\n",
       "    .dataframe tbody tr th:only-of-type {\n",
       "        vertical-align: middle;\n",
       "    }\n",
       "\n",
       "    .dataframe tbody tr th {\n",
       "        vertical-align: top;\n",
       "    }\n",
       "\n",
       "    .dataframe thead th {\n",
       "        text-align: right;\n",
       "    }\n",
       "</style>\n",
       "<table border=\"1\" class=\"dataframe\">\n",
       "  <thead>\n",
       "    <tr style=\"text-align: right;\">\n",
       "      <th></th>\n",
       "      <th>city</th>\n",
       "      <th>url</th>\n",
       "    </tr>\n",
       "  </thead>\n",
       "  <tbody>\n",
       "    <tr>\n",
       "      <th>0</th>\n",
       "      <td>Gorges du Verdon</td>\n",
       "      <td>https://www.booking.com/hotel/fr/charming-stud...</td>\n",
       "    </tr>\n",
       "    <tr>\n",
       "      <th>1</th>\n",
       "      <td>Gorges du Verdon</td>\n",
       "      <td>https://www.booking.com/hotel/fr/la-bastide-de...</td>\n",
       "    </tr>\n",
       "    <tr>\n",
       "      <th>2</th>\n",
       "      <td>Gorges du Verdon</td>\n",
       "      <td>https://www.booking.com/hotel/fr/chambres-d-ho...</td>\n",
       "    </tr>\n",
       "    <tr>\n",
       "      <th>3</th>\n",
       "      <td>Gorges du Verdon</td>\n",
       "      <td>https://www.booking.com/hotel/fr/montagnac-vil...</td>\n",
       "    </tr>\n",
       "    <tr>\n",
       "      <th>4</th>\n",
       "      <td>Gorges du Verdon</td>\n",
       "      <td>https://www.booking.com/hotel/fr/le-petit-para...</td>\n",
       "    </tr>\n",
       "  </tbody>\n",
       "</table>\n",
       "</div>"
      ],
      "text/plain": [
       "               city                                                url\n",
       "0  Gorges du Verdon  https://www.booking.com/hotel/fr/charming-stud...\n",
       "1  Gorges du Verdon  https://www.booking.com/hotel/fr/la-bastide-de...\n",
       "2  Gorges du Verdon  https://www.booking.com/hotel/fr/chambres-d-ho...\n",
       "3  Gorges du Verdon  https://www.booking.com/hotel/fr/montagnac-vil...\n",
       "4  Gorges du Verdon  https://www.booking.com/hotel/fr/le-petit-para..."
      ]
     },
     "execution_count": 15,
     "metadata": {},
     "output_type": "execute_result"
    }
   ],
   "source": [
    "# Import \n",
    "with open(\"data/all_cities_urls_hotels.json\", \"r\") as f:\n",
    "    all_hotels_url = json.load(f)\n",
    "df_all_hotels_url = pd.DataFrame(all_hotels_url)\n",
    "\n",
    "df_all_hotels_url.head()"
   ]
  },
  {
   "cell_type": "code",
   "execution_count": 16,
   "metadata": {},
   "outputs": [
    {
     "name": "stdout",
     "output_type": "stream",
     "text": [
      "<class 'pandas.core.frame.DataFrame'>\n",
      "RangeIndex: 700 entries, 0 to 699\n",
      "Data columns (total 2 columns):\n",
      " #   Column  Non-Null Count  Dtype \n",
      "---  ------  --------------  ----- \n",
      " 0   city    700 non-null    object\n",
      " 1   url     700 non-null    object\n",
      "dtypes: object(2)\n",
      "memory usage: 11.1+ KB\n"
     ]
    }
   ],
   "source": [
    "df_all_hotels_url.info()"
   ]
  },
  {
   "cell_type": "code",
   "execution_count": 40,
   "metadata": {},
   "outputs": [
    {
     "data": {
      "text/html": [
       "<div>\n",
       "<style scoped>\n",
       "    .dataframe tbody tr th:only-of-type {\n",
       "        vertical-align: middle;\n",
       "    }\n",
       "\n",
       "    .dataframe tbody tr th {\n",
       "        vertical-align: top;\n",
       "    }\n",
       "\n",
       "    .dataframe thead th {\n",
       "        text-align: right;\n",
       "    }\n",
       "</style>\n",
       "<table border=\"1\" class=\"dataframe\">\n",
       "  <thead>\n",
       "    <tr style=\"text-align: right;\">\n",
       "      <th></th>\n",
       "      <th>ville</th>\n",
       "      <th>url</th>\n",
       "      <th>nom</th>\n",
       "      <th>note</th>\n",
       "      <th>adresse</th>\n",
       "      <th>description</th>\n",
       "      <th>insee</th>\n",
       "      <th>lat</th>\n",
       "      <th>lon</th>\n",
       "      <th>date</th>\n",
       "      <th>pluiew_mean</th>\n",
       "      <th>tw_mean</th>\n",
       "    </tr>\n",
       "  </thead>\n",
       "  <tbody>\n",
       "    <tr>\n",
       "      <th>0</th>\n",
       "      <td>Gorges du Verdon</td>\n",
       "      <td>https://www.booking.com/hotel/fr/charming-stud...</td>\n",
       "      <td>CHARMING studio proche centre</td>\n",
       "      <td>Avec une note de 10</td>\n",
       "      <td>243 Route des Gorges du Verdon, 04120 Castella...</td>\n",
       "      <td>Situé à Castellane, l’hébergement CHARMING stu...</td>\n",
       "      <td>41440</td>\n",
       "      <td>43.749656</td>\n",
       "      <td>6.328562</td>\n",
       "      <td>2025-10-06</td>\n",
       "      <td>0.4</td>\n",
       "      <td>10.871429</td>\n",
       "    </tr>\n",
       "    <tr>\n",
       "      <th>1</th>\n",
       "      <td>Gorges du Verdon</td>\n",
       "      <td>https://www.booking.com/hotel/fr/la-bastide-de...</td>\n",
       "      <td>La Bastide des Marcassins</td>\n",
       "      <td>Avec une note de 10</td>\n",
       "      <td>81 All. du Rossignol, 83630 Moissac-Bellevue, ...</td>\n",
       "      <td>Situé à Moissac-Bellevue, l’hébergement La Bas...</td>\n",
       "      <td>41440</td>\n",
       "      <td>43.749656</td>\n",
       "      <td>6.328562</td>\n",
       "      <td>2025-10-06</td>\n",
       "      <td>0.4</td>\n",
       "      <td>10.871429</td>\n",
       "    </tr>\n",
       "    <tr>\n",
       "      <th>2</th>\n",
       "      <td>Gorges du Verdon</td>\n",
       "      <td>https://www.booking.com/hotel/fr/chambres-d-ho...</td>\n",
       "      <td>Gorges du Verdon - Chambres d'Hotes des arches...</td>\n",
       "      <td>Avec une note de 9.6</td>\n",
       "      <td>Chambre des arches 2388 Rte de Chasteuil, 0412...</td>\n",
       "      <td>Situé à Castellane, l’hébergement Gorges du Ve...</td>\n",
       "      <td>41440</td>\n",
       "      <td>43.749656</td>\n",
       "      <td>6.328562</td>\n",
       "      <td>2025-10-06</td>\n",
       "      <td>0.4</td>\n",
       "      <td>10.871429</td>\n",
       "    </tr>\n",
       "    <tr>\n",
       "      <th>3</th>\n",
       "      <td>Gorges du Verdon</td>\n",
       "      <td>https://www.booking.com/hotel/fr/montagnac-vil...</td>\n",
       "      <td>Montagnac Village House - Verdon</td>\n",
       "      <td>Avec une note de 9.5</td>\n",
       "      <td>53 Route Nouvelle, 04500 Montagnac, France</td>\n",
       "      <td>L’hébergement Montagnac Village House - Verdon...</td>\n",
       "      <td>41440</td>\n",
       "      <td>43.749656</td>\n",
       "      <td>6.328562</td>\n",
       "      <td>2025-10-06</td>\n",
       "      <td>0.4</td>\n",
       "      <td>10.871429</td>\n",
       "    </tr>\n",
       "    <tr>\n",
       "      <th>4</th>\n",
       "      <td>Gorges du Verdon</td>\n",
       "      <td>https://www.booking.com/hotel/fr/le-petit-para...</td>\n",
       "      <td>Le Petit Paradis Provençal</td>\n",
       "      <td>Avec une note de 9.6</td>\n",
       "      <td>261C Imp. du Bosquet, 04500 Allemagne-en-Prove...</td>\n",
       "      <td>Possédant une piscine extérieure ouverte en sa...</td>\n",
       "      <td>41440</td>\n",
       "      <td>43.749656</td>\n",
       "      <td>6.328562</td>\n",
       "      <td>2025-10-06</td>\n",
       "      <td>0.4</td>\n",
       "      <td>10.871429</td>\n",
       "    </tr>\n",
       "  </tbody>\n",
       "</table>\n",
       "</div>"
      ],
      "text/plain": [
       "              ville                                                url  \\\n",
       "0  Gorges du Verdon  https://www.booking.com/hotel/fr/charming-stud...   \n",
       "1  Gorges du Verdon  https://www.booking.com/hotel/fr/la-bastide-de...   \n",
       "2  Gorges du Verdon  https://www.booking.com/hotel/fr/chambres-d-ho...   \n",
       "3  Gorges du Verdon  https://www.booking.com/hotel/fr/montagnac-vil...   \n",
       "4  Gorges du Verdon  https://www.booking.com/hotel/fr/le-petit-para...   \n",
       "\n",
       "                                                 nom                  note  \\\n",
       "0                      CHARMING studio proche centre   Avec une note de 10   \n",
       "1                          La Bastide des Marcassins   Avec une note de 10   \n",
       "2  Gorges du Verdon - Chambres d'Hotes des arches...  Avec une note de 9.6   \n",
       "3                   Montagnac Village House - Verdon  Avec une note de 9.5   \n",
       "4                         Le Petit Paradis Provençal  Avec une note de 9.6   \n",
       "\n",
       "                                             adresse  \\\n",
       "0  243 Route des Gorges du Verdon, 04120 Castella...   \n",
       "1  81 All. du Rossignol, 83630 Moissac-Bellevue, ...   \n",
       "2  Chambre des arches 2388 Rte de Chasteuil, 0412...   \n",
       "3         53 Route Nouvelle, 04500 Montagnac, France   \n",
       "4  261C Imp. du Bosquet, 04500 Allemagne-en-Prove...   \n",
       "\n",
       "                                         description  insee        lat  \\\n",
       "0  Situé à Castellane, l’hébergement CHARMING stu...  41440  43.749656   \n",
       "1  Situé à Moissac-Bellevue, l’hébergement La Bas...  41440  43.749656   \n",
       "2  Situé à Castellane, l’hébergement Gorges du Ve...  41440  43.749656   \n",
       "3  L’hébergement Montagnac Village House - Verdon...  41440  43.749656   \n",
       "4  Possédant une piscine extérieure ouverte en sa...  41440  43.749656   \n",
       "\n",
       "        lon        date  pluiew_mean    tw_mean  \n",
       "0  6.328562  2025-10-06          0.4  10.871429  \n",
       "1  6.328562  2025-10-06          0.4  10.871429  \n",
       "2  6.328562  2025-10-06          0.4  10.871429  \n",
       "3  6.328562  2025-10-06          0.4  10.871429  \n",
       "4  6.328562  2025-10-06          0.4  10.871429  "
      ]
     },
     "execution_count": 40,
     "metadata": {},
     "output_type": "execute_result"
    }
   ],
   "source": [
    "with open(\"data/all_hotels_details_insee.json\", \"r\") as f:\n",
    "    all_hotels_details = json.load(f)\n",
    "df_all_hotels_details = pd.DataFrame(all_hotels_details)\n",
    "\n",
    "df_all_hotels_details.head()"
   ]
  },
  {
   "cell_type": "code",
   "execution_count": 41,
   "metadata": {},
   "outputs": [
    {
     "name": "stdout",
     "output_type": "stream",
     "text": [
      "<class 'pandas.core.frame.DataFrame'>\n",
      "RangeIndex: 689 entries, 0 to 688\n",
      "Data columns (total 12 columns):\n",
      " #   Column       Non-Null Count  Dtype  \n",
      "---  ------       --------------  -----  \n",
      " 0   ville        689 non-null    object \n",
      " 1   url          689 non-null    object \n",
      " 2   nom          689 non-null    object \n",
      " 3   note         689 non-null    object \n",
      " 4   adresse      689 non-null    object \n",
      " 5   description  689 non-null    object \n",
      " 6   insee        689 non-null    int64  \n",
      " 7   lat          689 non-null    float64\n",
      " 8   lon          689 non-null    float64\n",
      " 9   date         689 non-null    object \n",
      " 10  pluiew_mean  689 non-null    float64\n",
      " 11  tw_mean      689 non-null    float64\n",
      "dtypes: float64(4), int64(1), object(7)\n",
      "memory usage: 64.7+ KB\n"
     ]
    }
   ],
   "source": [
    "df_all_hotels_details.info()"
   ]
  },
  {
   "cell_type": "markdown",
   "metadata": {},
   "source": [
    "### 5.1.2. Merge all df"
   ]
  },
  {
   "cell_type": "code",
   "execution_count": 42,
   "metadata": {},
   "outputs": [],
   "source": [
    "df = pd.merge(df_all_hotels_url, df_all_hotels_details, on='url', how=\"right\")"
   ]
  },
  {
   "cell_type": "code",
   "execution_count": 43,
   "metadata": {},
   "outputs": [
    {
     "data": {
      "text/plain": [
       "ville\n",
       "False    700\n",
       "Name: count, dtype: int64"
      ]
     },
     "execution_count": 43,
     "metadata": {},
     "output_type": "execute_result"
    }
   ],
   "source": [
    "# Check if we keeped all the hotels\n",
    "(df['ville']).isna().value_counts(ascending=False)"
   ]
  },
  {
   "cell_type": "code",
   "execution_count": 44,
   "metadata": {},
   "outputs": [
    {
     "data": {
      "text/html": [
       "<div>\n",
       "<style scoped>\n",
       "    .dataframe tbody tr th:only-of-type {\n",
       "        vertical-align: middle;\n",
       "    }\n",
       "\n",
       "    .dataframe tbody tr th {\n",
       "        vertical-align: top;\n",
       "    }\n",
       "\n",
       "    .dataframe thead th {\n",
       "        text-align: right;\n",
       "    }\n",
       "</style>\n",
       "<table border=\"1\" class=\"dataframe\">\n",
       "  <thead>\n",
       "    <tr style=\"text-align: right;\">\n",
       "      <th></th>\n",
       "      <th>city</th>\n",
       "      <th>url</th>\n",
       "      <th>ville</th>\n",
       "      <th>nom</th>\n",
       "      <th>note</th>\n",
       "      <th>adresse</th>\n",
       "      <th>description</th>\n",
       "      <th>insee</th>\n",
       "      <th>lat</th>\n",
       "      <th>lon</th>\n",
       "      <th>date</th>\n",
       "      <th>pluiew_mean</th>\n",
       "      <th>tw_mean</th>\n",
       "    </tr>\n",
       "  </thead>\n",
       "  <tbody>\n",
       "    <tr>\n",
       "      <th>0</th>\n",
       "      <td>Gorges du Verdon</td>\n",
       "      <td>https://www.booking.com/hotel/fr/charming-stud...</td>\n",
       "      <td>Gorges du Verdon</td>\n",
       "      <td>CHARMING studio proche centre</td>\n",
       "      <td>Avec une note de 10</td>\n",
       "      <td>243 Route des Gorges du Verdon, 04120 Castella...</td>\n",
       "      <td>Situé à Castellane, l’hébergement CHARMING stu...</td>\n",
       "      <td>41440</td>\n",
       "      <td>43.749656</td>\n",
       "      <td>6.328562</td>\n",
       "      <td>2025-10-06</td>\n",
       "      <td>0.4</td>\n",
       "      <td>10.871429</td>\n",
       "    </tr>\n",
       "    <tr>\n",
       "      <th>1</th>\n",
       "      <td>Gorges du Verdon</td>\n",
       "      <td>https://www.booking.com/hotel/fr/la-bastide-de...</td>\n",
       "      <td>Gorges du Verdon</td>\n",
       "      <td>La Bastide des Marcassins</td>\n",
       "      <td>Avec une note de 10</td>\n",
       "      <td>81 All. du Rossignol, 83630 Moissac-Bellevue, ...</td>\n",
       "      <td>Situé à Moissac-Bellevue, l’hébergement La Bas...</td>\n",
       "      <td>41440</td>\n",
       "      <td>43.749656</td>\n",
       "      <td>6.328562</td>\n",
       "      <td>2025-10-06</td>\n",
       "      <td>0.4</td>\n",
       "      <td>10.871429</td>\n",
       "    </tr>\n",
       "    <tr>\n",
       "      <th>2</th>\n",
       "      <td>Gorges du Verdon</td>\n",
       "      <td>https://www.booking.com/hotel/fr/chambres-d-ho...</td>\n",
       "      <td>Gorges du Verdon</td>\n",
       "      <td>Gorges du Verdon - Chambres d'Hotes des arches...</td>\n",
       "      <td>Avec une note de 9.6</td>\n",
       "      <td>Chambre des arches 2388 Rte de Chasteuil, 0412...</td>\n",
       "      <td>Situé à Castellane, l’hébergement Gorges du Ve...</td>\n",
       "      <td>41440</td>\n",
       "      <td>43.749656</td>\n",
       "      <td>6.328562</td>\n",
       "      <td>2025-10-06</td>\n",
       "      <td>0.4</td>\n",
       "      <td>10.871429</td>\n",
       "    </tr>\n",
       "    <tr>\n",
       "      <th>3</th>\n",
       "      <td>Gorges du Verdon</td>\n",
       "      <td>https://www.booking.com/hotel/fr/montagnac-vil...</td>\n",
       "      <td>Gorges du Verdon</td>\n",
       "      <td>Montagnac Village House - Verdon</td>\n",
       "      <td>Avec une note de 9.5</td>\n",
       "      <td>53 Route Nouvelle, 04500 Montagnac, France</td>\n",
       "      <td>L’hébergement Montagnac Village House - Verdon...</td>\n",
       "      <td>41440</td>\n",
       "      <td>43.749656</td>\n",
       "      <td>6.328562</td>\n",
       "      <td>2025-10-06</td>\n",
       "      <td>0.4</td>\n",
       "      <td>10.871429</td>\n",
       "    </tr>\n",
       "    <tr>\n",
       "      <th>4</th>\n",
       "      <td>Gorges du Verdon</td>\n",
       "      <td>https://www.booking.com/hotel/fr/le-petit-para...</td>\n",
       "      <td>Gorges du Verdon</td>\n",
       "      <td>Le Petit Paradis Provençal</td>\n",
       "      <td>Avec une note de 9.6</td>\n",
       "      <td>261C Imp. du Bosquet, 04500 Allemagne-en-Prove...</td>\n",
       "      <td>Possédant une piscine extérieure ouverte en sa...</td>\n",
       "      <td>41440</td>\n",
       "      <td>43.749656</td>\n",
       "      <td>6.328562</td>\n",
       "      <td>2025-10-06</td>\n",
       "      <td>0.4</td>\n",
       "      <td>10.871429</td>\n",
       "    </tr>\n",
       "  </tbody>\n",
       "</table>\n",
       "</div>"
      ],
      "text/plain": [
       "               city                                                url  \\\n",
       "0  Gorges du Verdon  https://www.booking.com/hotel/fr/charming-stud...   \n",
       "1  Gorges du Verdon  https://www.booking.com/hotel/fr/la-bastide-de...   \n",
       "2  Gorges du Verdon  https://www.booking.com/hotel/fr/chambres-d-ho...   \n",
       "3  Gorges du Verdon  https://www.booking.com/hotel/fr/montagnac-vil...   \n",
       "4  Gorges du Verdon  https://www.booking.com/hotel/fr/le-petit-para...   \n",
       "\n",
       "              ville                                                nom  \\\n",
       "0  Gorges du Verdon                      CHARMING studio proche centre   \n",
       "1  Gorges du Verdon                          La Bastide des Marcassins   \n",
       "2  Gorges du Verdon  Gorges du Verdon - Chambres d'Hotes des arches...   \n",
       "3  Gorges du Verdon                   Montagnac Village House - Verdon   \n",
       "4  Gorges du Verdon                         Le Petit Paradis Provençal   \n",
       "\n",
       "                   note                                            adresse  \\\n",
       "0   Avec une note de 10  243 Route des Gorges du Verdon, 04120 Castella...   \n",
       "1   Avec une note de 10  81 All. du Rossignol, 83630 Moissac-Bellevue, ...   \n",
       "2  Avec une note de 9.6  Chambre des arches 2388 Rte de Chasteuil, 0412...   \n",
       "3  Avec une note de 9.5         53 Route Nouvelle, 04500 Montagnac, France   \n",
       "4  Avec une note de 9.6  261C Imp. du Bosquet, 04500 Allemagne-en-Prove...   \n",
       "\n",
       "                                         description  insee        lat  \\\n",
       "0  Situé à Castellane, l’hébergement CHARMING stu...  41440  43.749656   \n",
       "1  Situé à Moissac-Bellevue, l’hébergement La Bas...  41440  43.749656   \n",
       "2  Situé à Castellane, l’hébergement Gorges du Ve...  41440  43.749656   \n",
       "3  L’hébergement Montagnac Village House - Verdon...  41440  43.749656   \n",
       "4  Possédant une piscine extérieure ouverte en sa...  41440  43.749656   \n",
       "\n",
       "        lon        date  pluiew_mean    tw_mean  \n",
       "0  6.328562  2025-10-06          0.4  10.871429  \n",
       "1  6.328562  2025-10-06          0.4  10.871429  \n",
       "2  6.328562  2025-10-06          0.4  10.871429  \n",
       "3  6.328562  2025-10-06          0.4  10.871429  \n",
       "4  6.328562  2025-10-06          0.4  10.871429  "
      ]
     },
     "execution_count": 44,
     "metadata": {},
     "output_type": "execute_result"
    }
   ],
   "source": [
    "df.head()"
   ]
  },
  {
   "cell_type": "markdown",
   "metadata": {},
   "source": [
    "### 5.1.2. Clean data"
   ]
  },
  {
   "cell_type": "code",
   "execution_count": 45,
   "metadata": {},
   "outputs": [],
   "source": [
    "# Delete column city\n",
    "df = df.drop(columns='city')"
   ]
  },
  {
   "cell_type": "code",
   "execution_count": 46,
   "metadata": {},
   "outputs": [
    {
     "data": {
      "text/plain": [
       "note\n",
       "Avec une note de 9      67\n",
       "Avec une note de 10     58\n",
       "Avec une note de 8.5    44\n",
       "Avec une note de 9.4    41\n",
       "Avec une note de 8.6    39\n",
       "Avec une note de 9.5    39\n",
       "Avec une note de 9.1    39\n",
       "Avec une note de 9.6    34\n",
       "Avec une note de 9.2    33\n",
       "Avec une note de 9.3    32\n",
       "Avec une note de 8.2    28\n",
       "Avec une note de 8.7    27\n",
       "Avec une note de 8.8    26\n",
       "Avec une note de 8      25\n",
       "Avec une note de 8.9    20\n",
       "Avec une note de 8.3    19\n",
       "Avec une note de 9.7    17\n",
       "Avec une note de 9.8    17\n",
       "Avec une note de 8.1    16\n",
       "Non disponible          14\n",
       "Avec une note de 8.4    14\n",
       "Avec une note de 7.9     6\n",
       "Avec une note de 7.3     5\n",
       "Avec une note de 7.8     4\n",
       "Avec une note de 7.5     4\n",
       "Avec une note de 9.9     3\n",
       "Avec une note de 6       2\n",
       "Avec une note de 7.7     2\n",
       "Avec une note de 7.6     2\n",
       "Avec une note de 6.6     2\n",
       "Avec une note de 6.3     2\n",
       "Avec une note de 5.5     1\n",
       "Avec une note de 7.1     1\n",
       "Avec une note de 7       1\n",
       "Avec une note de 6.1     1\n",
       "Avec une note de 5.3     1\n",
       "Avec une note de 7.4     1\n",
       "Avec une note de 3.3     1\n",
       "Avec une note de 6.4     1\n",
       "Avec une note de 5.1     1\n",
       "Avec une note de 4.8     1\n",
       "Avec une note de 6.5     1\n",
       "Avec une note de 5.8     1\n",
       "Avec une note de 5.2     1\n",
       "Avec une note de 3.5     1\n",
       "Avec une note de 3.7     1\n",
       "Avec une note de 3       1\n",
       "Avec une note de 2.5     1\n",
       "Avec une note de 2.1     1\n",
       "Avec une note de 1.7     1\n",
       "Name: count, dtype: int64"
      ]
     },
     "execution_count": 46,
     "metadata": {},
     "output_type": "execute_result"
    }
   ],
   "source": [
    "# Check for strange in 'note' column\n",
    "df['note'].value_counts(ascending=False)"
   ]
  },
  {
   "cell_type": "code",
   "execution_count": 47,
   "metadata": {},
   "outputs": [
    {
     "data": {
      "text/plain": [
       "0    10.0\n",
       "1    10.0\n",
       "2     9.6\n",
       "3     9.5\n",
       "4     9.6\n",
       "Name: note, dtype: float64"
      ]
     },
     "execution_count": 47,
     "metadata": {},
     "output_type": "execute_result"
    }
   ],
   "source": [
    "# Keep only the note\n",
    "df['note'] = df['note'].str.split('de ').str[-1]\n",
    "df['note'] = pd.to_numeric(df['note'], errors=\"coerce\") # 'coerce' for invalid parsing to be set as NaN.\n",
    "df['note'].head()"
   ]
  },
  {
   "cell_type": "code",
   "execution_count": 48,
   "metadata": {},
   "outputs": [
    {
     "data": {
      "text/html": [
       "<div>\n",
       "<style scoped>\n",
       "    .dataframe tbody tr th:only-of-type {\n",
       "        vertical-align: middle;\n",
       "    }\n",
       "\n",
       "    .dataframe tbody tr th {\n",
       "        vertical-align: top;\n",
       "    }\n",
       "\n",
       "    .dataframe thead th {\n",
       "        text-align: right;\n",
       "    }\n",
       "</style>\n",
       "<table border=\"1\" class=\"dataframe\">\n",
       "  <thead>\n",
       "    <tr style=\"text-align: right;\">\n",
       "      <th></th>\n",
       "      <th>url</th>\n",
       "      <th>ville</th>\n",
       "      <th>nom</th>\n",
       "      <th>note</th>\n",
       "      <th>adresse</th>\n",
       "      <th>description</th>\n",
       "      <th>insee</th>\n",
       "      <th>lat</th>\n",
       "      <th>lon</th>\n",
       "      <th>date</th>\n",
       "      <th>pluiew_mean</th>\n",
       "      <th>tw_mean</th>\n",
       "    </tr>\n",
       "  </thead>\n",
       "  <tbody>\n",
       "    <tr>\n",
       "      <th>0</th>\n",
       "      <td>https://www.booking.com/hotel/fr/charming-stud...</td>\n",
       "      <td>Gorges du Verdon</td>\n",
       "      <td>CHARMING studio proche centre</td>\n",
       "      <td>10.0</td>\n",
       "      <td>243 Route des Gorges du Verdon, 04120 Castella...</td>\n",
       "      <td>Situé à Castellane, l’hébergement CHARMING stu...</td>\n",
       "      <td>41440</td>\n",
       "      <td>43.749656</td>\n",
       "      <td>6.328562</td>\n",
       "      <td>2025-10-06</td>\n",
       "      <td>0.4</td>\n",
       "      <td>10.871429</td>\n",
       "    </tr>\n",
       "    <tr>\n",
       "      <th>1</th>\n",
       "      <td>https://www.booking.com/hotel/fr/la-bastide-de...</td>\n",
       "      <td>Gorges du Verdon</td>\n",
       "      <td>La Bastide des Marcassins</td>\n",
       "      <td>10.0</td>\n",
       "      <td>81 All. du Rossignol, 83630 Moissac-Bellevue, ...</td>\n",
       "      <td>Situé à Moissac-Bellevue, l’hébergement La Bas...</td>\n",
       "      <td>41440</td>\n",
       "      <td>43.749656</td>\n",
       "      <td>6.328562</td>\n",
       "      <td>2025-10-06</td>\n",
       "      <td>0.4</td>\n",
       "      <td>10.871429</td>\n",
       "    </tr>\n",
       "    <tr>\n",
       "      <th>2</th>\n",
       "      <td>https://www.booking.com/hotel/fr/chambres-d-ho...</td>\n",
       "      <td>Gorges du Verdon</td>\n",
       "      <td>Gorges du Verdon - Chambres d'Hotes des arches...</td>\n",
       "      <td>9.6</td>\n",
       "      <td>Chambre des arches 2388 Rte de Chasteuil, 0412...</td>\n",
       "      <td>Situé à Castellane, l’hébergement Gorges du Ve...</td>\n",
       "      <td>41440</td>\n",
       "      <td>43.749656</td>\n",
       "      <td>6.328562</td>\n",
       "      <td>2025-10-06</td>\n",
       "      <td>0.4</td>\n",
       "      <td>10.871429</td>\n",
       "    </tr>\n",
       "    <tr>\n",
       "      <th>3</th>\n",
       "      <td>https://www.booking.com/hotel/fr/montagnac-vil...</td>\n",
       "      <td>Gorges du Verdon</td>\n",
       "      <td>Montagnac Village House - Verdon</td>\n",
       "      <td>9.5</td>\n",
       "      <td>53 Route Nouvelle, 04500 Montagnac, France</td>\n",
       "      <td>L’hébergement Montagnac Village House - Verdon...</td>\n",
       "      <td>41440</td>\n",
       "      <td>43.749656</td>\n",
       "      <td>6.328562</td>\n",
       "      <td>2025-10-06</td>\n",
       "      <td>0.4</td>\n",
       "      <td>10.871429</td>\n",
       "    </tr>\n",
       "    <tr>\n",
       "      <th>4</th>\n",
       "      <td>https://www.booking.com/hotel/fr/le-petit-para...</td>\n",
       "      <td>Gorges du Verdon</td>\n",
       "      <td>Le Petit Paradis Provençal</td>\n",
       "      <td>9.6</td>\n",
       "      <td>261C Imp. du Bosquet, 04500 Allemagne-en-Prove...</td>\n",
       "      <td>Possédant une piscine extérieure ouverte en sa...</td>\n",
       "      <td>41440</td>\n",
       "      <td>43.749656</td>\n",
       "      <td>6.328562</td>\n",
       "      <td>2025-10-06</td>\n",
       "      <td>0.4</td>\n",
       "      <td>10.871429</td>\n",
       "    </tr>\n",
       "  </tbody>\n",
       "</table>\n",
       "</div>"
      ],
      "text/plain": [
       "                                                 url             ville  \\\n",
       "0  https://www.booking.com/hotel/fr/charming-stud...  Gorges du Verdon   \n",
       "1  https://www.booking.com/hotel/fr/la-bastide-de...  Gorges du Verdon   \n",
       "2  https://www.booking.com/hotel/fr/chambres-d-ho...  Gorges du Verdon   \n",
       "3  https://www.booking.com/hotel/fr/montagnac-vil...  Gorges du Verdon   \n",
       "4  https://www.booking.com/hotel/fr/le-petit-para...  Gorges du Verdon   \n",
       "\n",
       "                                                 nom  note  \\\n",
       "0                      CHARMING studio proche centre  10.0   \n",
       "1                          La Bastide des Marcassins  10.0   \n",
       "2  Gorges du Verdon - Chambres d'Hotes des arches...   9.6   \n",
       "3                   Montagnac Village House - Verdon   9.5   \n",
       "4                         Le Petit Paradis Provençal   9.6   \n",
       "\n",
       "                                             adresse  \\\n",
       "0  243 Route des Gorges du Verdon, 04120 Castella...   \n",
       "1  81 All. du Rossignol, 83630 Moissac-Bellevue, ...   \n",
       "2  Chambre des arches 2388 Rte de Chasteuil, 0412...   \n",
       "3         53 Route Nouvelle, 04500 Montagnac, France   \n",
       "4  261C Imp. du Bosquet, 04500 Allemagne-en-Prove...   \n",
       "\n",
       "                                         description  insee        lat  \\\n",
       "0  Situé à Castellane, l’hébergement CHARMING stu...  41440  43.749656   \n",
       "1  Situé à Moissac-Bellevue, l’hébergement La Bas...  41440  43.749656   \n",
       "2  Situé à Castellane, l’hébergement Gorges du Ve...  41440  43.749656   \n",
       "3  L’hébergement Montagnac Village House - Verdon...  41440  43.749656   \n",
       "4  Possédant une piscine extérieure ouverte en sa...  41440  43.749656   \n",
       "\n",
       "        lon        date  pluiew_mean    tw_mean  \n",
       "0  6.328562  2025-10-06          0.4  10.871429  \n",
       "1  6.328562  2025-10-06          0.4  10.871429  \n",
       "2  6.328562  2025-10-06          0.4  10.871429  \n",
       "3  6.328562  2025-10-06          0.4  10.871429  \n",
       "4  6.328562  2025-10-06          0.4  10.871429  "
      ]
     },
     "execution_count": 48,
     "metadata": {},
     "output_type": "execute_result"
    }
   ],
   "source": [
    "df.head()"
   ]
  },
  {
   "cell_type": "code",
   "execution_count": 49,
   "metadata": {},
   "outputs": [
    {
     "name": "stdout",
     "output_type": "stream",
     "text": [
      "<class 'pandas.core.frame.DataFrame'>\n",
      "RangeIndex: 700 entries, 0 to 699\n",
      "Data columns (total 12 columns):\n",
      " #   Column       Non-Null Count  Dtype  \n",
      "---  ------       --------------  -----  \n",
      " 0   url          700 non-null    object \n",
      " 1   ville        700 non-null    object \n",
      " 2   nom          700 non-null    object \n",
      " 3   note         686 non-null    float64\n",
      " 4   adresse      700 non-null    object \n",
      " 5   description  700 non-null    object \n",
      " 6   insee        700 non-null    int64  \n",
      " 7   lat          700 non-null    float64\n",
      " 8   lon          700 non-null    float64\n",
      " 9   date         700 non-null    object \n",
      " 10  pluiew_mean  700 non-null    float64\n",
      " 11  tw_mean      700 non-null    float64\n",
      "dtypes: float64(5), int64(1), object(6)\n",
      "memory usage: 65.8+ KB\n"
     ]
    }
   ],
   "source": [
    "df.info()"
   ]
  },
  {
   "cell_type": "markdown",
   "metadata": {},
   "source": [
    "## 5.2. Get coordinates for each hotel"
   ]
  },
  {
   "cell_type": "code",
   "execution_count": null,
   "metadata": {},
   "outputs": [],
   "source": [
    "# Read .env file to get all credentials\n",
    "dotenv.load_dotenv()\n",
    "\n",
    "#Set up environmental variables for HERE API\n",
    "HERE_api_key = os.getenv(\"HERE_api_key\")\n",
    "HERE_api_URL = os.getenv(\"HERE_api_URL\")\n",
    "\n",
    "\n",
    "# Verification (optionnel)\n",
    "print(f\"API Key chargée : {HERE_api_key[:10]}...\" if HERE_api_key else \"❌ Erreur : clé non trouvée\")"
   ]
  },
  {
   "cell_type": "code",
   "execution_count": null,
   "metadata": {},
   "outputs": [],
   "source": [
    "# Function to find coordinates with address\n",
    "def geocode_here(address):\n",
    "    params = {\"q\": address, \"apiKey\": HERE_api_key}\n",
    "    r = requests.get(HERE_api_URL, params=params).json()\n",
    "    if \"items\" in r and len(r[\"items\"]) > 0:\n",
    "        lat_h = r[\"items\"][0][\"position\"][\"lat\"]\n",
    "        lon_h = r[\"items\"][0][\"position\"][\"lng\"]\n",
    "        return lat_h, lon_h\n",
    "    else:\n",
    "        return None, None\n",
    "\n",
    "df[[\"lat_h\", \"lon_h\"]] = df[\"adresse\"].apply(lambda x: pd.Series(geocode_here(x)))\n",
    "\n",
    "df.head()"
   ]
  },
  {
   "cell_type": "code",
   "execution_count": 27,
   "metadata": {},
   "outputs": [
    {
     "name": "stdout",
     "output_type": "stream",
     "text": [
      "<class 'pandas.core.frame.DataFrame'>\n",
      "RangeIndex: 700 entries, 0 to 699\n",
      "Data columns (total 14 columns):\n",
      " #   Column       Non-Null Count  Dtype  \n",
      "---  ------       --------------  -----  \n",
      " 0   url          700 non-null    object \n",
      " 1   ville        700 non-null    object \n",
      " 2   nom          700 non-null    object \n",
      " 3   note         660 non-null    float64\n",
      " 4   adresse      700 non-null    object \n",
      " 5   description  700 non-null    object \n",
      " 6   insee        700 non-null    int64  \n",
      " 7   lat          700 non-null    float64\n",
      " 8   lon          700 non-null    float64\n",
      " 9   date         700 non-null    object \n",
      " 10  pluiew_mean  700 non-null    float64\n",
      " 11  tw_mean      700 non-null    float64\n",
      " 12  lat_h        0 non-null      object \n",
      " 13  lon_h        0 non-null      object \n",
      "dtypes: float64(5), int64(1), object(8)\n",
      "memory usage: 76.7+ KB\n"
     ]
    }
   ],
   "source": [
    "df.info()"
   ]
  },
  {
   "cell_type": "code",
   "execution_count": null,
   "metadata": {},
   "outputs": [],
   "source": [
    "pd.DataFrame.to_csv(df, \"data/hotels_info.csv\", index=False)"
   ]
  },
  {
   "cell_type": "markdown",
   "metadata": {},
   "source": [
    "## 5.3. Visualization of best hotels in best cities"
   ]
  },
  {
   "cell_type": "code",
   "execution_count": 19,
   "metadata": {},
   "outputs": [
    {
     "data": {
      "text/html": [
       "<div>\n",
       "<style scoped>\n",
       "    .dataframe tbody tr th:only-of-type {\n",
       "        vertical-align: middle;\n",
       "    }\n",
       "\n",
       "    .dataframe tbody tr th {\n",
       "        vertical-align: top;\n",
       "    }\n",
       "\n",
       "    .dataframe thead th {\n",
       "        text-align: right;\n",
       "    }\n",
       "</style>\n",
       "<table border=\"1\" class=\"dataframe\">\n",
       "  <thead>\n",
       "    <tr style=\"text-align: right;\">\n",
       "      <th></th>\n",
       "      <th>url</th>\n",
       "      <th>ville</th>\n",
       "      <th>nom</th>\n",
       "      <th>note</th>\n",
       "      <th>adresse</th>\n",
       "      <th>description</th>\n",
       "      <th>insee</th>\n",
       "      <th>lat</th>\n",
       "      <th>lon</th>\n",
       "      <th>date</th>\n",
       "      <th>pluiew_mean</th>\n",
       "      <th>tw_mean</th>\n",
       "      <th>lat_h</th>\n",
       "      <th>lon_h</th>\n",
       "    </tr>\n",
       "  </thead>\n",
       "  <tbody>\n",
       "    <tr>\n",
       "      <th>0</th>\n",
       "      <td>https://www.booking.com/hotel/fr/charming-stud...</td>\n",
       "      <td>Gorges du Verdon</td>\n",
       "      <td>CHARMING studio proche centre</td>\n",
       "      <td>10.0</td>\n",
       "      <td>243 Route des Gorges du Verdon, 04120 Castella...</td>\n",
       "      <td>Situé à Castellane, l’hébergement CHARMING stu...</td>\n",
       "      <td>41440</td>\n",
       "      <td>43.749656</td>\n",
       "      <td>6.328562</td>\n",
       "      <td>2025-10-06</td>\n",
       "      <td>0.4</td>\n",
       "      <td>10.871429</td>\n",
       "      <td>43.84507</td>\n",
       "      <td>6.50694</td>\n",
       "    </tr>\n",
       "    <tr>\n",
       "      <th>1</th>\n",
       "      <td>https://www.booking.com/hotel/fr/la-bastide-de...</td>\n",
       "      <td>Gorges du Verdon</td>\n",
       "      <td>La Bastide des Marcassins</td>\n",
       "      <td>10.0</td>\n",
       "      <td>81 All. du Rossignol, 83630 Moissac-Bellevue, ...</td>\n",
       "      <td>Situé à Moissac-Bellevue, l’hébergement La Bas...</td>\n",
       "      <td>41440</td>\n",
       "      <td>43.749656</td>\n",
       "      <td>6.328562</td>\n",
       "      <td>2025-10-06</td>\n",
       "      <td>0.4</td>\n",
       "      <td>10.871429</td>\n",
       "      <td>43.65037</td>\n",
       "      <td>6.18103</td>\n",
       "    </tr>\n",
       "    <tr>\n",
       "      <th>2</th>\n",
       "      <td>https://www.booking.com/hotel/fr/chambres-d-ho...</td>\n",
       "      <td>Gorges du Verdon</td>\n",
       "      <td>Gorges du Verdon - Chambres d'Hotes des arches...</td>\n",
       "      <td>9.6</td>\n",
       "      <td>Chambre des arches 2388 Rte de Chasteuil, 0412...</td>\n",
       "      <td>Situé à Castellane, l’hébergement Gorges du Ve...</td>\n",
       "      <td>41440</td>\n",
       "      <td>43.749656</td>\n",
       "      <td>6.328562</td>\n",
       "      <td>2025-10-06</td>\n",
       "      <td>0.4</td>\n",
       "      <td>10.871429</td>\n",
       "      <td>43.83677</td>\n",
       "      <td>6.42174</td>\n",
       "    </tr>\n",
       "    <tr>\n",
       "      <th>3</th>\n",
       "      <td>https://www.booking.com/hotel/fr/montagnac-vil...</td>\n",
       "      <td>Gorges du Verdon</td>\n",
       "      <td>Montagnac Village House - Verdon</td>\n",
       "      <td>9.5</td>\n",
       "      <td>53 Route Nouvelle, 04500 Montagnac, France</td>\n",
       "      <td>L’hébergement Montagnac Village House - Verdon...</td>\n",
       "      <td>41440</td>\n",
       "      <td>43.749656</td>\n",
       "      <td>6.328562</td>\n",
       "      <td>2025-10-06</td>\n",
       "      <td>0.4</td>\n",
       "      <td>10.871429</td>\n",
       "      <td>43.77882</td>\n",
       "      <td>6.09671</td>\n",
       "    </tr>\n",
       "    <tr>\n",
       "      <th>4</th>\n",
       "      <td>https://www.booking.com/hotel/fr/le-petit-para...</td>\n",
       "      <td>Gorges du Verdon</td>\n",
       "      <td>Le Petit Paradis Provençal</td>\n",
       "      <td>9.6</td>\n",
       "      <td>261C Imp. du Bosquet, 04500 Allemagne-en-Prove...</td>\n",
       "      <td>Possédant une piscine extérieure ouverte en sa...</td>\n",
       "      <td>41440</td>\n",
       "      <td>43.749656</td>\n",
       "      <td>6.328562</td>\n",
       "      <td>2025-10-06</td>\n",
       "      <td>0.4</td>\n",
       "      <td>10.871429</td>\n",
       "      <td>43.78818</td>\n",
       "      <td>6.01919</td>\n",
       "    </tr>\n",
       "  </tbody>\n",
       "</table>\n",
       "</div>"
      ],
      "text/plain": [
       "                                                 url             ville  \\\n",
       "0  https://www.booking.com/hotel/fr/charming-stud...  Gorges du Verdon   \n",
       "1  https://www.booking.com/hotel/fr/la-bastide-de...  Gorges du Verdon   \n",
       "2  https://www.booking.com/hotel/fr/chambres-d-ho...  Gorges du Verdon   \n",
       "3  https://www.booking.com/hotel/fr/montagnac-vil...  Gorges du Verdon   \n",
       "4  https://www.booking.com/hotel/fr/le-petit-para...  Gorges du Verdon   \n",
       "\n",
       "                                                 nom  note  \\\n",
       "0                      CHARMING studio proche centre  10.0   \n",
       "1                          La Bastide des Marcassins  10.0   \n",
       "2  Gorges du Verdon - Chambres d'Hotes des arches...   9.6   \n",
       "3                   Montagnac Village House - Verdon   9.5   \n",
       "4                         Le Petit Paradis Provençal   9.6   \n",
       "\n",
       "                                             adresse  \\\n",
       "0  243 Route des Gorges du Verdon, 04120 Castella...   \n",
       "1  81 All. du Rossignol, 83630 Moissac-Bellevue, ...   \n",
       "2  Chambre des arches 2388 Rte de Chasteuil, 0412...   \n",
       "3         53 Route Nouvelle, 04500 Montagnac, France   \n",
       "4  261C Imp. du Bosquet, 04500 Allemagne-en-Prove...   \n",
       "\n",
       "                                         description  insee        lat  \\\n",
       "0  Situé à Castellane, l’hébergement CHARMING stu...  41440  43.749656   \n",
       "1  Situé à Moissac-Bellevue, l’hébergement La Bas...  41440  43.749656   \n",
       "2  Situé à Castellane, l’hébergement Gorges du Ve...  41440  43.749656   \n",
       "3  L’hébergement Montagnac Village House - Verdon...  41440  43.749656   \n",
       "4  Possédant une piscine extérieure ouverte en sa...  41440  43.749656   \n",
       "\n",
       "        lon        date  pluiew_mean    tw_mean     lat_h    lon_h  \n",
       "0  6.328562  2025-10-06          0.4  10.871429  43.84507  6.50694  \n",
       "1  6.328562  2025-10-06          0.4  10.871429  43.65037  6.18103  \n",
       "2  6.328562  2025-10-06          0.4  10.871429  43.83677  6.42174  \n",
       "3  6.328562  2025-10-06          0.4  10.871429  43.77882  6.09671  \n",
       "4  6.328562  2025-10-06          0.4  10.871429  43.78818  6.01919  "
      ]
     },
     "execution_count": 19,
     "metadata": {},
     "output_type": "execute_result"
    }
   ],
   "source": [
    "df = pd.read_csv(\"data/hotels_info.csv\")\n",
    "df.head()"
   ]
  },
  {
   "cell_type": "code",
   "execution_count": 20,
   "metadata": {},
   "outputs": [
    {
     "data": {
      "application/vnd.plotly.v1+json": {
       "config": {
        "plotlyServerURL": "https://plot.ly"
       },
       "data": [
        {
         "customdata": [
          [
           "https://www.booking.com/hotel/fr/charming-studio-proche-centre.fr.html",
           "243 Route des Gorges du Verdon, 04120 Castellane, France"
          ],
          [
           "https://www.booking.com/hotel/fr/la-bastide-des-marcassins.fr.html",
           "81 All. du Rossignol, 83630 Moissac-Bellevue, France"
          ],
          [
           "https://www.booking.com/hotel/fr/chambres-d-hotes-entre-gorges-du-verdon-et-castellane.fr.html",
           "Chambre des arches 2388 Rte de Chasteuil, 04120 Castellane, France"
          ],
          [
           "https://www.booking.com/hotel/fr/montagnac-village-house-verdon.fr.html",
           "53 Route Nouvelle, 04500 Montagnac, France"
          ],
          [
           "https://www.booking.com/hotel/fr/le-petit-paradis-provencal-lavandin-1.fr.html",
           "261C Imp. du Bosquet, 04500 Allemagne-en-Provence, France"
          ],
          [
           "https://www.booking.com/hotel/fr/le-petit-fabre.fr.html",
           "campagne des fabres, 04500 Montagnac, France"
          ],
          [
           "https://www.booking.com/hotel/fr/destination-ailleurs-eoulx.fr.html",
           "Quartier Latinaud, 04120 Castellane, France"
          ],
          [
           "https://www.booking.com/hotel/fr/la-ruchette.fr.html",
           "76 Rte de Roumoules, 04500 Riez, France"
          ],
          [
           "https://www.booking.com/hotel/fr/vous-viendrez-vivre-ici-2-pieces-etage-1-garage-a-moto.fr.html",
           "26 Rue Basse, 04500 Riez, France"
          ],
          [
           "https://www.booking.com/hotel/fr/agreable-maison-en-provence.fr.html",
           "39 Rue Roger Hivert, 04500 Allemagne-en-Provence, France"
          ],
          [
           "https://www.booking.com/hotel/fr/chaux-et-cristal.fr.html",
           "67 Rue de la Fontaine, 04120 La Garde, France"
          ],
          [
           "https://www.booking.com/hotel/fr/appartement-rdc-avec-terrasse-privee.fr.html",
           "24 Boulevard de la République, 04120 Castellane, France"
          ],
          [
           "https://www.booking.com/hotel/fr/cote-verdon-greoux-les-bains.fr.html",
           "Chemin de la Grande Aubergé, 04800 Gréoux-les-Bains, France"
          ],
          [
           "https://www.booking.com/hotel/fr/la-ferme-du-petit-segries.fr.html",
           "Le Petit Segries, 04360 Moustiers-Sainte-Marie, France"
          ],
          [
           "https://www.booking.com/hotel/fr/relais-notre-dame.fr.html",
           "Route de Montmeyan, 04500 Quinson, France"
          ],
          [
           "https://www.booking.com/hotel/fr/charme-de-la-provence-riez.fr.html",
           "1 Pass. F de Clugny, 04500 Riez, France"
          ],
          [
           "https://www.booking.com/hotel/fr/verdon-appartement-d-architecte.fr.html",
           "6 Route nationale, 83840 Comps-sur-Artuby, France"
          ],
          [
           "https://www.booking.com/hotel/fr/le-colombier-moustiers-sainte-marie.fr.html",
           "166 Route de La Palud, 04360 Moustiers-Sainte-Marie, France"
          ],
          [
           "https://www.booking.com/hotel/fr/la-bastide-des-cades-aiguines.fr.html",
           "Chemin de l'Estay, Champerlan, 83630 Aiguines, France"
          ],
          [
           "https://www.booking.com/hotel/fr/lou-figoun.fr.html",
           "5 Mas Grysélien Route de Valensole, 04800 Gréoux-les-Bains, France"
          ],
          [
           "https://www.booking.com/hotel/fr/david-la-tour-du-crieu.fr.html",
           "34 bis Chemin du Carrerot, 09100 La Tour-du-Crieu, France"
          ],
          [
           "https://www.booking.com/hotel/fr/gastezimmer-princess.fr.html",
           "Rimbaut, 09500 Mirepoix, France"
          ],
          [
           "https://www.booking.com/hotel/fr/la-maison-de-gourbit.fr.html",
           "103 Rue de la Taychounière, 09400 Rabat-les-Trois-Seigneurs, France"
          ],
          [
           "https://www.booking.com/hotel/fr/le-logis-des-abeilles.fr.html",
           "2 Rue du Ferrié Le village Le village, 09500 Lapenne, France"
          ],
          [
           "https://www.booking.com/hotel/fr/studio-la-lauze.fr.html",
           "17 Avenue Théophile Delcassé, 09110 Ax-les-Thermes, France"
          ],
          [
           "https://www.booking.com/hotel/fr/appartement-centre-ville-mirepoix.fr.html",
           "Appartement - 1er Etage 12 Rue Maréchal Clauzel, 09500 Mirepoix, France"
          ],
          [
           "https://www.booking.com/hotel/fr/les-colombages-mirepoix.fr.html",
           "Chemin de Larche, 09500 Mirepoix, France"
          ],
          [
           "https://www.booking.com/hotel/fr/gite-tintinnabule.fr.html",
           "19 Imp. du Marchand, 09120 Ventenac, France"
          ],
          [
           "https://www.booking.com/hotel/fr/chambre-d-hotes-cantariege.fr.html",
           "Chambre d'Hôtes La Bourdasse - 1720 Route de Crampagna , 09120 Loubens, France"
          ],
          [
           "https://www.booking.com/hotel/fr/appartement-ste-croix-volvestre.fr.html",
           "Bout de la ville, 09230 Sainte-Croix-de-Volvestre, France"
          ],
          [
           "https://www.booking.com/hotel/fr/la-caminada-vielha.fr.html",
           "5 Quartier Barri d'Amont, 09110 Montaillou, France"
          ],
          [
           "https://www.booking.com/hotel/fr/gite-du-mercadal-les-pujols.fr.html",
           "4 Impasse du Mercadal, 09100 Pamiers, France"
          ],
          [
           "https://www.booking.com/hotel/fr/domaine-de-bize.fr.html",
           "Chateau de Bize, Lieu-dit Bize, 09500 Mirepoix, France"
          ],
          [
           "https://www.booking.com/hotel/fr/poles-apart.fr.html",
           "19 Avenue Docteur François Gomma, 09110 Ax-les-Thermes, France"
          ],
          [
           "https://www.booking.com/hotel/fr/maison-chaleureuse-en-ariege.fr.html",
           "2635 Rte du pays D’Olmes, 09300 Roquefort-les-Cascades, France"
          ],
          [
           "https://www.booking.com/hotel/fr/corps-de-ferme-entierement-renove-maison-de-220m2.fr.html",
           "3 Chemin du Pountet, 09500 Tourtrol, France"
          ],
          [
           "https://www.booking.com/hotel/fr/skycircuitvilla-beautiful-detached-7-bed-villa-with-3000m2-grounds.fr.html",
           "1 Chemin de la Fonderie, 09190 Saint-Lizier, France"
          ],
          [
           "https://www.booking.com/hotel/fr/le-nid-du-pont-neuf.fr.html",
           "2nd floor right 39 Rue Gabriel Péri, 09100 Pamiers, France"
          ],
          [
           "https://www.booking.com/hotel/fr/appartement-cosy-de-50m2-2-chambres-avec-terrasse-plein-centre-d-ax-les-thermes.fr.html",
           "2 Rue Vendémiaire, 09110 Ax-les-Thermes, France"
          ],
          [
           "https://www.booking.com/hotel/fr/location-studio-a-guzet-neige-proche-des-pistes-et-de-esf.fr.html",
           "Apparemment 19 Résidence les Clarines, 09140 Ustou, France"
          ],
          [
           "https://www.booking.com/hotel/fr/le-passage-de-minuit.fr.html",
           "Maison rdch 40Rue des Études, 11000 Carcassonne, France"
          ],
          [
           "https://www.booking.com/hotel/fr/ecrin-de-varenca.fr.html",
           "1 23 Rue Jules Sauzède, 11000 Carcassonne, France"
          ],
          [
           "https://www.booking.com/hotel/fr/la-porte-de-la-cite.fr.html",
           "1 Rue Petite Côte de la Cité, 11000 Carcassonne, France"
          ],
          [
           "https://www.booking.com/hotel/fr/villa-carene.fr.html",
           "9 rue de la carène, 11000 Carcassonne, France"
          ],
          [
           "https://www.booking.com/hotel/fr/maison-henriette.fr.html",
           "28 Place Saint-Gimer, 11000 Carcassonne, France"
          ],
          [
           "https://www.booking.com/hotel/fr/blanquette.fr.html",
           "DOMAINE DE POULHARIES Chemin de Félines, 11000 Carcassonne, France"
          ],
          [
           "https://www.booking.com/hotel/fr/panorama-by-maison-bacou.fr.html",
           "17 chemin des anglais, 11000 Carcassonne, France"
          ],
          [
           "https://www.booking.com/hotel/fr/ecrin-de-la-cite-grand-panorama.fr.html",
           "Chemin des Ourtets, 11000 Carcassonne, France"
          ],
          [
           "https://www.booking.com/hotel/fr/le-rollin-carcassonne.fr.html",
           "1 Rue Ledru Rollin, 11000 Carcassonne, France"
          ],
          [
           "https://www.booking.com/hotel/fr/excellence-joli-t3-bourgeois.fr.html",
           "1er étage 11 Rue Marceau, 11000 Carcassonne, France"
          ],
          [
           "https://www.booking.com/hotel/fr/magnifique-t2-terrasse-parking-centre-ville-ad.fr.html",
           "2ème 29 Rue Antoine Marty, 11000 Carcassonne, France"
          ],
          [
           "https://www.booking.com/hotel/fr/le-tassigny-carcassonne.fr.html",
           "33, rue Jean Bringer 11000 Carcassonne , 11000 Carcassonne, France"
          ],
          [
           "https://www.booking.com/hotel/fr/au-point-du-jour-gites-carcassonne-carcassonne.fr.html",
           "19 Chemin du Point du Jour Montlegun, 11000 Carcassonne, France"
          ],
          [
           "https://www.booking.com/hotel/fr/la-maison-cachee-carcassonne.fr.html",
           "36 A rue trivalle, 11000 Carcassonne, France"
          ],
          [
           "https://www.booking.com/hotel/fr/43-belle-vue-luxury.fr.html",
           "43 quai du paicherou, 11000 Carcassonne, France"
          ],
          [
           "https://www.booking.com/hotel/fr/chambres-avec-vue-carcassonne.fr.html",
           "46 Rue Buffon, 11000 Carcassonne, France"
          ],
          [
           "https://www.booking.com/hotel/fr/sous-les-remparts-la-maison-pimprenelle.fr.html",
           "28 Chemin des Ourtets, 11000 Carcassonne, France"
          ],
          [
           "https://www.booking.com/hotel/fr/le-jardin-de-la-tour-pinte.fr.html",
           "5 Rue du Lavoir, 11000 Carcassonne, France"
          ],
          [
           "https://www.booking.com/hotel/fr/l-39-oree-de-la-cite.fr.html",
           "327, route de Saint Hilaire, 11000 Carcassonne, France"
          ],
          [
           "https://www.booking.com/hotel/fr/appartement-independant-a-carcassonne.fr.html",
           "14 Rue des Aulnes, 11000 Carcassonne, France"
          ],
          [
           "https://www.booking.com/hotel/fr/charming-duplex-with-air-conditioning-amp-parking-amp-pool.fr.html",
           "3715 Route de Saint-Canadet, 13540 Aix-en-Provence, France"
          ],
          [
           "https://www.booking.com/hotel/fr/aix-en-provence-centre-ville-quartier-mazarin-magnifique-loft.fr.html",
           "2 Rue Goyrand, 13100 Aix-en-Provence, France"
          ],
          [
           "https://www.booking.com/hotel/fr/studio-campagne-aix-en-provence.fr.html",
           "150 Chemin des Plaines, 13090 Aix-en-Provence, France"
          ],
          [
           "https://www.booking.com/hotel/fr/pavillon-de-beauregard.fr.html",
           "1541 chemin de Beauregard, 13100 Aix-en-Provence, France"
          ],
          [
           "https://www.booking.com/hotel/fr/appartement-dernier-etage-dans-bastide.fr.html",
           "1085 Route de Valcros, 13090 Aix-en-Provence, France"
          ],
          [
           "https://www.booking.com/hotel/fr/maison-dauphine.fr.html",
           "14 Rue du 4 Septembre, 13100 Aix-en-Provence, France"
          ],
          [
           "https://www.booking.com/hotel/fr/le-pigonnet.fr.html",
           "5, avenue du Pigonnet, 13090 Aix-en-Provence, France"
          ],
          [
           "https://www.booking.com/hotel/fr/villa-magui.fr.html",
           "2 Avenue de Tübingen, 13090 Aix-en-Provence, France"
          ],
          [
           "https://www.booking.com/hotel/fr/studio-avec-stationnement-aix-en-provence.fr.html",
           "2ème étage 20 Avenue du Docteur Bertrand, 13100 Aix-en-Provence, France"
          ],
          [
           "https://www.booking.com/hotel/fr/camping-chantecler-aix-en-provence.fr.html",
           "41 Avenue du Val Saint-André, 13100 Aix-en-Provence, France"
          ],
          [
           "https://www.booking.com/hotel/fr/le-mas-des-ecureuils.fr.html",
           "1170 Petite Route des Milles, 13090 Aix-en-Provence, France"
          ],
          [
           "https://www.booking.com/hotel/fr/belvoir-sissi.fr.html",
           "585 Chemin de l'Échelle à Aix-en-Provence, 13100 Aix-en-Provence, France"
          ],
          [
           "https://www.booking.com/hotel/fr/ha-tel-saint-christophe.fr.html",
           "2 Avenue Victor Hugo, 13100 Aix-en-Provence, France"
          ],
          [
           "https://www.booking.com/hotel/fr/studio-calme-campagne.fr.html",
           "B5 Résidence le Domaine de Puyricard, 13540 Aix-en-Provence, France"
          ],
          [
           "https://www.booking.com/hotel/fr/le-nelio.fr.html",
           "155 Rue Charles Duchesne, 13100 Aix-en-Provence, France"
          ],
          [
           "https://www.booking.com/hotel/fr/thecamp-amp-lodges.fr.html",
           "550 rue Denis Papin, 13100 Aix-en-Provence, France"
          ],
          [
           "https://www.booking.com/hotel/fr/best-western-de-l-arbois.fr.html",
           "97 Rue du Docteur Albert Aynaud, Parc de la Duranne, 13100 Aix-en-Provence, France"
          ],
          [
           "https://www.booking.com/hotel/fr/royal-mirabeau.fr.html",
           "775, Avenue Guillibert-De-La-Lauzière Pichaury Ii, Les Milles, 13591 Aix-en-Provence, France"
          ],
          [
           "https://www.booking.com/hotel/fr/aix-en-provence-pont-de-l-arc-fenouilleres.fr.html",
           "Avenue Arc de Meyran, 13100 Aix-en-Provence, France"
          ],
          [
           "https://www.booking.com/hotel/fr/mercure-aix-en-provence-beaumanoir.fr.html",
           "Rue Marcel Arnaud, 13100 Aix-en-Provence, France"
          ],
          [
           "https://www.booking.com/hotel/fr/grande-bastide-cassis.fr.html",
           "5 D559, 13260 Cassis, France"
          ],
          [
           "https://www.booking.com/hotel/fr/puerta-del-sol.fr.html",
           "AVENUE DES TERRASSES DE CASSIS, 13260 Cassis, France"
          ],
          [
           "https://www.booking.com/hotel/fr/villa-le-sud-cassis1.fr.html",
           "7 ET 7 Bis avenue des albizzi le clos des olivades, 13260 Cassis, France"
          ],
          [
           "https://www.booking.com/hotel/fr/cote-vignes-cassis.fr.html",
           "8 Chemin de Boudard, 13260 Cassis, France"
          ],
          [
           "https://www.booking.com/hotel/fr/the-secret-provence-gem.fr.html",
           "3 Avenue Auguste Favier, 13260 Cassis, France"
          ],
          [
           "https://www.booking.com/hotel/fr/appart-cassis.fr.html",
           "17 Avenue Victor Hugo, 13260 Cassis, France"
          ],
          [
           "https://www.booking.com/hotel/fr/villa-w.fr.html",
           "6 avenue de Verdun, 13260 Cassis, France"
          ],
          [
           "https://www.booking.com/hotel/fr/villa-le-sud-cassis.fr.html",
           "Le Clos Des Olivades 7 Avenue des Albizzi, 13260 Cassis, France"
          ],
          [
           "https://www.booking.com/hotel/fr/appartement-spacieux-t3-neuf.fr.html",
           "17 Avenue de la Marne, 13260 Cassis, France"
          ],
          [
           "https://www.booking.com/hotel/fr/le-ptit-paradis-d-emma-grand-t3-parking-terrasse.fr.html",
           "6 Avenue de Provence, 13260 Cassis, France"
          ],
          [
           "https://www.booking.com/hotel/fr/suites-23-cassis2.fr.html",
           "23 Avenue de Verdun, 13260 Cassis, France"
          ],
          [
           "https://www.booking.com/hotel/fr/le-petit-paradis-cassis.fr.html",
           "Traverse Saint-Marc, 13260 Cassis, France"
          ],
          [
           "https://www.booking.com/hotel/fr/villa-cassis.fr.html",
           "1 Avenue Notre Dame, 13260 Cassis, France"
          ],
          [
           "https://www.booking.com/hotel/fr/bastide-du-xix-cassis.fr.html",
           "Le clos de la tour 8 Route Pierre Imbert, 13260 Cassis, France"
          ],
          [
           "https://www.booking.com/hotel/fr/la-parenthese-cassidaine.fr.html",
           "Rue Frédéric Mistral, 13260 Cassis, France"
          ],
          [
           "https://www.booking.com/hotel/fr/la-boheme-by-k6-conciergerie-villas.fr.html",
           "residence grande bastide, route des crêtes, 13260 cassis, 13260 Cassis, France"
          ],
          [
           "https://www.booking.com/hotel/fr/magnifique-studio-cassis-cassis.fr.html",
           "Allée des Lauriers, 13260 Cassis, France"
          ],
          [
           "https://www.booking.com/hotel/fr/appartement-bord-de-plage-cassis.fr.html",
           "6 Rue Alexandre Rossat, 13260 Cassis, France"
          ],
          [
           "https://www.booking.com/hotel/fr/duplex-atypique-renove-en-plein-centre-du-village.fr.html",
           "5 Rue Alexandre Gervais, 13260 Cassis, France"
          ],
          [
           "https://www.booking.com/hotel/fr/puerto-cabana-grand-studio-avec-parking-et-terrasse-vue-port.fr.html",
           "3 Avenue de l'Amiral Ganteaume, 13260 Cassis, France"
          ],
          [
           "https://www.booking.com/hotel/fr/appartement-marseille10.fr.html",
           "55 Rue de Roubaix, 13013 Marseille, France"
          ],
          [
           "https://www.booking.com/hotel/fr/la-dolce-vita-marseille.fr.html",
           "16 Boulevard Dahdah, 13004 Marseille, France"
          ],
          [
           "https://www.booking.com/hotel/fr/rockypop-marseille-appartements.fr.html",
           "60 Rue du Rouet, Castellane et Préfecture, 13006 Marseille, France"
          ],
          [
           "https://www.booking.com/hotel/fr/villa-havre-des-calanques.fr.html",
           "6 Avenue Valmont, 13009 Marseille, France"
          ],
          [
           "https://www.booking.com/hotel/fr/chateau-gombert-marseille.fr.html",
           "237 Ch De Chateau Gombert, 13013 Marseille, France"
          ],
          [
           "https://www.booking.com/hotel/fr/appartement-chic-plage-des-catalans.fr.html",
           "3 Place du 4 Septembre, 13007 Marseille, France"
          ],
          [
           "https://www.booking.com/hotel/fr/cornich-kennedy.fr.html",
           "3 Traverse Félix Fregier, 13007 Marseille, France"
          ],
          [
           "https://www.booking.com/hotel/fr/le-central-parc-t2-spacieux-clim-wifi.fr.html",
           "27 Rue Paul Casimir, 13010 Marseille, France"
          ],
          [
           "https://www.booking.com/hotel/fr/la-villa-blanche.fr.html",
           "30 Chemin Des Grottes Loubieres, 13013 Marseille, France"
          ],
          [
           "https://www.booking.com/hotel/fr/le-friouli.fr.html",
           "batiment 8 A Quai d'Honneur Île Ratonneau, 13007 Marseille, France"
          ],
          [
           "https://www.booking.com/hotel/fr/maison-chaliot-hosts-amp-events.fr.html",
           "101 Boulevard Baille, 13005 Marseille, France"
          ],
          [
           "https://www.booking.com/hotel/fr/le-9eme-entracte.fr.html",
           "Bis 194 Boulevard de Sainte-Marguerite, 13009 Marseille, France"
          ],
          [
           "https://www.booking.com/hotel/fr/the-home-privacy.fr.html",
           "37 Route d'Allauch, 13011 Marseille, France"
          ],
          [
           "https://www.booking.com/hotel/fr/plage-des-catalans-marseille2.fr.html",
           "8 Rue des Catalans, 13007 Marseille, France"
          ],
          [
           "https://www.booking.com/hotel/fr/adorable-studio-25m2-tres-calme-avec-parking.fr.html",
           "39 Rue de la Saoupe, Saint-Menet, 13011 Marseille, France"
          ],
          [
           "https://www.booking.com/hotel/fr/studio-cosy-plage-amp-vieux-port.fr.html",
           "13 Rue Olive, 13007 Marseille, France"
          ],
          [
           "https://www.booking.com/hotel/fr/2-room-apartment-metro-joliette-bright-great-bed-netflix-no-aircon.fr.html",
           "Etage 4 123b Rue de l'Évêché, 13002 Marseille, France"
          ],
          [
           "https://www.booking.com/hotel/fr/sea-sun-amp-beaches.fr.html",
           "36 Square Michelet, 13009 Marseille, France"
          ],
          [
           "https://www.booking.com/hotel/fr/marseille-insolite-rare-studio-ile-du-frioul.fr.html",
           "1 Quai du Port Île Ratonneau, 13007 Marseille, France"
          ],
          [
           "https://www.booking.com/hotel/fr/grand-juste.fr.html",
           "80 Rue Auguste Blanqui, 13005 Marseille, France"
          ],
          [
           "https://www.booking.com/hotel/fr/appartement-centre-bayeux-cosy.fr.html",
           "58 Rue des Bouchers, 14400 Bayeux, France"
          ],
          [
           "https://www.booking.com/hotel/fr/maison-au-calme-bayeux.fr.html",
           "28 Rue de la Fée, 14400 Bayeux, France"
          ],
          [
           "https://www.booking.com/hotel/fr/ecole-buissonniere-apartment-complex.fr.html",
           "Saint-Vigor-Le-Grand 13 Rue de Courseulles, 14400 Bayeux, France"
          ],
          [
           "https://www.booking.com/hotel/fr/chanoines-bayeux.fr.html",
           "17 Rue des Chanoines, 14400 Bayeux, France"
          ],
          [
           "https://www.booking.com/hotel/fr/la-promesse-bayeux1.fr.html",
           "74 rue Saint-Malo 2ème étage, 14400 Bayeux, France"
          ],
          [
           "https://www.booking.com/hotel/fr/la-petite-bajocasse.fr.html",
           "6 Rue Montfiquet, 14400 Bayeux, France"
          ],
          [
           "https://www.booking.com/hotel/fr/familys-home-bayeux.fr.html",
           "2 Impasse Sainte-Julitte, 14400 Bayeux, France"
          ],
          [
           "https://www.booking.com/hotel/fr/the-victory.fr.html",
           "Non disponible"
          ],
          [
           "https://www.booking.com/hotel/fr/chambre-tout-confort-bayeux.fr.html",
           "5 Rue de la Campagne, 14400 Bayeux, France"
          ],
          [
           "https://www.booking.com/hotel/fr/clos-des-ursulines.fr.html",
           "18 Rue des Ursulines, 14400 Bayeux, France"
          ],
          [
           "https://www.booking.com/hotel/fr/d-days.fr.html",
           "1 Impasse des Sangles, 14400 Bayeux, France"
          ],
          [
           "https://www.booking.com/hotel/fr/appart-saint-patrice.fr.html",
           "32 Rue Saint-Patrice, 14400 Bayeux, France"
          ],
          [
           "https://www.booking.com/hotel/fr/le-lion-d-or-bayeux.fr.html",
           "71 Rue Saint Jean, 14400 Bayeux, France"
          ],
          [
           "https://www.booking.com/hotel/fr/clos-des-cordeliers.fr.html",
           "Rue des Cordeliers, 14400 Bayeux, France"
          ],
          [
           "https://www.booking.com/hotel/fr/etap-bayeux.fr.html",
           "Zone d'Activité de Nonant, Rue des Longues Haies, 14400 Bayeux, France"
          ],
          [
           "https://www.booking.com/hotel/fr/saint-patrice.fr.html",
           "30 Rue St Patrice, 14400 Bayeux, France"
          ],
          [
           "https://www.booking.com/hotel/fr/la-forge-de-vaucelles.fr.html",
           "Vaucelles 9 Avenue de la Drôme, 14400 Bayeux, France"
          ],
          [
           "https://www.booking.com/hotel/fr/la-naomath.fr.html",
           "17 Rue de la cartoucherie, Voie communale de Damigny, 14400 Bayeux, France"
          ],
          [
           "https://www.booking.com/hotel/fr/novotel.fr.html",
           "117 Rue Saint Patrice, 14400 Bayeux, France"
          ],
          [
           "https://www.booking.com/hotel/fr/appartement-des-ursulines.fr.html",
           "3 Rue Des Ursulines, 14400 Bayeux, France"
          ],
          [
           "https://www.booking.com/hotel/fr/bel-appartement-proche-du-marche.fr.html",
           "1 Rue Albert 1er, 17000 La Rochelle, France"
          ],
          [
           "https://www.booking.com/hotel/fr/la-rochelle-canal-loft.fr.html",
           "16 Rue Maurice Ravel, 17000 La Rochelle, France"
          ],
          [
           "https://www.booking.com/hotel/fr/maison-m-chambre-privee-acces-piscine-et-jacuzzi.fr.html",
           "3 Rue de la Plouzière, 17140 La Rochelle, France"
          ],
          [
           "https://www.booking.com/hotel/fr/appartement-elegant-avec-loggia-amp-parking-prive.fr.html",
           "12 Rue Maurice Ravel, 17000 La Rochelle, France"
          ],
          [
           "https://www.booking.com/hotel/fr/maison-de-ville-au-calme-avec-jardin-et-parking.fr.html",
           "Appartement 9 20 Rue Marius Lacroix, 17000 La Rochelle, France"
          ],
          [
           "https://www.booking.com/hotel/fr/frida-terrasse-exposee-plein-sud-wifi-parking-double.fr.html",
           "bat E 305 21 Rue Maurice Ravel, 17000 La Rochelle, France"
          ],
          [
           "https://www.booking.com/hotel/fr/la-residence-des-indes-la-rochelle1.fr.html",
           "4 Rue Réaumur, 17000 La Rochelle, France"
          ],
          [
           "https://www.booking.com/hotel/fr/t2-calme-vue-sur-les-toits-en-hyper-centre-a-cote-du-vieux-marche.fr.html",
           "11 Rue du Minage, 17000 La Rochelle, France"
          ],
          [
           "https://www.booking.com/hotel/fr/loverooml1timiste-tar.fr.html",
           "28 Rue Rambaud, 17000 La Rochelle, France"
          ],
          [
           "https://www.booking.com/hotel/fr/la-residence-de-france-residence-hoteliere.fr.html",
           "43 rue du Minage, 17000 La Rochelle, France"
          ],
          [
           "https://www.booking.com/hotel/fr/villa-charlotte-la-rochelle-centre.fr.html",
           "1 Rue Docteur Jamot, 17000 La Rochelle, France"
          ],
          [
           "https://www.booking.com/hotel/fr/comforthotelsaintnicolas.fr.html",
           "13 rue Sardinerie, 17000 La Rochelle, France"
          ],
          [
           "https://www.booking.com/hotel/fr/experience-nautique-a-la-rochelle-sortie-en-mer-amp-repos-a-bord-du-bateau-a-qua.fr.html",
           "Quai du Lazaret, 17000 La Rochelle, France"
          ],
          [
           "https://www.booking.com/hotel/fr/studio-au-pied-de-la-plage.fr.html",
           "32 rue de la Gloire, 17000 La Rochelle, France"
          ],
          [
           "https://www.booking.com/hotel/fr/de-paris-la-rochelle.fr.html",
           "18 rue Gargoulleau, 17000 La Rochelle, France"
          ],
          [
           "https://www.booking.com/hotel/fr/kyriad-la-rochelle-centre.fr.html",
           "51 rue de Périgny, 17000 La Rochelle, France"
          ],
          [
           "https://www.booking.com/hotel/fr/le-gambetta-marche-central.fr.html",
           "17 Rue Gambetta, 17000 La Rochelle, France"
          ],
          [
           "https://www.booking.com/hotel/fr/hotellesbrises.fr.html",
           "Chemin de la digue Richelieu, 17000 La Rochelle, France"
          ],
          [
           "https://www.booking.com/hotel/fr/50m-from-the-beach-ultra-cosy-balcony-near-the-cen.fr.html",
           "26 Rue de la Gloire, 17000 La Rochelle, France"
          ],
          [
           "https://www.booking.com/hotel/fr/bel-appartement-a-2-pas-du-vieux-port.fr.html",
           "29 Rue Saint-Nicolas, 17000 La Rochelle, France"
          ],
          [
           "https://www.booking.com/hotel/fr/elysee-darcy-devosge.fr.html",
           "B 9 RUE DEVOSGE  2ème Etage France, 21000 Dijon, France"
          ],
          [
           "https://www.booking.com/hotel/fr/dijon-hypercentre-loge-pompon.fr.html",
           "11 Rue du Bourg, Centre-ville de Dijon, 21000 Dijon, France"
          ],
          [
           "https://www.booking.com/hotel/fr/romantisme-et-glamour.fr.html",
           "1 Rue Raoul Dufy, 21000 Dijon, France"
          ],
          [
           "https://www.booking.com/hotel/fr/romantisme-et-glamour2.fr.html",
           "26 Boulevard Rembrandt, 21000 Dijon, France"
          ],
          [
           "https://www.booking.com/hotel/fr/appartement-darcy.fr.html",
           "1 rue Bernard Courtois, 21000 Dijon, France"
          ],
          [
           "https://www.booking.com/hotel/fr/the-down-town-nenad-39-s-spa.fr.html",
           "Fond de cours droite 22 Rue de Tivoli, Centre-ville de Dijon, 21000 Dijon, France"
          ],
          [
           "https://www.booking.com/hotel/fr/agreable-t2-au-centre-de-dijon.fr.html",
           "23 Rue Parmentier, 21000 Dijon, France"
          ],
          [
           "https://www.booking.com/hotel/fr/holiday-inn-dijon-sud-longvic-an-ihg.fr.html",
           "3 RUE DE BEAUREGARD, 21600 Dijon, France"
          ],
          [
           "https://www.booking.com/hotel/fr/residhome-dijon-cite-des-vignes.fr.html",
           "1 Avenue de l'Ouche, 21000 Dijon, France"
          ],
          [
           "https://www.booking.com/hotel/fr/havre-de-serenite-coeur-de-dijon.fr.html",
           "1 Place Barbe, 21000 Dijon, France"
          ],
          [
           "https://www.booking.com/hotel/fr/cosy-au-coeur-de-dijon.fr.html",
           "2 Rue Fournerat, 21000 Dijon, France"
          ],
          [
           "https://www.booking.com/hotel/fr/kyriad-dijon-centre-dijon.fr.html",
           "22 Avenue Marechal Foch, 21000 Dijon, France"
          ],
          [
           "https://www.booking.com/hotel/fr/le-duplex-dijonnais.fr.html",
           "10 Rue Fournerat, 21000 Dijon, France"
          ],
          [
           "https://www.booking.com/hotel/fr/b-amp-b-dijon-valmy-toison-d-39-or.fr.html",
           "19 Avenue Françoise Giroud, 21000 Dijon, France"
          ],
          [
           "https://www.booking.com/hotel/fr/montchapet.fr.html",
           "26 rue Jacques Cellerier, 21000 Dijon, France"
          ],
          [
           "https://www.booking.com/hotel/fr/holiday-inn-dijon.fr.html",
           "1 Place Marie de Bourgogne, 21000 Dijon, France"
          ],
          [
           "https://www.booking.com/hotel/fr/maladiere-la-belle-6p.fr.html",
           "41 Rue de la Maladière, 21000 Dijon, France"
          ],
          [
           "https://www.booking.com/hotel/fr/kyriad-prestige-dijon-nord-valmy-xml.fr.html",
           "Impasse aux Charmes D'asnières - Zac Valmy, 21000 Dijon, France"
          ],
          [
           "https://www.booking.com/hotel/fr/loft-aphrodite.fr.html",
           "95 Rue Berbisey, Centre-ville de Dijon, 21000 Dijon, France"
          ],
          [
           "https://www.booking.com/hotel/fr/logis-hotel-darcy-dijon-centre.fr.html",
           "Place Darcy, Centre-ville de Dijon, 21000 Dijon, France"
          ],
          [
           "https://www.booking.com/hotel/fr/maison-neuve-9-personnes-terrasse-amp-garage-prive.fr.html",
           "c 89c Chemin du Point du Jour, 25000 Besançon, France"
          ],
          [
           "https://www.booking.com/hotel/fr/le-central-hypercentre-standing-wifi-t.fr.html",
           "10 Grande Rue, 25000 Besançon, France"
          ],
          [
           "https://www.booking.com/hotel/fr/studio-le-petit-comtois.fr.html",
           "15 Chemin Français, 25000 Besançon, France"
          ],
          [
           "https://www.booking.com/hotel/fr/chambre-privee-proche-centre-et-gare-3.fr.html",
           "12 Rue Alexis Chopard, 25000 Besançon, France"
          ],
          [
           "https://www.booking.com/hotel/fr/fontaine-argent.fr.html",
           "23 Avenue Fontaine-Argent, 25000 Besançon, France"
          ],
          [
           "https://www.booking.com/hotel/fr/b-amp-b-besancon-valentin.fr.html",
           "3 Chemin des Trois Croix, 25480 Besançon, France"
          ],
          [
           "https://www.booking.com/hotel/fr/de-paris-besanasson.fr.html",
           "33 rue des Granges, 25000 Besançon, France"
          ],
          [
           "https://www.booking.com/hotel/fr/akena-besancon.fr.html",
           "1 Rue Victor Considérant, 25770 Besançon, France"
          ],
          [
           "https://www.booking.com/hotel/fr/residence-hauts-du-chazal.fr.html",
           "26, rue Paul Milleret, 25000 Besançon, France"
          ],
          [
           "https://www.booking.com/hotel/fr/appartement-cosy-en-plein-centre-historique.fr.html",
           "41 Rue Bersot, 25000 Besançon, France"
          ],
          [
           "https://www.booking.com/hotel/fr/bestwesterncitadelle.fr.html",
           "13 rue du Général Lecourbe, 25000 Besançon, France"
          ],
          [
           "https://www.booking.com/hotel/fr/besancon-parc-micaud.fr.html",
           "3 avenue Edouard Droz, 25000 Besançon, France"
          ],
          [
           "https://www.booking.com/hotel/fr/ibis-besancon-centre-ville.fr.html",
           "21 rue Gambetta, 25000 Besançon, France"
          ],
          [
           "https://www.booking.com/hotel/fr/hotel-restaurant-oxalys.fr.html",
           "3 Chemin des Founottes, 25000 Besançon, France"
          ],
          [
           "https://www.booking.com/hotel/fr/logis-de-france-florel.fr.html",
           "6, Rue de La Viotte, 25000 Besançon, France"
          ],
          [
           "https://www.booking.com/hotel/fr/ra-c-sidence-charles-quint.fr.html",
           "3, rue du Chapitre, 25000 Besançon, France"
          ],
          [
           "https://www.booking.com/hotel/fr/le-glamour.fr.html",
           "58 Rue Bersot, 25000 Besançon, France"
          ],
          [
           "https://www.booking.com/hotel/fr/ibis-budget-besanasson-centre-gare.fr.html",
           "5, avenue Maréchal Foch, 25000 Besançon, France"
          ],
          [
           "https://www.booking.com/hotel/fr/chambre-d-hote-proche-gare-et-centre-1.fr.html",
           "Rez-de-chaussée 12 Rue Alexis Chopard, 25000 Besançon, France"
          ],
          [
           "https://www.booking.com/hotel/fr/all-suites-besancon.fr.html",
           "17 Avenue des Montboucons, 25000 Besançon, France"
          ],
          [
           "https://www.booking.com/hotel/fr/aigues-marines-aigues-mortes1.fr.html",
           "604 Chem. de la Draille, 30220 Aigues-Mortes, France"
          ],
          [
           "https://www.booking.com/hotel/fr/mas-de-la-montille.fr.html",
           "Route des Saintes Marie de la Mer , 30220 Aigues-Mortes, France"
          ],
          [
           "https://www.booking.com/hotel/fr/chambre-d-hotes-adoya.fr.html",
           "5 Rue J J Rousseau, 30220 Aigues-Mortes, France"
          ],
          [
           "https://www.booking.com/hotel/fr/maison-de-mon-pere.fr.html",
           "17 Rue de la République, 30220 Aigues-Mortes, France"
          ],
          [
           "https://www.booking.com/hotel/fr/la-peniche-bed-and-bicycle-aigues-mortes.fr.html",
           "Quai du commerce, 30220 Aigues-Mortes, France"
          ],
          [
           "https://www.booking.com/hotel/fr/mas-des-jours-heureux-aigues-mortes-saint-laurent-d-39-aigouze.fr.html",
           "Les Courèges, 30220 Aigues-Mortes, France"
          ],
          [
           "https://www.booking.com/hotel/fr/les-remparts-aigues-mortes.fr.html",
           "6, Place Anatole France, 30220 Aigues-Mortes, France"
          ],
          [
           "https://www.booking.com/hotel/fr/le-royal-hotel-aigues-mortes.fr.html",
           "897, Route De Nîmes, 30220 Aigues-Mortes, France"
          ],
          [
           "https://www.booking.com/hotel/fr/des-4-vents.fr.html",
           "939 Route De Nimes, 30220 Aigues-Mortes, France"
          ],
          [
           "https://www.booking.com/hotel/fr/mas-saint-louis-saint-laurent-d-39-aigouze.fr.html",
           "Route des Saintes Mariés de la Mer, 30220 Aigues-Mortes, France"
          ],
          [
           "https://www.booking.com/hotel/fr/canal-aigues-mortes.fr.html",
           "440 Route De Nimes, 30220 Aigues-Mortes, France"
          ],
          [
           "https://www.booking.com/hotel/fr/les-templiers.fr.html",
           "21 Et 23 Rue De La Republique, 30220 Aigues-Mortes, France"
          ],
          [
           "https://www.booking.com/hotel/fr/luxury-b-amp-b-mas-de-l-39-etoile.fr.html",
           "6212 Route des saintes maries de la mer, 30220 Aigues-Mortes, France"
          ],
          [
           "https://www.booking.com/hotel/fr/chambre-belem-mas-saint-louis.fr.html",
           "MAS SAINT LOUIS -Route des Saintes Maries de la Mer, 30220 Aigues-Mortes, France"
          ],
          [
           "https://www.booking.com/hotel/fr/residence-odalys-fleur-de-sel.fr.html",
           "278 Chemin de Trouche, 30220 Aigues-Mortes, France"
          ],
          [
           "https://www.booking.com/hotel/fr/le-mas-des-sables-aigues-mortes.fr.html",
           "CD 979 Route de Nîmes, 30220 Aigues-Mortes, France"
          ],
          [
           "https://www.booking.com/hotel/fr/the-driant-beach-is-50m-and-150m-from-the-center.fr.html",
           "5 Rue du Colonel Driant Résidence Le Driant - Angle Rues Colonel Driant et Sémaphore, 30240 Le Grau-du-Roi, France"
          ],
          [
           "https://www.booking.com/hotel/fr/magnifique-vue-mer-et-terrasse-garage-clim-wifi-rossiconciergerie-linge-inclus.fr.html",
           "Temple du Soleil 272 Rue Frédéric Mistral, 34280 La Grande Motte, France"
          ],
          [
           "https://www.booking.com/hotel/fr/villa-camarguaise-entre-plage-et-centre-ville-avec-bassin-de-baignade.fr.html",
           "380 Avenue de Camargue, 30240 Le Grau-du-Roi, France"
          ],
          [
           "https://www.booking.com/hotel/fr/au-cabanon.fr.html",
           "945 Chemin Vieux d'Aiguës Mortes, 30220 Saint-Laurent-dʼAigouze, France"
          ],
          [
           "https://www.booking.com/hotel/fr/le-pigeonnier-nimes.fr.html",
           "Le pigeonnier 2240 ch du carreau de lanes, 30900 Nîmes, France"
          ],
          [
           "https://www.booking.com/hotel/fr/agreables-chambres-au-calme.fr.html",
           "216 Chemin de Puech Vert, 30900 Nîmes, France"
          ],
          [
           "https://www.booking.com/hotel/fr/maison-villa-avec-piscine-nimes.fr.html",
           "44 Rue du Mont Lozere, 30000 Nîmes, France"
          ],
          [
           "https://www.booking.com/hotel/fr/arche-denim.fr.html",
           "21 Rue Pierre Semard, 30000 Nîmes, France"
          ],
          [
           "https://www.booking.com/hotel/fr/le-genova-proche-du-centre-et-de-la-gare.fr.html",
           "2 Rue de Genève, 30000 Nîmes, France"
          ],
          [
           "https://www.booking.com/hotel/fr/maison-blanche-nimes.fr.html",
           "467 Chemin de Russan, 30000 Nîmes, France"
          ],
          [
           "https://www.booking.com/hotel/fr/appartement-spacieux-de-grand-standing-de-200-m2.fr.html",
           "1 Rue Formi, 30000 Nîmes, France"
          ],
          [
           "https://www.booking.com/hotel/fr/antichambre.fr.html",
           "11 rue bigot, 30900 Nîmes, France"
          ],
          [
           "https://www.booking.com/hotel/fr/detente-au-green.fr.html",
           "17 Rue du Green, 30900 Nîmes, France"
          ],
          [
           "https://www.booking.com/hotel/fr/jolie-villa-a-quelques-pas-du-centre-ville.fr.html",
           "175 Rue Henri Bosco, 30000 Nîmes, France"
          ],
          [
           "https://www.booking.com/hotel/fr/chambre-independante-piscine-et-terrasse-privative.fr.html",
           "1960 Chemin de la Cigale, 30900 Nîmes, France"
          ],
          [
           "https://www.booking.com/hotel/fr/patrick-amp-pierre-bnb-nimes.fr.html",
           "Rue Sainte Agnès, 30900 Nîmes, France"
          ],
          [
           "https://www.booking.com/hotel/fr/appartement-cosy-la-voute.fr.html",
           "Appartement 3A au rez-de-chaussée 3 Rue Astruc, 30000 Nîmes, France"
          ],
          [
           "https://www.booking.com/hotel/fr/suite-privee-bed-and-breakfast.fr.html",
           "Rue Sainte-Agnés, 30900 Nîmes, France"
          ],
          [
           "https://www.booking.com/hotel/fr/liss.fr.html",
           "Route d Alès Nîmes, 30000 Nîmes, France"
          ],
          [
           "https://www.booking.com/hotel/fr/cristal-suite-a-hidden-gem-in-historic-center.fr.html",
           "13 Grand Rue, 30000 Nîmes, France"
          ],
          [
           "https://www.booking.com/hotel/fr/allegriasuites-nimes-nimes.fr.html",
           "20 Rue Saint-Exupéry, 30900 Nîmes, France"
          ],
          [
           "https://www.booking.com/hotel/fr/nimes-downtown-apartment.fr.html",
           "1 2 Grand Rue, 30000 Nîmes, France"
          ],
          [
           "https://www.booking.com/hotel/fr/imperator-nimes.fr.html",
           "15 Rue Gaston Boissier, 30900 Nîmes, France"
          ],
          [
           "https://www.booking.com/hotel/fr/la-demeure-provencale-au-charme-suranne.fr.html",
           "34 Rue Pasteur, 30000 Nîmes, France"
          ],
          [
           "https://www.booking.com/hotel/fr/appartement-dans-de-flaux.fr.html",
           "7 rue Pelisserie, 30700 Uzès, France"
          ],
          [
           "https://www.booking.com/hotel/fr/la-suite-kyoto-appartement-prive-uzes.fr.html",
           "24 Boulevard Charles Gide, 30700 Uzès, France"
          ],
          [
           "https://www.booking.com/hotel/fr/le-mas-des-alexandrins.fr.html",
           "Chemin de la lavande, 30700 Uzès, France"
          ],
          [
           "https://www.booking.com/hotel/fr/manoir-des-sources.fr.html",
           "Route d'Arpaillargues, 30700 Uzès, France"
          ],
          [
           "https://www.booking.com/hotel/fr/hostellerie-provencale.fr.html",
           "1-3 Grande Bourgade, 30700 Uzès, France"
          ],
          [
           "https://www.booking.com/hotel/fr/villa-maelie.fr.html",
           "Chemin des Mirabelles, 30700 Uzès, France"
          ],
          [
           "https://www.booking.com/hotel/fr/domaine-de-privadiere.fr.html",
           "Domaine de Privadière, 30190 Uzès, France"
          ],
          [
           "https://www.booking.com/hotel/fr/patio-de-violette.fr.html",
           "8 Chemin de Trinquelaigues, 30700 Uzès, France"
          ],
          [
           "https://www.booking.com/hotel/fr/chez-louis-de-uzes.fr.html",
           "1er etage Residence Le parc des Ducs , 1 rue verdier Allut, 30700 Uzès, France"
          ],
          [
           "https://www.booking.com/hotel/fr/auberge-d-uzes.fr.html",
           "Pont des Charrettes, 30700 Uzès, France"
          ],
          [
           "https://www.booking.com/hotel/fr/uzes.fr.html",
           "2 Bis rue de l'Emmeraude, 30700 Uzès, France"
          ],
          [
           "https://www.booking.com/hotel/fr/appartement-centre-historique-uzes.fr.html",
           "18 Rue de la Grande Bourgade, 30700 Uzès, France"
          ],
          [
           "https://www.booking.com/hotel/fr/le-mas-du-lac.fr.html",
           "Chemin du Mas de Rey, 30700 Uzès, France"
          ],
          [
           "https://www.booking.com/hotel/fr/le-mas-des-lilas-uzes.fr.html",
           "Impasse de la Lavande, 30700 Uzès, France"
          ],
          [
           "https://www.booking.com/hotel/fr/les-gites-de-cayenne-gite-olivia.fr.html",
           "3 impasse des perdrix, 30700 Uzès, France"
          ],
          [
           "https://www.booking.com/hotel/fr/villa-mirabelle-uzes.fr.html",
           "1355 Chemin des Mirabelles, 30700 Uzès, France"
          ],
          [
           "https://www.booking.com/hotel/fr/les-olives.fr.html",
           "chemin de la Lavande, 30700 Uzès, France"
          ],
          [
           "https://www.booking.com/hotel/fr/les-toits-d-39-uzes.fr.html",
           "1 avenue Jean Jaurès, 30700 Uzès, France"
          ],
          [
           "https://www.booking.com/hotel/fr/kira-uzes.fr.html",
           "47 Rue du Portalet, 30700 Uzès, France"
          ],
          [
           "https://www.booking.com/hotel/fr/individuel-home.fr.html",
           "4 Rue du Salin, 30700 Uzès, France"
          ],
          [
           "https://www.booking.com/hotel/fr/chambres-d-hotes-en-aparte.fr.html",
           "7 Rue Cazals, 31200 Toulouse, France"
          ],
          [
           "https://www.booking.com/hotel/fr/havre-de-paix-coeur-saint-cyprien-centre-toulouse-clim-wifi-metro.fr.html",
           "12 Place du Ravelin, 31300 Toulouse, France"
          ],
          [
           "https://www.booking.com/hotel/fr/douce-evasion-toulouse.fr.html",
           "Numéro 40, étage 5 1 Impasse André Lartigue, 31500 Toulouse, France"
          ],
          [
           "https://www.booking.com/hotel/fr/sangha-toulouse.fr.html",
           "8 Place de la Charte des Libertés Communales, 31300 Toulouse, France"
          ],
          [
           "https://www.booking.com/hotel/fr/la-closerie-aux-violettes.fr.html",
           "249 Route de Narbonne, 31400 Toulouse, France"
          ],
          [
           "https://www.booking.com/hotel/fr/toulouse-centre.fr.html",
           "84 Allées Jean Jaurès, 31000 Toulouse, France"
          ],
          [
           "https://www.booking.com/hotel/fr/appartement-i-confort-et-lumineux-i-2-min-du-metro.fr.html",
           "25 Rue Monserby, 31500 Toulouse, France"
          ],
          [
           "https://www.booking.com/hotel/fr/l-explorateur-centre-ville-arrivee-autonome.fr.html",
           "14 Boulevard de Strasbourg, 31000 Toulouse, France"
          ],
          [
           "https://www.booking.com/hotel/fr/aparthotel-adagio-original-toulouse-centre-la-grave.fr.html",
           "24 Rue du Pont Saint-Pierre, 31300 Toulouse, France"
          ],
          [
           "https://www.booking.com/hotel/fr/la-maison-de-romain-avec-jardin.fr.html",
           "21 Avenue Lamartine, 31100 Toulouse, France"
          ],
          [
           "https://www.booking.com/hotel/fr/la-cartoucherie.fr.html",
           "1 Rue André Savés, 31300 Toulouse, France"
          ],
          [
           "https://www.booking.com/hotel/fr/soclo.fr.html",
           "34 Bis rue Valade, 31000 Toulouse, France"
          ],
          [
           "https://www.booking.com/hotel/fr/citea-toulouse-jolimont.fr.html",
           "11 avenue Léon Blum, 31500 Toulouse, France"
          ],
          [
           "https://www.booking.com/hotel/fr/la-chambre-de-pat.fr.html",
           "136 Route de Seysses, 31100 Toulouse, France"
          ],
          [
           "https://www.booking.com/hotel/fr/le-coccon-entre-basso-cambo-et-lardenne.fr.html",
           "A01 RDC GAUCHE 133 Route de Saint-Simon, 31100 Toulouse, France"
          ],
          [
           "https://www.booking.com/hotel/fr/residhome-toulouse-occitania.fr.html",
           "93 Avenue De Lombez, 31300 Toulouse, France"
          ],
          [
           "https://www.booking.com/hotel/fr/campaniletoulousecitedelespace.fr.html",
           "Rue Maurice Hurel, 31500 Toulouse, France"
          ],
          [
           "https://www.booking.com/hotel/fr/campanilepurpan.fr.html",
           "33 route de Bayonne, 31300 Toulouse, France"
          ],
          [
           "https://www.booking.com/hotel/fr/residhome-toulouse-ponts-jumeaux.fr.html",
           "105 Boulevard de l'Embouchure, 31200 Toulouse, France"
          ],
          [
           "https://www.booking.com/hotel/fr/superbe-appartement-dans-residence-avec-piscine-toulouse.fr.html",
           "5 Rue Emile Lecrivain, 31400 Toulouse, France"
          ],
          [
           "https://www.booking.com/hotel/fr/apparts-t4-le-prieure.fr.html",
           "2 Rue Saint-Laurent, 38000 Grenoble, France"
          ],
          [
           "https://www.booking.com/hotel/fr/chambre-chez-l-habitant-grenoble.fr.html",
           "47 Rue René Thomas, 38000 Grenoble, France"
          ],
          [
           "https://www.booking.com/hotel/fr/le-lussac.fr.html",
           "17 Rue Gay Lussac, 38100 Grenoble, France"
          ],
          [
           "https://www.booking.com/hotel/fr/superbe-parking-gratuit-wifi-puissant-balcon.fr.html",
           "72 Rue des Eaux Claires, 38100 Grenoble, France"
          ],
          [
           "https://www.booking.com/hotel/fr/the-grenoble-beret-gf.fr.html",
           "8 rue Aimé Berey, 38000 Grenoble, France"
          ],
          [
           "https://www.booking.com/hotel/fr/cocon-calme-a-2mn-clinique-mutualiste-et-tram.fr.html",
           "1er etage 6 Rue Joya, 38000 Grenoble, France"
          ],
          [
           "https://www.booking.com/hotel/fr/le-berriat-proche-gare-cci-gem.fr.html",
           "107 Cours Berriat, 38000 Grenoble, France"
          ],
          [
           "https://www.booking.com/hotel/fr/sarl-residilaverde.fr.html",
           "7 rue bizanet, 38000 Grenoble, France"
          ],
          [
           "https://www.booking.com/hotel/fr/les-3-arches-grenoble.fr.html",
           "23 Rue de la Poste, 38000 Grenoble, France"
          ],
          [
           "https://www.booking.com/hotel/fr/cute-apartment-of-96m-near-train-station-cx.fr.html",
           "37 rue Casimir Brenier, 38000 Grenoble, France"
          ],
          [
           "https://www.booking.com/hotel/fr/le-tresor-de-la-monnaie.fr.html",
           "97 Rue Saint-Laurent, 38000 Grenoble, France"
          ],
          [
           "https://www.booking.com/hotel/fr/44-foch-3.fr.html",
           "1er étage 44 Boulevard Maréchal Foch, 38000 Grenoble, France"
          ],
          [
           "https://www.booking.com/hotel/fr/bruyere.fr.html",
           "118 Avenue la Bruyère, 38100 Grenoble, France"
          ],
          [
           "https://www.booking.com/hotel/fr/ile-verte-entre-chu-amp-vieille-ville.fr.html",
           "36 Rue Ravier Piquet, 38000 Grenoble, France"
          ],
          [
           "https://www.booking.com/hotel/fr/le-bon-quai.fr.html",
           "40 Quai de France, 38000 Grenoble, France"
          ],
          [
           "https://www.booking.com/hotel/fr/le-beauvert-2-grenoble-grenoble.fr.html",
           "Appartement 306 5 éme étages 2 Avenue de Beauvert, 38100 Grenoble, France"
          ],
          [
           "https://www.booking.com/hotel/fr/plein-centre-suite-parentale-wifi-fibre-cocon.fr.html",
           "2 Rue Saint-Hugues, 38000 Grenoble, France"
          ],
          [
           "https://www.booking.com/hotel/fr/libertad-verdun.fr.html",
           "3 Rue de la Liberté, 38000 Grenoble, France"
          ],
          [
           "https://www.booking.com/hotel/fr/rockypop-grenoble.fr.html",
           "9 Rue de Strasbourg, 38000 Grenoble, France"
          ],
          [
           "https://www.booking.com/hotel/fr/le-grand-grenoble-centre.fr.html",
           "5 rue de la Republique, 38000 Grenoble, France"
          ],
          [
           "https://www.booking.com/hotel/fr/petit-cocon-lillois-cheminee-amp-jardin.fr.html",
           "89 Rue du Bois, 59800 Lille, France"
          ],
          [
           "https://www.booking.com/hotel/fr/central-hostel-lille-centre.fr.html",
           "10 Rue du Maréchal de Lattre de Tassigny, Centre de Lille, 59800 Lille, France"
          ],
          [
           "https://www.booking.com/hotel/fr/b-amp-b-lille-lillenium-eurasante-lille.fr.html",
           "306 Rue Geneviève Anthonioz de Gaulle, Lille Sud, 59000 Lille, France"
          ],
          [
           "https://www.booking.com/hotel/fr/jost-lille-centre-gare.fr.html",
           "10 Rue Meurein, Wazemmes, 59800 Lille, France"
          ],
          [
           "https://www.booking.com/hotel/fr/continental-lille.fr.html",
           "11 place de La Gare, Centre de Lille, 59000 Lille, France"
          ],
          [
           "https://www.booking.com/hotel/fr/jost-lille-wazemmes.fr.html",
           "10 Rue Meurein, Wazemmes, 59800 Lille, France"
          ],
          [
           "https://www.booking.com/hotel/fr/up.fr.html",
           "17 Place Des Reignaux, Centre de Lille, 59000 Lille, France"
          ],
          [
           "https://www.booking.com/hotel/fr/okko-hotels-lille-centre.fr.html",
           "13 Rue d'Amiens, Centre de Lille, 59800 Lille, France"
          ],
          [
           "https://www.booking.com/hotel/fr/barriere-lille.fr.html",
           "777 bis Pont De Flandres, Centre de Lille, 59777 Lille, France"
          ],
          [
           "https://www.booking.com/hotel/fr/gastama-hostel.fr.html",
           "109 rue de Saint-André, Vieux-Lille, 59000 Lille, France"
          ],
          [
           "https://www.booking.com/hotel/fr/calm-apparthotel.fr.html",
           "2 rue des Buisses, Centre de Lille, 59000 Lille, France"
          ],
          [
           "https://www.booking.com/hotel/fr/appart-city-cap-affaires-lille.fr.html",
           "30, place Vauban - La Madeleine, 59110 Lille, France"
          ],
          [
           "https://www.booking.com/hotel/fr/campanile-lille-euralille-xml.fr.html",
           "23 Allée Vauban - La Madeleine, 59110 Lille, France"
          ],
          [
           "https://www.booking.com/hotel/fr/flandre-angleterre.fr.html",
           "13 Place De La Gare, Centre de Lille, 59000 Lille, France"
          ],
          [
           "https://www.booking.com/hotel/fr/expressbyholidayinnlille.fr.html",
           "75 Bis Rue Leon Gambetta, Centre de Lille, 59000 Lille, France"
          ],
          [
           "https://www.booking.com/hotel/fr/hoteldelatreillelille.fr.html",
           "7/9 Place Louise de Bettignies, Vieux-Lille, 59000 Lille, France"
          ],
          [
           "https://www.booking.com/hotel/fr/superb-1br-flat-on-the-bois-blancs-district.fr.html",
           "app 13 35 Rue Henri Dunant, Bois Blancs, 59000 Lille, France"
          ],
          [
           "https://www.booking.com/hotel/fr/de-la-paix-lille.fr.html",
           "46 Bis Rue Pierre Mauroy , Centre de Lille, 59000 Lille, France"
          ],
          [
           "https://www.booking.com/hotel/fr/ibis-styles-lille-grand-place.fr.html",
           "28 rue Anatole France (rue de Roubaix), Centre de Lille, 59800 Lille, France"
          ],
          [
           "https://www.booking.com/hotel/fr/hotel-lille-euralille-hilton-affiliate.fr.html",
           "335, boulevard de Leeds, Centre de Lille, 59777 Lille, France"
          ],
          [
           "https://www.booking.com/hotel/fr/villa-la-renaissance-bayonne.fr.html",
           "12 Chemin de Jacquette, 64100 Bayonne, France"
          ],
          [
           "https://www.booking.com/hotel/fr/chez-fleur-bayonne.fr.html",
           "8 Rue Docteur André Vidal, 64100 Bayonne, France"
          ],
          [
           "https://www.booking.com/hotel/fr/des-basses-pyrenees.fr.html",
           "12, rue Tour De Sault, 64100 Bayonne, France"
          ],
          [
           "https://www.booking.com/hotel/fr/villa-koegui-bayonne.fr.html",
           "7 Rue Frédéric Bastiat, 64100 Bayonne, France"
          ],
          [
           "https://www.booking.com/hotel/fr/cote-basque.fr.html",
           "2 rue Maubec, 64100 Bayonne, France"
          ],
          [
           "https://www.booking.com/hotel/fr/comfort-bayonne-biarritz.fr.html",
           "1 chemin de Hayet, 64100 Bayonne, France"
          ],
          [
           "https://www.booking.com/hotel/fr/okko-hotels-bayonne-centre.fr.html",
           "22, boulevard du BAB, 64100 Bayonne, France"
          ],
          [
           "https://www.booking.com/hotel/fr/le-bayonne-ha-tel.fr.html",
           "1 Avenue Jean Rostand , 64100 Bayonne, France"
          ],
          [
           "https://www.booking.com/hotel/fr/hostel-20-bayonne.fr.html",
           "8 Rue Sainte-Catherine, 64100 Bayonne, France"
          ],
          [
           "https://www.booking.com/hotel/fr/ibis-budget-bayonne.fr.html",
           "6 avenue du Grand Basque, 64100 Bayonne, France"
          ],
          [
           "https://www.booking.com/hotel/fr/temporesidence-cathedrale.fr.html",
           "9 rue Sabaterie, 64100 Bayonne, France"
          ],
          [
           "https://www.booking.com/hotel/fr/ibis-bayonne.fr.html",
           "46 Boulevard Alsace Lorraine, 64100 Bayonne, France"
          ],
          [
           "https://www.booking.com/hotel/fr/duplex-90m2-terrasse.fr.html",
           "12 Rue Marengo, 64100 Bayonne, France"
          ],
          [
           "https://www.booking.com/hotel/fr/restaurant-les-genets.fr.html",
           "Rond Point de Maignon, 86 avenue du 8 Mai 1945, 64100 Bayonne, France"
          ],
          [
           "https://www.booking.com/hotel/fr/b-amp-b-bayonne.fr.html",
           "29 Rue Du Colonel Melville Lynch, 64100 Bayonne, France"
          ],
          [
           "https://www.booking.com/hotel/fr/des-arceaux.fr.html",
           "26, rue Port Neuf, 64100 Bayonne, France"
          ],
          [
           "https://www.booking.com/hotel/fr/campanile-bayonne.fr.html",
           "Avenue Du Grand Basque, 64100 Bayonne, France"
          ],
          [
           "https://www.booking.com/hotel/fr/premiere-classe-bayonne.fr.html",
           "3, rue Chalibardon, 64100 Bayonne, France"
          ],
          [
           "https://www.booking.com/hotel/fr/reflet-yourhosthelper.fr.html",
           "31 Allée Docteur Robert Lafon, 64100 Bayonne, France"
          ],
          [
           "https://www.booking.com/hotel/fr/hotelf1-bayonne.fr.html",
           "Za St Frederic II - 9 rue Chalibardon, 64100 Bayonne, France"
          ],
          [
           "https://www.booking.com/hotel/fr/maison-alta-mar-7-chambres-amp-jacuzzi.fr.html",
           "35 Rte du Pla de las Fourques, 66190 Collioure, France"
          ],
          [
           "https://www.booking.com/hotel/fr/duplex-rep-10-coeur-de-collioure.fr.html",
           "DUPLEX 2 ème Etage 10 Rue de la République, 66190 Collioure, France"
          ],
          [
           "https://www.booking.com/hotel/fr/collioure-appartement-37-m2-tout-equipe.fr.html",
           "residence Lléventina rue Taillefere à Collioure, 66190 Collioure, France"
          ],
          [
           "https://www.booking.com/hotel/fr/le-glacis.fr.html",
           "Rue des Glacis, 66190 Collioure, France"
          ],
          [
           "https://www.booking.com/hotel/fr/les-suites-de-collioure.fr.html",
           "16 avenue du Général de Gaulle, 66190 Collioure, France"
          ],
          [
           "https://www.booking.com/hotel/fr/casa-collioura.fr.html",
           "2 Place Orphila, 66190 Collioure, France"
          ],
          [
           "https://www.booking.com/hotel/fr/saphir-collioure1.fr.html",
           "4 Julien Py, 66190 Collioure, France"
          ],
          [
           "https://www.booking.com/hotel/fr/le-nid-de-gilles.fr.html",
           "3 Rue Raoul Dufy bis, 66190 Collioure, France"
          ],
          [
           "https://www.booking.com/hotel/fr/le-bon-port.fr.html",
           "12 Route De Port-Vendres, 66190 Collioure, France"
          ],
          [
           "https://www.booking.com/hotel/fr/ibanova.fr.html",
           "3 Rue du Soleil, 66190 Collioure, France"
          ],
          [
           "https://www.booking.com/hotel/fr/les-residences-de-collioure.fr.html",
           "20 Rue Jean Jacques Rousseau, 66190 Collioure, France"
          ],
          [
           "https://www.booking.com/hotel/fr/appartement-t2-et-terrasse-30m2.fr.html",
           "Rue de Taillefer, 66190 Collioure, France"
          ],
          [
           "https://www.booking.com/hotel/fr/residence-du-soleil-collioure.fr.html",
           "B 7 Rue du Soleil, 66190 Collioure, France"
          ],
          [
           "https://www.booking.com/hotel/fr/maevabalconsdecollioure.fr.html",
           "28, route de Port Vendres, 66190 Collioure, France"
          ],
          [
           "https://www.booking.com/hotel/fr/ha-tel-des-templiers.fr.html",
           "5 rue Colbert, 66190 Collioure, France"
          ],
          [
           "https://www.booking.com/hotel/fr/collioure-entre-mer-piscine-et-montagne.fr.html",
           "Résidence Colline - Bâtiment D - Appartement 14 1 Chemin de San Jaume, 66190 Collioure, France"
          ],
          [
           "https://www.booking.com/hotel/fr/23-rue-romain-rolland-appartement.fr.html",
           "23 Rue Romain Rolland, 66190 Collioure, France"
          ],
          [
           "https://www.booking.com/hotel/fr/duplex-quartier-pieton.fr.html",
           "9 rue Colbert, 66190 Collioure, France"
          ],
          [
           "https://www.booking.com/hotel/fr/camping-les-amandiers-collioure.fr.html",
           "chemin de l'ouille 1318 Camping les Amandiers, 66190 Collioure, France"
          ],
          [
           "https://www.booking.com/hotel/fr/2vse-alz07-studio-dans-residence-calme-proche-plage-collioure.fr.html",
           "RESIDENCE DU VAL SAINT ELME, 66190 Collioure, France"
          ],
          [
           "https://www.booking.com/hotel/fr/appartement-en-attique-strasbourg-ville-proche-gare-halles.fr.html",
           "5 Impasse du Mai, 67000 Strasbourg, France"
          ],
          [
           "https://www.booking.com/hotel/fr/cour-du-corbeau.fr.html",
           "6-8 Rue des Couples, 67000 Strasbourg, France"
          ],
          [
           "https://www.booking.com/hotel/fr/good-life-a-strasbourg.fr.html",
           "37 Avenue Christian Pfister, 67100 Strasbourg, France"
          ],
          [
           "https://www.booking.com/hotel/fr/beaucour.fr.html",
           "5 rue des Bouchers, 67000 Strasbourg, France"
          ],
          [
           "https://www.booking.com/hotel/fr/ibis-budget-strasbourg-centre-republique.fr.html",
           "23A Rue Oberlin, 67000 Strasbourg, France"
          ],
          [
           "https://www.booking.com/hotel/fr/okko-hotels-strasboug-centre-strasbourg12.fr.html",
           "46, Rue du Bassin d'Austerlitz, 67100 Strasbourg, France"
          ],
          [
           "https://www.booking.com/hotel/fr/hotel-kaijoo-by-happyculture.fr.html",
           "20, Rue du Jeu des Enfants, 67000 Strasbourg, France"
          ],
          [
           "https://www.booking.com/hotel/fr/leurope.fr.html",
           "38 rue du Fossé des Tanneurs, 67000 Strasbourg, France"
          ],
          [
           "https://www.booking.com/hotel/fr/ha-tel-ettenheim.fr.html",
           "3 Place de l'Hôpital, 67000 Strasbourg, France"
          ],
          [
           "https://www.booking.com/hotel/fr/hotel-restaurant-au-cerf-d-or.fr.html",
           "6 Place de l'Hôpital, 67000 Strasbourg, France"
          ],
          [
           "https://www.booking.com/hotel/fr/yg.fr.html",
           "14, Rue Jean Monnet, 67201 Strasbourg, France"
          ],
          [
           "https://www.booking.com/hotel/fr/camping-indigo-strasbourg.fr.html",
           "9, rue de l’Auberge de Jeunesse, 67200 Strasbourg, France"
          ],
          [
           "https://www.booking.com/hotel/fr/de-l-orangerie.fr.html",
           "58 Allee de la Robertsau, 67000 Strasbourg, France"
          ],
          [
           "https://www.booking.com/hotel/fr/sofitel-strasbourg.fr.html",
           "Place Saint Pierre Le Jeune, 67000 Strasbourg, France"
          ],
          [
           "https://www.booking.com/hotel/fr/campanile-strasbourg-ouest.fr.html",
           "12 Rue Charles Peguy, Zac De Hautepierre Sud, 67200 Strasbourg, France"
          ],
          [
           "https://www.booking.com/hotel/fr/appart-odalys-green-mars.fr.html",
           "27-29, rue du Marais Vert, 67000 Strasbourg, France"
          ],
          [
           "https://www.booking.com/hotel/fr/auberge-de-jeunesse-hi-strasbourg.fr.html",
           "9 Rue des Cavaliers, 67000 Strasbourg, France"
          ],
          [
           "https://www.booking.com/hotel/fr/chaleureux-studio-orangerie.fr.html",
           "11 Rue Massenet, 67000 Strasbourg, France"
          ],
          [
           "https://www.booking.com/hotel/fr/orangerie-studio.fr.html",
           "6 Avenue de l'Europe, 67000 Strasbourg, France"
          ],
          [
           "https://www.booking.com/hotel/fr/lingo104-confort-proche-centre-ville-transports-en-communs-lingolsheim.fr.html",
           "104 Rue du Maréchal Foch, 67380 Lingolsheim, France"
          ],
          [
           "https://www.booking.com/hotel/fr/colmar-centre-historique-vieux-colmar.fr.html",
           "1 Rue de Reiset, 68000 Colmar, France"
          ],
          [
           "https://www.booking.com/hotel/fr/colmar-centre-historique-vieux-colmar.fr.html",
           "1 Rue de Reiset, 68000 Colmar, France"
          ],
          [
           "https://www.booking.com/hotel/fr/studio-de-l-eau-colmar1.fr.html",
           "3 ème étage 6 Rue de l'Eau, 68000 Colmar, France"
          ],
          [
           "https://www.booking.com/hotel/fr/studio-de-l-eau-colmar1.fr.html",
           "3 ème étage 6 Rue de l'Eau, 68000 Colmar, France"
          ],
          [
           "https://www.booking.com/hotel/fr/l-europe.fr.html",
           "15 route de Neuf Brisach - Horbourg Wihr, 68180 Colmar, France"
          ],
          [
           "https://www.booking.com/hotel/fr/l-europe.fr.html",
           "15 route de Neuf Brisach - Horbourg Wihr, 68180 Colmar, France"
          ],
          [
           "https://www.booking.com/hotel/fr/colombiercolmar.fr.html",
           "7 rue Turenne, 68000 Colmar, France"
          ],
          [
           "https://www.booking.com/hotel/fr/the-family-industry.fr.html",
           "12 Rue du Nord, 68000 Colmar, France"
          ],
          [
           "https://www.booking.com/hotel/fr/appartement-chauffour-colmar-colmar123.fr.html",
           "9 rue chauffour, 68000 Colmar, France"
          ],
          [
           "https://www.booking.com/hotel/fr/du-ladhof.fr.html",
           "Allée Du Ladhof, 68000 Colmar, France"
          ],
          [
           "https://www.booking.com/hotel/fr/chez-sylvestre.fr.html",
           "3 Rue des Bonnes Gens, 68000 Colmar, France"
          ],
          [
           "https://www.booking.com/hotel/fr/ha-tel-du-ladhof.fr.html",
           "198 rue du Ladhof 68000 Colmar, 68000 Colmar, France"
          ],
          [
           "https://www.booking.com/hotel/fr/f1-de-colmar.fr.html",
           "36 Avenue de la Foire aux Vins, 68000 Colmar, France"
          ],
          [
           "https://www.booking.com/hotel/fr/openroc.fr.html",
           "18 chemin du Galtz, 68410 Trois-Épis, France"
          ],
          [
           "https://www.booking.com/hotel/fr/openroc.fr.html",
           "18 chemin du Galtz, 68410 Trois-Épis, France"
          ],
          [
           "https://www.booking.com/hotel/fr/suite-solie-spa-wintzenheim.fr.html",
           "2 Rue du Verger, 68920 Wintzenheim, France"
          ],
          [
           "https://www.booking.com/hotel/fr/suite-solie-spa-wintzenheim.fr.html",
           "2 Rue du Verger, 68920 Wintzenheim, France"
          ],
          [
           "https://www.booking.com/hotel/fr/cottage-1956.fr.html",
           "16, chemin du Galtz, 68410 Trois-Épis, France"
          ],
          [
           "https://www.booking.com/hotel/fr/cottage-1956.fr.html",
           "16, chemin du Galtz, 68410 Trois-Épis, France"
          ],
          [
           "https://www.booking.com/hotel/fr/villa-rosa.fr.html",
           "4, rue Thierry Schoere, 68410 Trois-Épis, France"
          ],
          [
           "https://www.booking.com/hotel/fr/villa-rosa.fr.html",
           "4, rue Thierry Schoere, 68410 Trois-Épis, France"
          ],
          [
           "https://www.booking.com/hotel/fr/les-loges-du-capucin.fr.html",
           "60 rue du General de Gaulle, 68240 Kaysersberg, France"
          ],
          [
           "https://www.booking.com/hotel/fr/les-loges-du-capucin.fr.html",
           "60 rue du General de Gaulle, 68240 Kaysersberg, France"
          ],
          [
           "https://www.booking.com/hotel/fr/quot-les-amandiers-quot.fr.html",
           "2,chemin du Mandelberg, 68630 Mittelwihr, France"
          ],
          [
           "https://www.booking.com/hotel/fr/quot-les-amandiers-quot.fr.html",
           "2,chemin du Mandelberg, 68630 Mittelwihr, France"
          ],
          [
           "https://www.booking.com/hotel/fr/appartement-les-tournesols.fr.html",
           "115 Rue du Général de Gaulle, 68240 Kaysersberg, France"
          ],
          [
           "https://www.booking.com/hotel/fr/grand-appartement-cosy-chez-pepette-a-5-min-de-colmar.fr.html",
           "Rue du Transformateur, 68126 Houssen, France"
          ],
          [
           "https://www.booking.com/hotel/fr/grand-appartement-cosy-chez-pepette-a-5-min-de-colmar.fr.html",
           "Rue du Transformateur, 68126 Houssen, France"
          ],
          [
           "https://www.booking.com/hotel/fr/appartement-le-ch-ti-alsacien.fr.html",
           "9 Rue Monseigneur Stumpf, 68420 Eguisheim, France"
          ],
          [
           "https://www.booking.com/hotel/fr/appartement-le-ch-ti-alsacien.fr.html",
           "9 Rue Monseigneur Stumpf, 68420 Eguisheim, France"
          ],
          [
           "https://www.booking.com/hotel/fr/demeure-d-antan.fr.html",
           "6 rue des raisins, 68980 Beblenheim, France"
          ],
          [
           "https://www.booking.com/hotel/fr/gewurztraminer-au-coeur-de-la-route-des-vins.fr.html",
           "28 Rue du Moulin, 68250 Pfaffenheim, France"
          ],
          [
           "https://www.booking.com/hotel/fr/pinot-gris-au-coeur-d-un-domaine-viticole.fr.html",
           "28 Rue du Moulin, 68250 Pfaffenheim, France"
          ],
          [
           "https://www.booking.com/hotel/fr/gite-charlotte-et-suzette.fr.html",
           "1 ère ètage 11 Place de la Mairie, 68420 Gueberschwihr, France"
          ],
          [
           "https://www.booking.com/hotel/fr/chez-eve.fr.html",
           "16 Rue du 4ème Spahis Marocains, 68250 Rouffach, France"
          ],
          [
           "https://www.booking.com/hotel/fr/le-moonloft-hebergement-insolite-pour-2-avec-son-sauna-panoramic.fr.html",
           "6c Bis 6 Rue du Bickenberg, 68570 Osenbach, France"
          ],
          [
           "https://www.booking.com/hotel/fr/chez-alfred-et-ra-c-gine.fr.html",
           "12, Place de la République, 68250 Rouffach, France"
          ],
          [
           "https://www.booking.com/hotel/fr/coquet-appartement-6-personnes.fr.html",
           "7 Rue du Taennchel, 68124 Wintzenheim, France"
          ],
          [
           "https://www.booking.com/hotel/fr/riesling-grande-terasse-ou-coeur-route-des-vins.fr.html",
           "28 Rue du Moulin, 68250 Pfaffenheim, France"
          ],
          [
           "https://www.booking.com/hotel/fr/duplex-tout-confort-2-min-de-colmar-parking-gratuit.fr.html",
           "25 Grand Rue, 68180 Horbourg-Wihr, France"
          ],
          [
           "https://www.booking.com/hotel/fr/logement-entier-route-des-vins-wintzenheim.fr.html",
           "66 Route de Colmar, 68920 Wintzenheim, France"
          ],
          [
           "https://www.booking.com/hotel/fr/chateau-r.fr.html",
           "57 Route d'Eguisheim, 68920 Wettolsheim, France"
          ],
          [
           "https://www.booking.com/hotel/fr/avalon-ii-et-iii.fr.html",
           "32 Rue Sainte-Anne, 68590 Thannenkirch, France"
          ],
          [
           "https://www.booking.com/hotel/fr/le-manoir-des-sens-gite-aux-parfums-et-couleurs-d-asie.fr.html",
           "21 route du haut koenigsbourg 23 Rte du Haut Koenigsbourg, 68750 Bergheim, France"
          ],
          [
           "https://www.booking.com/hotel/fr/escapade-cottage-2pers-avec-jacuzzi.fr.html",
           "6 Rue des Bateliers, 67600 Sélestat, France"
          ],
          [
           "https://www.booking.com/hotel/fr/gite-chez-jean-paul-freland.fr.html",
           "16 A Rue de la Combe, 68240 Fréland, France"
          ],
          [
           "https://www.booking.com/hotel/fr/avalon-iii.fr.html",
           "2 32 Rue Sainte-Anne, 68590 Thannenkirch, France"
          ],
          [
           "https://www.booking.com/hotel/fr/chambre-d-39-hotes-quot-au-vigneron-quot.fr.html",
           "3 rue Saint Gilles, 67220 Triembach-au-Val, France"
          ],
          [
           "https://www.booking.com/hotel/fr/bienvenue-chez-jacquou-chambre-d-hote-cher-l-habitant-aubure.fr.html",
           "7 Chemin du Brezouard, 68150 Aubure, France"
          ],
          [
           "https://www.booking.com/hotel/fr/a-l-oree-des-sapins-gite-2-pers-acces-spa.fr.html",
           "9 route de Sainte Marie aux Mines, 68150 Aubure, France"
          ],
          [
           "https://www.booking.com/hotel/fr/villa-kerangoues.fr.html",
           "61 Route de Muttersholtz, 67600 Sélestat, France"
          ],
          [
           "https://www.booking.com/hotel/fr/salutho-selestat.fr.html",
           "4 Rue Georges Clemenceau, 67600 Sélestat, France"
          ],
          [
           "https://www.booking.com/hotel/fr/au-petit-bonheur-studio-centre-ville.fr.html",
           "28 Rue des Chevaliers, 67600 Sélestat, France"
          ],
          [
           "https://www.booking.com/hotel/fr/escale-d-alsace.fr.html",
           "L'ESCALE d'ALSACE 8 Rue de la Gare, 68660 Lièpvre, France"
          ],
          [
           "https://www.booking.com/hotel/fr/pinot-gris-pinot-blanc.fr.html",
           "102B Route de Lapoutroie, 68240 Kaysersberg, France"
          ],
          [
           "https://www.booking.com/hotel/fr/au-pied-du-haut-koenigsbourg-2.fr.html",
           "21 Rue de la Montée, 68590 Saint-Hippolyte, France"
          ],
          [
           "https://www.booking.com/hotel/fr/gite-heinrich.fr.html",
           "15 RUE PRINCIPALE, 67600 Ebersheim, France"
          ],
          [
           "https://www.booking.com/hotel/fr/gite-a-l-39-oree-du-bois-steige.fr.html",
           "13 Rue du Beulot, 67220 Steige, France"
          ],
          [
           "https://www.booking.com/hotel/fr/gite-le-riesling.fr.html",
           "11 Grand Rue, 68750 Bergheim, France"
          ],
          [
           "https://www.booking.com/hotel/fr/mirabelle-apartment-ribeauville.fr.html",
           "9 Rue Flesch, 68150 Ribeauvillé, France"
          ],
          [
           "https://www.booking.com/hotel/fr/intercontinental-hotels-lyon-dieu.fr.html",
           "20 Quai Jules Courmont, 2e arr., 69002 Lyon, France"
          ],
          [
           "https://www.booking.com/hotel/fr/villaflorentine.fr.html",
           "25 Montée St Barthélémy, 5e arr., 69005 Lyon, France"
          ],
          [
           "https://www.booking.com/hotel/fr/courdesloges.fr.html",
           "6, rue du Boeuf, 5e arr., 69005 Lyon, France"
          ],
          [
           "https://www.booking.com/hotel/fr/villa-maia-lyon.fr.html",
           "8 rue Professeur Pierre Marion, 5e arr., 69005 Lyon, France"
          ],
          [
           "https://www.booking.com/hotel/fr/parksaone.fr.html",
           "26, rue Félix Mangini - Rue des mûriers, 9e arr., 69009 Lyon, France"
          ],
          [
           "https://www.booking.com/hotel/fr/gerland-apartment-ii.fr.html",
           "32B Rue Lieutenant Colonel Girard, 7e arr., 69007 Lyon, France"
          ],
          [
           "https://www.booking.com/hotel/fr/all-seasons-lyon-part-dieu.fr.html",
           "54 rue de la Villette, 3e arr., 69003 Lyon, France"
          ],
          [
           "https://www.booking.com/hotel/fr/lyon-ouest-lyon.fr.html",
           "50, Quai Professeur Paul Sédallian, 9e arr., 69009 Lyon, France"
          ],
          [
           "https://www.booking.com/hotel/fr/et-spa-fort-st-laurent-lyon-handwritten-collection.fr.html",
           "1 rue Bodin, 1er arr., 69001 Lyon, France"
          ],
          [
           "https://www.booking.com/hotel/fr/boscolo-exedra-lyon.fr.html",
           "11 Quai Jules Courmont, 2e arr., 69002 Lyon, France"
          ],
          [
           "https://www.booking.com/hotel/fr/le-royal-lyon.fr.html",
           "20 Place Bellecour, 2e arr., 69002 Lyon, France"
          ],
          [
           "https://www.booking.com/hotel/fr/nocnoc-le-michelangelo.fr.html",
           "3rd floor 4 Rue Commandant Dubois, 3e arr., 69003 Lyon, France"
          ],
          [
           "https://www.booking.com/hotel/fr/etap-lyon-part-dieu.fr.html",
           "52, Rue de la Villette, 3e arr., 69003 Lyon, France"
          ],
          [
           "https://www.booking.com/hotel/fr/otelia.fr.html",
           "200 Avenue Berthelot, 7e arr., 69007 Lyon, France"
          ],
          [
           "https://www.booking.com/hotel/fr/lagrange-city-apartha-tel-lyon-lumia-re.fr.html",
           "81-85 Cours Albert Thomas, 3e arr., 69003 Lyon, France"
          ],
          [
           "https://www.booking.com/hotel/fr/studio-vaise-3-centre-lyon-69009.fr.html",
           "43 Rue de Saint Cyr, 9e arr., 69009 Lyon, France"
          ],
          [
           "https://www.booking.com/hotel/fr/lyon-metropole.fr.html",
           "85 quai Joseph Gillet, 4e arr., 69004 Lyon, France"
          ],
          [
           "https://www.booking.com/hotel/fr/the-ruck.fr.html",
           "345 Avenue Jean Jaurès, 7e arr., 69007 Lyon, France"
          ],
          [
           "https://www.booking.com/hotel/fr/comfort-suite-rive-gauche-lyon-centre.fr.html",
           "31, rue Chevreul, 7e arr., 69007 Lyon, France"
          ],
          [
           "https://www.booking.com/hotel/fr/perrache.fr.html",
           "12 rue Marc Antoine Petit, 2e arr., 69002 Lyon, France"
          ],
          [
           "https://www.booking.com/hotel/fr/le-loft-sommeiller-19-pres-du-lac.fr.html",
           "Montée B 19 Rue Sommeiller, 74000 Annecy, France"
          ],
          [
           "https://www.booking.com/hotel/fr/la-maison-blanche-74.fr.html",
           "14 Chemin Platton, 74940 Annecy, France"
          ],
          [
           "https://www.booking.com/hotel/fr/alery-loft.fr.html",
           "2ème étage 4 Avenue d'Aléry, 74000 Annecy, France"
          ],
          [
           "https://www.booking.com/hotel/fr/apartment-silenes-2.fr.html",
           "Résidence Les Silenes - 56 D Ch De La Traverse - Talloires, 74290 Annecy, France"
          ],
          [
           "https://www.booking.com/hotel/fr/lac-arte-postale.fr.html",
           "E2 208 8 Chemin de Tillier, 74000 Annecy, France"
          ],
          [
           "https://www.booking.com/hotel/fr/le-baroque-clim-et-sauna.fr.html",
           "1 4 Passage des Bains, 74000 Annecy, France"
          ],
          [
           "https://www.booking.com/hotel/fr/la-cour-du-6.fr.html",
           "6 bis Rue Royale, 74000 Annecy, France"
          ],
          [
           "https://www.booking.com/hotel/fr/le-royal.fr.html",
           "9 rue Royale, 74000 Annecy, France"
          ],
          [
           "https://www.booking.com/hotel/fr/leprecarre.fr.html",
           "27 Rue Sommeiller, 74000 Annecy, France"
          ],
          [
           "https://www.booking.com/hotel/fr/alery.fr.html",
           "5 avenue d'Aléry, 74000 Annecy, France"
          ],
          [
           "https://www.booking.com/hotel/fr/annecy-nailas-apartement.fr.html",
           "116 Avenue de Genève, 74000 Annecy, France"
          ],
          [
           "https://www.booking.com/hotel/fr/studio-neuf-avant-scene.fr.html",
           "E108 10 Chemin de Tillier, 74000 Annecy, France"
          ],
          [
           "https://www.booking.com/hotel/fr/appartement-annecy-centre-annecy1.fr.html",
           "2 Boulevard de la Rocade, 74000 Annecy, France"
          ],
          [
           "https://www.booking.com/hotel/fr/splendid-hotel-annecy.fr.html",
           "4 Quai Eustache Chappuis, 74000 Annecy, France"
          ],
          [
           "https://www.booking.com/hotel/fr/le-balcon-de-la-vieille-ville-annecy.fr.html",
           "17 et 19 Rue Sainte-Claire, 74000 Annecy, France"
          ],
          [
           "https://www.booking.com/hotel/fr/le-pelican-annecy1.fr.html",
           "20 Rue des Marquisats, 74000 Annecy, France"
          ],
          [
           "https://www.booking.com/hotel/fr/rivage-amp-spa-annecy.fr.html",
           "33 Avenue du Petit Port, 74000 Annecy, France"
          ],
          [
           "https://www.booking.com/hotel/fr/les-suites-sainte-claire.fr.html",
           "16 Rue Sainte-Claire, 74000 Annecy, France"
          ],
          [
           "https://www.booking.com/hotel/fr/b-amp-b-annecy-cran-gevrier.fr.html",
           "16 Route de Nanfray, 74000 Annecy, France"
          ],
          [
           "https://www.booking.com/hotel/fr/ace-annecy.fr.html",
           "8 Boulevard du Semnoz  - Zone d'activités  de Periaz Seynod, 74600 Annecy, France"
          ],
          [
           "https://www.booking.com/hotel/fr/2-chambres-en-appartement-a-paris-12.fr.html",
           "34 Rue Claude Decaen, 12e arr., 75012 Paris, France"
          ],
          [
           "https://www.booking.com/hotel/fr/belle-chambre-avec-sanitaires-privatifs.fr.html",
           "34 Rue Robert Lindet, 15e arr., 75015 Paris, France"
          ],
          [
           "https://www.booking.com/hotel/fr/ledion-paris-14.fr.html",
           "13 Rue Ledion, 14e arr., 75014 Paris, France"
          ],
          [
           "https://www.booking.com/hotel/fr/luxury-appartement-165m2-paris-16-victor-hugo-etoile-ac.fr.html",
           "3 18 Avenue Hubert Germain, 16e arr., 75016 Paris, France"
          ],
          [
           "https://www.booking.com/hotel/fr/duplex-pres-des-champs-elysees.fr.html",
           "3 Villa de la Faisanderie, 16e arr., 75016 Paris, France"
          ],
          [
           "https://www.booking.com/hotel/fr/t3-balcon-parking-clim-3mn-pied-metro-8-et-t3.fr.html",
           "14 Avenue du Général Michel Bizot, 12e arr., 75012 Paris, France"
          ],
          [
           "https://www.booking.com/hotel/fr/too-paris-mgallery.fr.html",
           "65 Rue Bruneseau, 13e arr., 75013 Paris, France"
          ],
          [
           "https://www.booking.com/hotel/fr/le-milie-rose.fr.html",
           "22 rue des petites écuries, 10e arr., 75010 Paris, France"
          ],
          [
           "https://www.booking.com/hotel/fr/motel-one-paris-porte-doree.fr.html",
           "295 Avenue Daumesnil, 12e arr., 75012 Paris, France"
          ],
          [
           "https://www.booking.com/hotel/fr/virgina.fr.html",
           "66 rue du Père Corentin, 14e arr., 75014 Paris, France"
          ],
          [
           "https://www.booking.com/hotel/fr/charma.fr.html",
           "14 bis, rue des Maraichers, 20e arr., 75020 Paris, France"
          ],
          [
           "https://www.booking.com/hotel/fr/de-l-orchidee.fr.html",
           "65 rue de l'Ouest, 14e arr., 75014 Paris, France"
          ],
          [
           "https://www.booking.com/hotel/fr/de-l-exposition-tour-eiffel.fr.html",
           "42 Bis Rue Du Théatre, 15e arr., 75015 Paris, France"
          ],
          [
           "https://www.booking.com/hotel/fr/hotel-ohm-by-happyculture.fr.html",
           "11 rue Claude Terrasse, 16e arr., 75016 Paris, France"
          ],
          [
           "https://www.booking.com/hotel/fr/park-and-suites-grande-bibliotheque.fr.html",
           "15 Rue de Tolbiac, 13e arr., 75013 Paris, France"
          ],
          [
           "https://www.booking.com/hotel/fr/citadines-aparthotel-opera-drouot.fr.html",
           "18, Rue Favart, 2e arr., 75002 Paris, France"
          ],
          [
           "https://www.booking.com/hotel/fr/de-l-empereir.fr.html",
           "2 Rue Chevert, 7e arr., 75007 Paris, France"
          ],
          [
           "https://www.booking.com/hotel/fr/luxurious-apartment-center-of-paris.fr.html",
           "7 Rue de l'Arbalète, 5e arr., 75005 Paris, France"
          ],
          [
           "https://www.booking.com/hotel/fr/card.fr.html",
           "104 Rue Cardinet, 17e arr., 75017 Paris, France"
          ],
          [
           "https://www.booking.com/hotel/fr/hotelrelaisbosquet.fr.html",
           "19, Rue du Champ de Mars, 7e arr., 75007 Paris, France"
          ],
          [
           "https://www.booking.com/hotel/fr/dalikyda-la-canopee-wifi-quiet-and-secure.fr.html",
           "64 Rue de Pressensé, 76600 Le Havre, France"
          ],
          [
           "https://www.booking.com/hotel/fr/le-petit-havrais.fr.html",
           "16 Rue Bougainville, 76600 Le Havre, France"
          ],
          [
           "https://www.booking.com/hotel/fr/confort-et-serenite-5-min-plage.fr.html",
           "31 Rue Irène Joliot Curie, 76620 Le Havre, France"
          ],
          [
           "https://www.booking.com/hotel/fr/le-baiser-1-bunker-du-plaisir-interdit.fr.html",
           "190 Rue Roland Garros, 76620 Le Havre, France"
          ],
          [
           "https://www.booking.com/hotel/fr/le-tellier-le-havre-le-havre.fr.html",
           "24 Rue Jules Tellier, 76600 Le Havre, France"
          ],
          [
           "https://www.booking.com/hotel/fr/le-discret-le-havre.fr.html",
           "7 Rue Cassard, 76600 Le Havre, France"
          ],
          [
           "https://www.booking.com/hotel/fr/charmant-perret-centre-ville-2-chambres-ideales.fr.html",
           "14 Place du Général de Gaulle, Perret, 76600 Le Havre, France"
          ],
          [
           "https://www.booking.com/hotel/fr/studio-meuble-9.fr.html",
           "104 Rue Audran, 76600 Le Havre, France"
          ],
          [
           "https://www.booking.com/hotel/fr/rue-du-general-sarrail-f2.fr.html",
           "92 Rue du Général Sarrail, 76600 Le Havre, France"
          ],
          [
           "https://www.booking.com/hotel/fr/le-central-le-havre.fr.html",
           "58 Rue Jules Tellier, 76600 Le Havre, France"
          ],
          [
           "https://www.booking.com/hotel/fr/vivez-les-flots-bleus.fr.html",
           "21 Rue de la Mailleraye, Perret, 76600 Le Havre, France"
          ],
          [
           "https://www.booking.com/hotel/fr/nouveau-vivez-l-horizon-sur-la-mer-plage.fr.html",
           "118 Boulevard Clemenceau, Perret, 76600 Le Havre, France"
          ],
          [
           "https://www.booking.com/hotel/fr/la-maison-au-fond-du-jardin-le-havre.fr.html",
           "97 97 Rue du Maréchal Joffre, 76600 Le Havre, France"
          ],
          [
           "https://www.booking.com/hotel/fr/o-terminus-oceane-proche-gare-lit-king-size.fr.html",
           "33 Cours de la République, 76600 Le Havre, France"
          ],
          [
           "https://www.booking.com/hotel/fr/le-petit-drapiers.fr.html",
           "21 Rue des Drapiers, 76600 Le Havre, France"
          ],
          [
           "https://www.booking.com/hotel/fr/nouveau-vivez-le-port-de-plaisance-plage.fr.html",
           "154 Boulevard Clemenceau, Perret, 76600 Le Havre, France"
          ],
          [
           "https://www.booking.com/hotel/fr/l-39-oceane-le-havre.fr.html",
           "39 Rue Docteur Pareur, 76620 Le Havre, France"
          ],
          [
           "https://www.booking.com/hotel/fr/la-maree-studio-vu-mer-le-havre-le-havre.fr.html",
           "94 Boulevard Clemenceau, Perret, 76600 Le Havre, France"
          ],
          [
           "https://www.booking.com/hotel/fr/kings-and-queens-studio-renove-notre-dame.fr.html",
           "22 Rue d'Estimauville, Perret, 76600 Le Havre, France"
          ],
          [
           "https://www.booking.com/hotel/fr/les-apparts-kennedy.fr.html",
           "9 chaussee John Kennedy, Perret, 76600 Le Havre, France"
          ],
          [
           "https://www.booking.com/hotel/fr/le-monlahaye-cozy-amp-bright.fr.html",
           "2ieme étage 154 Rue Saint-Sever, 76100 Rouen, France"
          ],
          [
           "https://www.booking.com/hotel/fr/50-nuances-nirvana-a-2-balneo-banc-de-massages.fr.html",
           "24 Quai Gaston Boulet, 76000 Rouen, France"
          ],
          [
           "https://www.booking.com/hotel/fr/la-balneo.fr.html",
           "39 Rue de Fontenelle, 76000 Rouen, France"
          ],
          [
           "https://www.booking.com/hotel/fr/eden-rouennais-hyper-centre-ville.fr.html",
           "Appartement en Rez de Chaussée 20 Rue du Champ des Oiseaux, 76000 Rouen, France"
          ],
          [
           "https://www.booking.com/hotel/fr/appartement-de-luxe-avec-vue-sur-la-seine-et-parking-prive.fr.html",
           "27 Route de Bonsecours, 76000 Rouen, France"
          ],
          [
           "https://www.booking.com/hotel/fr/zenitude-residences-rouen.fr.html",
           "2 rue Françoise Sagan 76100 Rouen, 76100 Rouen, France"
          ],
          [
           "https://www.booking.com/hotel/fr/aparthotel-adagio-access-rouen-centre-cathedrale.fr.html",
           "2 rue du Docteur Robert Rambert, 76000 Rouen, France"
          ],
          [
           "https://www.booking.com/hotel/fr/hotellitterairegustaveflaubert.fr.html",
           "33 rue du Vieux Palais / 15 rue de la Pie, 76000 Rouen, France"
          ],
          [
           "https://www.booking.com/hotel/fr/alive-hotel-de-quebec.fr.html",
           "18-24 Rue De Quebec, 76000 Rouen, France"
          ],
          [
           "https://www.booking.com/hotel/fr/mercure-rouen-centre.fr.html",
           "7 Rue Croix de Fer, 76000 Rouen, France"
          ],
          [
           "https://www.booking.com/hotel/fr/maison-en-plein-coeur-de-ville.fr.html",
           "19 Rue de la Pie aux Anglais, 76100 Rouen, France"
          ],
          [
           "https://www.booking.com/hotel/fr/hyatt-place-rouen.fr.html",
           "77 route de Neufchatel, 76000 Rouen, France"
          ],
          [
           "https://www.booking.com/hotel/fr/bestwesternhoteldedieppe.fr.html",
           "place Bernard Tissot, 76000 Rouen, France"
          ],
          [
           "https://www.booking.com/hotel/fr/le-canyon-rouennais.fr.html",
           "97 Boulevard de l'Yser, 76000 Rouen, France"
          ],
          [
           "https://www.booking.com/hotel/fr/novotel-rouen-centre-cathedrale.fr.html",
           "10 Quai de la Bourse, 76000 Rouen, France"
          ],
          [
           "https://www.booking.com/hotel/fr/radisson-blu-rouen-centre.fr.html",
           "6-8 Rue du Donjon, 76000 Rouen, France"
          ],
          [
           "https://www.booking.com/hotel/fr/domitys-les-mosaiques.fr.html",
           "64 Rue Saint-Julien, 76100 Rouen, France"
          ],
          [
           "https://www.booking.com/hotel/fr/appart-coeur-de-rouen-le-spa-du-vieux-marche.fr.html",
           "9 Rue de Stanislas Girardin, 76000 Rouen, France"
          ],
          [
           "https://www.booking.com/hotel/fr/kyriad-rouen-sud.fr.html",
           "23 Rue d'Eauplet, 76300 Rouen, France"
          ],
          [
           "https://www.booking.com/hotel/fr/ibis-budget-rouen-centre-rive-gauche.fr.html",
           "55 Avenue De La Liberation, 76100 Rouen, France"
          ],
          [
           "https://www.booking.com/hotel/fr/helsinki-2-personnes.fr.html",
           "33 Rue Léon Dupontreué, 80080 Amiens, France"
          ],
          [
           "https://www.booking.com/hotel/fr/irziana-au-jardin-d-henriville.fr.html",
           "487 Rue Saint-Fuscien, 80090 Amiens, France"
          ],
          [
           "https://www.booking.com/hotel/fr/oslo-2-personnes.fr.html",
           "33 Rue Léon Dupontreué, 80080 Amiens, France"
          ],
          [
           "https://www.booking.com/hotel/fr/charming-city-home-near-downtown-with-garage.fr.html",
           "75 Rue du Général Domon, 80000 Amiens, France"
          ],
          [
           "https://www.booking.com/hotel/fr/the-originals-boutique-amiens-sud-chu-amiens.fr.html",
           "73 avenue Valery Giscard d'Estaing, 80000 Amiens, France"
          ],
          [
           "https://www.booking.com/hotel/fr/express-by-holiday-inn.fr.html",
           "10 Boulevard Alsace Lorraine, 80000 Amiens, France"
          ],
          [
           "https://www.booking.com/hotel/fr/victor-hugo-amiens2.fr.html",
           "26 Rue Victor Hugo, 80000 Amiens, France"
          ],
          [
           "https://www.booking.com/hotel/fr/ha-tel-marotte.fr.html",
           "3 rue Marotte, 80000 Amiens, France"
          ],
          [
           "https://www.booking.com/hotel/fr/appart-city-amiens.fr.html",
           "80, boulevard d'Alsace-Lorraine, 80000 Amiens, France"
          ],
          [
           "https://www.booking.com/hotel/fr/kyriad-amiens-nord-xml.fr.html",
           "Zac St Ladre - Rue le Greco, 80085 Amiens, France"
          ],
          [
           "https://www.booking.com/hotel/fr/premia-re-classe-amiens.fr.html",
           "Rue Raphael, 80080 Amiens, France"
          ],
          [
           "https://www.booking.com/hotel/fr/studette-amiens-centre.fr.html",
           "11 Rue Gresset, 80000 Amiens, France"
          ],
          [
           "https://www.booking.com/hotel/fr/le-gaveau-amiens.fr.html",
           "206 Rue Jules Barni, 80090 Amiens, France"
          ],
          [
           "https://www.booking.com/hotel/fr/l-etoile-filante-amiens.fr.html",
           "206 Rue Jules Barni, 80090 Amiens, France"
          ],
          [
           "https://www.booking.com/hotel/fr/le-saint-leu-t.fr.html",
           "12 Rue des Francs Mûriers, 80000 Amiens, France"
          ],
          [
           "https://www.booking.com/hotel/fr/pretty-home-amiens.fr.html",
           "25 Rue Lavoisier, 80000 Amiens, France"
          ],
          [
           "https://www.booking.com/hotel/fr/maison-amienoise-2-chambres.fr.html",
           "3 Rue Bizet, 80080 Amiens, France"
          ],
          [
           "https://www.booking.com/hotel/fr/le-p-tillant-amiens.fr.html",
           "40 Rue le Notre, 80000 Amiens, France"
          ],
          [
           "https://www.booking.com/hotel/fr/black-pearl-amiens.fr.html",
           "43 Rue Cozette, 80000 Amiens, France"
          ],
          [
           "https://www.booking.com/hotel/fr/le-jules-verne-b-avec-salle-de-sport.fr.html",
           "43 Rue Cozette, 80000 Amiens, France"
          ],
          [
           "https://www.booking.com/hotel/fr/chambre-privee-montauban.fr.html",
           "971 Chemin de Traverse, 82000 Montauban, France"
          ],
          [
           "https://www.booking.com/hotel/fr/le-dix-t3-au-coeur-de-ville.fr.html",
           "10 Place nationale, 82000 Montauban, France"
          ],
          [
           "https://www.booking.com/hotel/fr/charming-townhouse-air-conditioning-and-parking.fr.html",
           "4B Rue Clément Ader, 82000 Montauban, France"
          ],
          [
           "https://www.booking.com/hotel/fr/villa-de-cammas-montauban.fr.html",
           "297 Chemin de Cammas, 82000 Montauban, France"
          ],
          [
           "https://www.booking.com/hotel/fr/maison-loft-dans-ancienne-ferme.fr.html",
           "710 Rue Louis Sabatier, 82000 Montauban, France"
          ],
          [
           "https://www.booking.com/hotel/fr/hebergement-chez-alice.fr.html",
           "1900 Route de Molières, 82000 Montauban, France"
          ],
          [
           "https://www.booking.com/hotel/fr/studios-plein-sud-au-calme.fr.html",
           "603 Chemin des Oules, 82000 Montauban, France"
          ],
          [
           "https://www.booking.com/hotel/fr/dali-montauban.fr.html",
           "6 Quai de Verdun, 82000 Montauban, France"
          ],
          [
           "https://www.booking.com/hotel/fr/mercure.fr.html",
           "12, Rue Notre Dame, 82000 Montauban, France"
          ],
          [
           "https://www.booking.com/hotel/fr/bel-appt.fr.html",
           "1 Rue des Tournesols 82000 montauban, 82000 Montauban, France"
          ],
          [
           "https://www.booking.com/hotel/fr/46-fm.fr.html",
           "46 Faubourg du Moustier, 82000 Montauban, France"
          ],
          [
           "https://www.booking.com/hotel/fr/vanille-bourbon.fr.html",
           "24 Avenue Chamier, 82000 Montauban, France"
          ],
          [
           "https://www.booking.com/hotel/fr/castel-bois-marie.fr.html",
           "1083 Chemin de Bégué, 82000 Montauban, France"
          ],
          [
           "https://www.booking.com/hotel/fr/le-loft-paradise.fr.html",
           "90 Avenue Aristide Briand, 82000 Montauban, France"
          ],
          [
           "https://www.booking.com/hotel/fr/sure-by-best-western-les-portes-de-montauban.fr.html",
           "175-225 Impasse De Fontanilles, 82710 Montauban, France"
          ],
          [
           "https://www.booking.com/hotel/fr/abbaye-des-capucins-spa-and-resort.fr.html",
           "6-8 Quai De Verdun, 82000 Montauban, France"
          ],
          [
           "https://www.booking.com/hotel/fr/ibis-styles-montauban.fr.html",
           "50, Route de saint martial, 82000 Montauban, France"
          ],
          [
           "https://www.booking.com/hotel/fr/b-amp-b-montauban.fr.html",
           "600 Route du Nord, 82000 Montauban, France"
          ],
          [
           "https://www.booking.com/hotel/fr/ha-tel-ibis-montauban.fr.html",
           "50 route de Saint Martial, 82000 Montauban, France"
          ],
          [
           "https://www.booking.com/hotel/fr/deltour-montauban-city.fr.html",
           "Za Albasud- 16 Impasse JacquesDaguerre , 82000 Montauban, France"
          ],
          [
           "https://www.booking.com/hotel/fr/appartement-acces-direct-a-la-plage-piscine-terrain-de-tennis-foot.fr.html",
           "514 Avenue de la Mer, 83230 Bormes-les-Mimosas, France"
          ],
          [
           "https://www.booking.com/hotel/fr/bergerie-dans-les-vignes.fr.html",
           "Domaine de Sainte-Marie, 83230 Bormes-les-Mimosas, France"
          ],
          [
           "https://www.booking.com/hotel/fr/romantic-getaway-in-bormes.fr.html",
           "15 Rue du Logis, 83230 Bormes-les-Mimosas, France"
          ],
          [
           "https://www.booking.com/hotel/fr/le-petit-atelier-bormes-les-mimosas1234567891011121314151617.fr.html",
           "34 Chemin de la Bergerie, 83230 Bormes-les-Mimosas, France"
          ],
          [
           "https://www.booking.com/hotel/fr/appartement-unique-dans-un-domaine-viticole.fr.html",
           "3886 Route de Léoube, 83230 Bormes-les-Mimosas, France"
          ],
          [
           "https://www.booking.com/hotel/fr/villa-nais.fr.html",
           "rte de martegasse, 83230 Bormes-les-Mimosas, France"
          ],
          [
           "https://www.booking.com/hotel/fr/new-life.fr.html",
           "5478 Avenue Lou Mistraou, 83230 Bormes-les-Mimosas, France"
          ],
          [
           "https://www.booking.com/hotel/fr/2-pieces-bormes-les-mimosas-village-avec-terrasse-amp-jacuzzi-exterieur.fr.html",
           "37 Rue de la Plaine des Ânes, 83230 Bormes-les-Mimosas, France"
          ],
          [
           "https://www.booking.com/hotel/fr/voir-les-photos-presentationemplacementcommentairesl-39-hote-2-pieces-35m2-borme.fr.html",
           "27 1575 Route des Lavandières, 83230 Bormes-les-Mimosas, France"
          ],
          [
           "https://www.booking.com/hotel/fr/le-studio-tahiti-4-pers-200m-de-la-plage.fr.html",
           "160 Avenue de la Mer cote d'azur 4 bat 1 appart n°12, 83230 Bormes-les-Mimosas, France"
          ],
          [
           "https://www.booking.com/hotel/fr/appartement-village-medieval.fr.html",
           "1 Rue de la Plaine des Ânes, 83230 Bormes-les-Mimosas, France"
          ],
          [
           "https://www.booking.com/hotel/fr/hotel-la-voile-fr.fr.html",
           "165 Avenue Des Girelles - La Favière, 83230 Bormes-les-Mimosas, France"
          ],
          [
           "https://www.booking.com/hotel/fr/paradis.fr.html",
           "62 Impasse du Castellan, 83230 Bormes-les-Mimosas, France"
          ],
          [
           "https://www.booking.com/hotel/fr/hostellerie-du-cigalou.fr.html",
           "Place Gambetta, 83230 Bormes-les-Mimosas, France"
          ],
          [
           "https://www.booking.com/hotel/fr/de-la-plage-hdlp.fr.html",
           "La Favière 352 Boulevard de la Plage, 83230 Bormes-les-Mimosas, France"
          ],
          [
           "https://www.booking.com/hotel/fr/le-pin-d-alep.fr.html",
           "254 Chemin du Patelin, 83230 Bormes-les-Mimosas, France"
          ],
          [
           "https://www.booking.com/hotel/fr/auberge-du-dom.fr.html",
           "Route du Dom, 83230 Bormes-les-Mimosas, France"
          ],
          [
           "https://www.booking.com/hotel/fr/eden-rose-grand-bw-premier-collection.fr.html",
           "167 Route Du Baguier, 83230 Bormes-les-Mimosas, France"
          ],
          [
           "https://www.booking.com/hotel/fr/cmaping-clau-mar-jo.fr.html",
           "895 Chemin de Benat, 83230 Bormes-les-Mimosas, France"
          ],
          [
           "https://www.booking.com/hotel/fr/mazet-climatise-avec-piscine-amp-tennis-residence-calme-proche-lavandou.fr.html",
           "219 219 Traverse des Mimosanes, 83230 Bormes-les-Mimosas, France"
          ],
          [
           "https://www.booking.com/hotel/fr/sage-gestion.fr.html",
           "30 Boulevard Saint-Roch, 84000 Avignon, France"
          ],
          [
           "https://www.booking.com/hotel/fr/echappee-lumineux-3-chambres-clim-centre-ville.fr.html",
           "19 place du change, 84000 Avignon, France"
          ],
          [
           "https://www.booking.com/hotel/fr/parking-included-elevator-very-comfortable.fr.html",
           "42 Boulevard Raspail, 84000 Avignon, France"
          ],
          [
           "https://www.booking.com/hotel/fr/chez-flo-la-suite.fr.html",
           "3 56 Bd Saint-Roch, 84000 Avignon, France"
          ],
          [
           "https://www.booking.com/hotel/fr/clement-vi-elegant-apartment-suite-5-stars-spa-et-fitness.fr.html",
           "16 Rue Carreterie, 84000 Avignon, France"
          ],
          [
           "https://www.booking.com/hotel/fr/beau-studio-dans-mas-provencal.fr.html",
           "277 Chemin des pêchers , 84000 Avignon, France"
          ],
          [
           "https://www.booking.com/hotel/fr/appartement-les-cypres-de-l-ile.fr.html",
           "1053 Chemin des Vendanges, 84000 Avignon, France"
          ],
          [
           "https://www.booking.com/hotel/fr/au-21.fr.html",
           "21 Rue des Études, 84000 Avignon, France"
          ],
          [
           "https://www.booking.com/hotel/fr/chez-flo-avignon.fr.html",
           "62 Boulevard Saint-Roch, 84000 Avignon, France"
          ],
          [
           "https://www.booking.com/hotel/fr/studio-festival-1.fr.html",
           "12 Boulevard de la Liberté, 84000 Avignon, France"
          ],
          [
           "https://www.booking.com/hotel/fr/loft-a-deux-pas-des-remparts.fr.html",
           "79 Avenue Monclar, 84000 Avignon, France"
          ],
          [
           "https://www.booking.com/hotel/fr/domaine-de-rhodes-avignon.fr.html",
           "486 Chemin de Rhodes - Ile de la Barthelasse, 84000 Avignon, France"
          ],
          [
           "https://www.booking.com/hotel/fr/duplex-de-charme-intramuros-climatise.fr.html",
           "3ème étage 23 Rue Carreterie, 84000 Avignon, France"
          ],
          [
           "https://www.booking.com/hotel/fr/medieval-avignon-calm-stunning-amp-spacious.fr.html",
           "7 Rue Pavot, 84000 Avignon, France"
          ],
          [
           "https://www.booking.com/hotel/fr/appartement-studio-lms-radio-avignon.fr.html",
           "69 Avenue Pierre Semard, 84000 Avignon, France"
          ],
          [
           "https://www.booking.com/hotel/fr/agreable-studio-refait-a-neuf-centre-historique.fr.html",
           "10 Place Jérusalem, 84000 Avignon, France"
          ],
          [
           "https://www.booking.com/hotel/fr/bel-appartement-t3-avec-parking.fr.html",
           "2 Rue Pierre Bondon, 84000 Avignon, France"
          ],
          [
           "https://www.booking.com/hotel/fr/chambre-d-hotes-avignon.fr.html",
           "1053 Chemin des Vendanges, 84000 Avignon, France"
          ],
          [
           "https://www.booking.com/hotel/fr/gite-le-rosier-avignon.fr.html",
           "1053 Chemin des Vendanges, 84000 Avignon, France"
          ],
          [
           "https://www.booking.com/hotel/fr/le-gite-fannny-moulin-de-tartay-avignon.fr.html",
           "1989 Chemin de Bompas, 84140 Avignon, France"
          ],
          [
           "https://www.booking.com/hotel/fr/les-ondines-saintes-maries-de-la-mer.fr.html",
           "28 Rue Louis Pasteur, 13460 Les Saintes-Maries-de-la-Mer, France"
          ],
          [
           "https://www.booking.com/hotel/fr/les-roulottes-de-camarkas.fr.html",
           "Théâtre Equestre Camarkas - 10 Draille des Capelans, 13460 Les Saintes-Maries-de-la-Mer, France"
          ],
          [
           "https://www.booking.com/hotel/fr/residence-l-oiseau-des-sables.fr.html",
           "20 Rue Louis Pasteur, 13460 Les Saintes-Maries-de-la-Mer, France"
          ],
          [
           "https://www.booking.com/hotel/fr/le-chene-vert-saintes-maries-de-la-mer.fr.html",
           "31 Rue Jean Jaures, 13460 Les Saintes-Maries-de-la-Mer, France"
          ],
          [
           "https://www.booking.com/hotel/fr/le-fangassier.fr.html",
           "12, Route de Cacharel, 13460 Les Saintes-Maries-de-la-Mer, France"
          ],
          [
           "https://www.booking.com/hotel/fr/mas-mls.fr.html",
           "CHEMIN DE LA FADAISE, 13460 Les Saintes-Maries-de-la-Mer, France"
          ],
          [
           "https://www.booking.com/hotel/fr/appartement-de-l-39-olivier.fr.html",
           "26 Les launes du couchant, 13460 Les Saintes-Maries-de-la-Mer, France"
          ],
          [
           "https://www.booking.com/hotel/fr/lou-marques.fr.html",
           "6 Rue du Vibre, 13460 Les Saintes-Maries-de-la-Mer, France"
          ],
          [
           "https://www.booking.com/hotel/fr/escapade-n17.fr.html",
           "17 rue des pénitents blancs France, 13460 Les Saintes-Maries-de-la-Mer, France"
          ],
          [
           "https://www.booking.com/hotel/fr/appartement-le-trident.fr.html",
           "16 Route de Cacharel, 13460 Les Saintes-Maries-de-la-Mer, France"
          ],
          [
           "https://www.booking.com/hotel/fr/mazet-de-la-grenouilla-re.fr.html",
           "13 chemin du Pont Blanc, 13460 Les Saintes-Maries-de-la-Mer, France"
          ],
          [
           "https://www.booking.com/hotel/fr/l-39-hostellerie-du-pont-de-gau.fr.html",
           "Route d'Arles- RD 570, 13460 Les Saintes-Maries-de-la-Mer, France"
          ],
          [
           "https://www.booking.com/hotel/fr/appartement-3-saintes-maries-de-la-mer.fr.html",
           "24 Avenue d'Arles, 13460 Les Saintes-Maries-de-la-Mer, France"
          ],
          [
           "https://www.booking.com/hotel/fr/appartement-plein-centre-des-saintes-maries-de-la-mer-vue-sur-le-clocher.fr.html",
           "Rue Portalet, 13460 Les Saintes-Maries-de-la-Mer, France"
          ],
          [
           "https://www.booking.com/hotel/fr/mangio-fango.fr.html",
           "Route d'Arles D570, 13460 Les Saintes-Maries-de-la-Mer, France"
          ],
          [
           "https://www.booking.com/hotel/fr/lodge-sainte-helene.fr.html",
           "Chemin Bas des Launes, 13460 Les Saintes-Maries-de-la-Mer, France"
          ],
          [
           "https://www.booking.com/hotel/fr/le-cocardier.fr.html",
           "5 rue Joseph roumanille, 13460 Les Saintes-Maries-de-la-Mer, France"
          ],
          [
           "https://www.booking.com/hotel/fr/auberge-de-la-fadaise.fr.html",
           "Route d'Arles - Quartier du Pont de Gau  D570, 13460 Les Saintes-Maries-de-la-Mer, France"
          ],
          [
           "https://www.booking.com/hotel/fr/ha-tel-les-arcades.fr.html",
           "5, rue Paul Hermann, 13460 Les Saintes-Maries-de-la-Mer, France"
          ],
          [
           "https://www.booking.com/hotel/fr/mas-de-calabrun.fr.html",
           "Route De Cacharel D 85A, 13460 Les Saintes-Maries-de-la-Mer, France"
          ],
          [
           "https://www.booking.com/hotel/fr/duplex-vue-mer-a-rochebonne-plage-parking.fr.html",
           "24 Avenue John Kennedy, 35400 Saint-Malo, France"
          ],
          [
           "https://www.booking.com/hotel/fr/maison-de-charme-4-chambres-vue-rance-et-jardin.fr.html",
           "37 Rue de la Goeletrie, 35400 Saint-Malo, France"
          ],
          [
           "https://www.booking.com/hotel/fr/sunset-saint-malo1.fr.html",
           "3 Rue Charles Fouré, 35400 Saint-Malo, France"
          ],
          [
           "https://www.booking.com/hotel/fr/appartement-vacances-en-copropriete-avec-parking.fr.html",
           "35 Rue Frédéric Bazille, 35400 Saint-Malo, France"
          ],
          [
           "https://www.booking.com/hotel/fr/la-haute-flourie.fr.html",
           "12 rue du Coetquen, 35400 Saint-Malo, France"
          ],
          [
           "https://www.booking.com/hotel/fr/bas-sablons-appart-4-pers-vue-sur-la-mer.fr.html",
           "14 Rue des Bas Sablons, Saint-Servan, 35400 Saint-Malo, France"
          ],
          [
           "https://www.booking.com/hotel/fr/le-nid-love-spa-plages-5-min-a-pied.fr.html",
           "9 Imp. Louise Foulon-Ropars, Rotheneuf, 35400 Saint-Malo, France"
          ],
          [
           "https://www.booking.com/hotel/fr/le-grenier-sur-l-eau-saint-malo-st-servan.fr.html",
           "29 Rue Pierre Certain, Saint-Servan, 35400 Saint-Malo, France"
          ],
          [
           "https://www.booking.com/hotel/fr/malouiniere-guillaume-onffroy.fr.html",
           "1 Rue des Lilas, 35400 Saint-Malo, France"
          ],
          [
           "https://www.booking.com/hotel/fr/la-cabane-au-fond-du-jardin-saint-malo.fr.html",
           "5 Rue des Grands Pointus, 35400 Saint-Malo, France"
          ],
          [
           "https://www.booking.com/hotel/fr/roch-calme.fr.html",
           "15 Avenue de Lorraine, Paramé, 35400 Saint-Malo, France"
          ],
          [
           "https://www.booking.com/hotel/fr/appartement-avec-jardin-saint-malo.fr.html",
           "37 Rue du Bournay, 35400 Saint-Malo, France"
          ],
          [
           "https://www.booking.com/hotel/fr/charmant-studio-saint-servan-saint-malo.fr.html",
           "Appartement  rez de chaussée 51 Rue Danycan, 35400 Saint-Malo, France"
          ],
          [
           "https://www.booking.com/hotel/fr/ra-c-sidence-la-hoguette.fr.html",
           "17 Avenue Pasteur, Sillon, 35400 Saint-Malo, France"
          ],
          [
           "https://www.booking.com/hotel/fr/ra-c-sidence-le-roc-fleuri.fr.html",
           "40 Boulevard Chateaubriand, Paramé, 35400 Saint-Malo, France"
          ],
          [
           "https://www.booking.com/hotel/fr/le-pet-en-l-air.fr.html",
           "Le Pont Marterre , 35400 Saint-Malo, France"
          ],
          [
           "https://www.booking.com/hotel/fr/62-bd-chateaubriand.fr.html",
           "62 Boulevard Chateaubriand, Paramé, 35400 Saint-Malo, France"
          ],
          [
           "https://www.booking.com/hotel/fr/villa-ellerslie.fr.html",
           "1 Avenue Victor Hugo, Sillon, 35400 Saint-Malo, France"
          ],
          [
           "https://www.booking.com/hotel/fr/b-saint-malo.fr.html",
           "82, avenue Pasteur, Sillon, 35400 Saint-Malo, France"
          ],
          [
           "https://www.booking.com/hotel/fr/apt-rdc-avec-sa-jolie-terrasse-privee.fr.html",
           "3 Impasse du Groenland, 35400 Saint-Malo, France"
          ],
          [
           "https://www.booking.com/hotel/fr/la-terrasse-du-mont-st-michel-vue-imprenable.fr.html",
           "Appartement 1er étage 23 D389, 35610 Roz-sur-Couesnon, France"
          ],
          [
           "https://www.booking.com/hotel/fr/catherine-et-serge.fr.html",
           "19 Route de l'Enfer, 50530 Genêts, France"
          ],
          [
           "https://www.booking.com/hotel/fr/clos-margottia-res.fr.html",
           "20 Bouillé, 50300 Le Val-Saint-Père, France"
          ],
          [
           "https://www.booking.com/hotel/fr/petit-bijou-dragey-ronthon.fr.html",
           "8 Route de l'Église, 50530 Dragey-Ronthon, France"
          ],
          [
           "https://www.booking.com/hotel/fr/le-domaine-de-belleville.fr.html",
           "3 route de Saint-Marc, Dragey L'Eglise, 50530 Dragey-Ronthon, France"
          ],
          [
           "https://www.booking.com/hotel/fr/oree-du-mont.fr.html",
           "17bis boulevard du General Patton, 50170 Pontorson, France"
          ],
          [
           "https://www.booking.com/hotel/fr/au-mont-de-la-rive-jaccuzi-et-mont-saint-michel.fr.html",
           "32 Rte de la Rive, 50170 Pontorson, France"
          ],
          [
           "https://www.booking.com/hotel/fr/au-mont-chez-vous-jacuzzi-et-vue-mont-st-michel.fr.html",
           "8 Rue du Rivage, 50170 Huisnes-sur-Mer, France"
          ],
          [
           "https://www.booking.com/hotel/fr/le-beau-sejour-pontorson.fr.html",
           "71 Rue Couesnon, 50170 Pontorson, France"
          ],
          [
           "https://www.booking.com/hotel/fr/la-roulotte-de-ville-cherel.fr.html",
           "32 Chaussée de Ville Chérel, 50170 Pontorson, France"
          ],
          [
           "https://www.booking.com/hotel/fr/chambre-du-mont-saint-michel.fr.html",
           "18 La Chauvinière, 50530 Bacilly, France"
          ],
          [
           "https://www.booking.com/hotel/fr/les-chambres-de-villee.fr.html",
           "3 Villée, 35610 Saint-Georges-de-Gréhaigne, France"
          ],
          [
           "https://www.booking.com/hotel/fr/au-p-39-tit-mont.fr.html",
           "5 Route de Saint-Gilles, 50170 Ardevon, France"
          ],
          [
           "https://www.booking.com/hotel/fr/le-grand-manoir.fr.html",
           "3 rue Pierre du Tertre, 50170 Servon, France"
          ],
          [
           "https://www.booking.com/hotel/fr/domaine-la-perruche.fr.html",
           "28 Rue Saint-Grégoire, 50170 Servon, France"
          ],
          [
           "https://www.booking.com/hotel/fr/le-clos-saint-gilles-pontorson.fr.html",
           "2 route de Saint Gilles, 50170 Ardevon, France"
          ],
          [
           "https://www.booking.com/hotel/fr/la-vieille-foulonniere-chambres-d-39-hotes-amp-permaculture.fr.html",
           "7 rue de la Barre, 50170 Pontorson, France"
          ],
          [
           "https://www.booking.com/hotel/fr/tiny-house-a-10min-du-mont-saint-michel.fr.html",
           "6 bis Rue de l'Yser, 50170 Pontorson, France"
          ],
          [
           "https://www.booking.com/hotel/fr/vaintan-b-and-b.fr.html",
           "6 chemin des Vignes, 50530 Dragey-Ronthon, France"
          ],
          [
           "https://www.booking.com/hotel/fr/les-prairies-de-la-baie-parking-proche-gare.fr.html",
           "Bâtiment A 16 Résidence les Couesnons, 50170 Pontorson, France"
          ],
          [
           "https://www.booking.com/hotel/fr/la-maison-du-lierre.fr.html",
           "3 avenue du Jardin Public, 64200 Biarritz, France"
          ],
          [
           "https://www.booking.com/hotel/fr/georges-vi.fr.html",
           "Rue du Port Vieux, 64200 Biarritz, France"
          ],
          [
           "https://www.booking.com/hotel/fr/hotelanjou.fr.html",
           "18, Rue Gambetta, 64200 Biarritz, France"
          ],
          [
           "https://www.booking.com/hotel/fr/l-39-ocean-a-perte-de-vue-la-grande-plage-a-vos-pieds.fr.html",
           "étage 3,  21ter Avenue Edouard VII, 64200 Biarritz, France"
          ],
          [
           "https://www.booking.com/hotel/fr/saint-julien.fr.html",
           "20 Avenue Carnot, 64200 Biarritz, France"
          ],
          [
           "https://www.booking.com/hotel/fr/le-rooftop-des-halles.fr.html",
           "14 Rue du Centre, 64200 Biarritz, France"
          ],
          [
           "https://www.booking.com/hotel/fr/villa-bibi-cheri.fr.html",
           "maison au fond à gauche de l'impasse Impasse des Dauphins, 64200 Biarritz, France"
          ],
          [
           "https://www.booking.com/hotel/fr/de-silhouette-biarritz.fr.html",
           "30 rue Gambetta, 64200 Biarritz, France"
          ],
          [
           "https://www.booking.com/hotel/fr/le-garage-regina.fr.html",
           "50 Avenue de l'Impératrice, 64200 Biarritz, France"
          ],
          [
           "https://www.booking.com/hotel/fr/hoteldupalaisbiarritz.fr.html",
           "1, Avenue de l'Impératrice, 64200 Biarritz, France"
          ],
          [
           "https://www.booking.com/hotel/fr/biarritz-ocean.fr.html",
           "10, Rue Etienne Ardoin, 64200 Biarritz, France"
          ],
          [
           "https://www.booking.com/hotel/fr/hotellebiarritz.fr.html",
           "30 Avenue de La Milady, 64200 Biarritz, France"
          ],
          [
           "https://www.booking.com/hotel/fr/mirano.fr.html",
           "11 Avenue Pasteur, 64200 Biarritz, France"
          ],
          [
           "https://www.booking.com/hotel/fr/biarritz-centre-plaza.fr.html",
           "10 Avenue Edouard VII, 64200 Biarritz, France"
          ],
          [
           "https://www.booking.com/hotel/fr/chalet-basque-6-couchages-centre-ville-biarritz.fr.html",
           "55 Rue Gambetta, 64200 Biarritz, France"
          ],
          [
           "https://www.booking.com/hotel/fr/radisson-blu-hotel-biarritz.fr.html",
           "1 Carrefour Helianthe, 64200 Biarritz, France"
          ],
          [
           "https://www.booking.com/hotel/fr/utopy-hostel-biarritz.fr.html",
           "Batiment E 27 Avenue de Migron, 64200 Biarritz, France"
          ],
          [
           "https://www.booking.com/hotel/fr/amaryshotel.fr.html",
           "24 boulevard marcel dassault, 64200 Biarritz, France"
          ],
          [
           "https://www.booking.com/hotel/fr/baron-de-biarritz.fr.html",
           "13 avenue Maréchal Joffre , 64200 Biarritz, France"
          ],
          [
           "https://www.booking.com/hotel/fr/altess-hotel.fr.html",
           "19 Avenue De La Reine Victoria, 64200 Biarritz, France"
          ]
         ],
         "hovertemplate": "<b>%{hovertext}</b><br><br>lat_h=%{lat}<br>lon_h=%{lon}<br>url=%{customdata[0]}<br>adresse=%{customdata[1]}<br>note=%{marker.color}<extra></extra>",
         "hovertext": [
          "CHARMING studio proche centre",
          "La Bastide des Marcassins",
          "Gorges du Verdon - Chambres d'Hotes des arches - Cadre magnifique,",
          "Montagnac Village House - Verdon",
          "Le Petit Paradis Provençal",
          "Le Petit Fabre",
          "Destination Ailleurs",
          "La ruchette",
          "Vous viendrez vivre ici 2 pièces lavandes garage à moto",
          "Agréable maison en Provence",
          "CASA ANANTA Appartements bien-être aux portes du Verdon Refuge slow Life et sensoriel jusqu à 12 pers",
          "Appartement RDC avec terrasse privée",
          "Coté Verdon Avec Coin Spa",
          "La Ferme du petit Ségriès Bed and Breakfast",
          "Le Relais Notre Dame",
          "Charme de la Provence classé 3 étoiles",
          "Verdon - Appartement d'Architecte",
          "Hôtel Le Colombier",
          "La Bastide des Cades",
          "Lou Figoun",
          "David",
          "Boutiquezimmer Princesse",
          "La Maison de Gourbit",
          "le logis des abeilles",
          "Studio La LAUZE",
          "Appartement Centre Ville",
          "- - - - -Les Colombages - - - - Chambre d'hôtes-Gîte- Classement Gîte 3 étoiles",
          "Gîte Tintinnabule",
          "Chambre d'Hôtes La Bourdasse",
          "Gîte Chez Nanou & Ju, Ste Croix Volvestre",
          "La Caminada Vielha",
          "Gîte du Mercadal Les Pujols",
          "Manoir et Appartements avec piscine au Domaine de Bize Mirepoix",
          "Poles Apart",
          "Maison chaleureuse en Ariège",
          "Domaine des Marronniers",
          "Skycircuitvilla - 4 star villa with 8 bedrooms, pool and 3000m2 grounds",
          "Le Nid du Pont Neuf",
          "Appartement cosy de 50m2, 2 chambres avec terrasse, plein centre d'Ax-les-Thermes",
          "Studio à Guzet Neige aux pieds des Pistes et de Ecole de Ski",
          "Une Nuit COCOUNING",
          "L'Ecrin de Varenca",
          "La Porte de la cité",
          "Villa FURGY - Climatisation et parking",
          "Maison Henriette - Au plus près de la Cité Médiévale",
          "DOMAINE DE POULHARIES -Blanquette",
          "Panorama by maison bacou",
          "L'écrin de la Cité, Grand Panorama, vue unique sur les remparts de Carcassonne",
          "\"Le Rollin 5\" by My Stay Loc",
          "L'Excellence, Joli T3 Bourgeois",
          "Magnifique T3-terrasse-parking-Centre ville-AD",
          "Le Tassigny - Centre ville - proche cité médiévale- Wifi - idéal famille, couple et pro",
          "Au point du jour - Gîtes Carcassonne, Lac de la Cavayère",
          "La Maison Cachée",
          "43 Belle vue - Luxury",
          "Chambre avec vue",
          "Sous les remparts la maison Pimprenelle",
          "Le Jardin de La Tour Pinte",
          "L'Orée de la cité",
          "Appartement indépendant a Carcassonne",
          "Charmants duplex , Clim et Piscine",
          "Aix-en-Provence, Centre ville quartier Mazarin, magnifique loft",
          "STUDIO campagne AIX EN PROVENCE",
          "Pavillon de Beauregard",
          "APPARTEMENT DERNIER ETAGE DANS BASTIDE",
          "Maison Dauphine",
          "Le Pigonnet - Esprit de France",
          "villa magui",
          "Studio Aix avec stationnement",
          "Citykamp d'Aix-en-Provence",
          "Hôtel Le Mas des Ecureuils",
          "Exclusif Appart piscine chauffée de luxe 10 min centre AixenPc Belvoir SISSI",
          "Hôtel Saint Christophe Aix en Provence Centre Ville",
          "studio calme campagne",
          "Le Néliö",
          "thecamp Hôtel & Lodges - Aix en Provence",
          "Mercure Aix-en-Provence La Duranne Gare TGV",
          "Hôtel Birdy by Happyculture",
          "Novotel Aix-en-Provence Pont de L'Arc",
          "Mercure Aix en Provence Beaumanoir",
          "Grande Bastide, Cassis",
          "Puerta Del Sol",
          "Villa le sud appartements",
          "Côté vignes cassis",
          "Click! OMG Views! 2-4-6-8pers The Secret Provence Gem",
          "L'appart Cassis",
          "Villa W",
          "Villa Le Sud",
          "Appartement spacieux T3 neuf",
          "Le Ptit Paradis d'Emma - Grand T3, Parking, Terrasse",
          "Suites 23",
          "Le Petit Paradis",
          "Villa Cassis",
          "La dépendance du Clos de la tour Cassis",
          "La Parenthèse Cassidaine",
          "LA BOHÊME by K6 Conciergerie Villas",
          "Magnifique Studio Cassis",
          "Appartement bord de plage",
          "Duplex atypique rénové en plein centre du village",
          "Puerto Cabana - Grand Studio avec Parking et Terrasse vue Port",
          "type 2 avec terrasse et parking",
          "La Dolce Vita",
          "RockyPop Marseille Appartements",
          "Villa Havre des Calanques",
          "Château Gombert",
          "Appartement chic plage des Catalans",
          "Cornich' Kennedy",
          "Le Central Parc - T2-Spacieux-Clim-Wifi",
          "La Villa Blanche",
          "le friouli",
          "Maison CHALIOT Hosts & Events",
          "Le 9ième Entracte",
          "The home Privacy",
          "Plage des Catalans",
          "Adorable studio 25m² très calme avec parking",
          "Studio Cosy - Quartier de Samatan - Les Frères de la Loc'",
          "2 Room Apartment - Metro Joliette - Bright - Great Bed - Netflix - No Aircon",
          "Sea Sun & Beaches, Prado Vélodrome",
          "île du Frioul, la daurade du Frioul, marseille",
          "Grand Juste",
          "Le 58 Bayeux bel apt bien équipé centre ville parking gratuit à proximité",
          "Maison au calme",
          "L'École Buissonnière - Apartment complex",
          "Les Chanoines Bayeux Cathédrale",
          "La Promesse BAYEUX Free Car Park",
          "La petite bajocasse",
          "Family's Home",
          "The Victory",
          "Chambre tout confort",
          "Clos des Ursulines",
          "D-DAY's",
          "Appart’hôtel saint patrice",
          "Hotel Le Lion D'Or et Restaurant La Table Du Lion",
          "Belle Normandy",
          "Ibis Budget Bayeux",
          "Hôtel Le Saint Patrice",
          "La forge de Vaucelles",
          "La Naomath - Maison d'hôtes, Hébergement insolite & Gîte",
          "Novotel Bayeux",
          "Villa Des Ursulines",
          "Bel appartement proche du marché",
          "Le loft du canal de Rompsay",
          "Maison M, chambre privée accès jardin piscine et jacuzzi près de La Rochelle",
          "Appartement Élégant avec Loggia & Parking Privé",
          "Maison de ville au calme avec jardin et parking",
          "Frida, Terrasse exposée plein sud, Wifi, Parking double,",
          "La Résidence des Indes",
          "HYPER CENTRE à 80m du marché central, T2 très calme Rue du Minage",
          "LoveroomL1TIMISTE TAR",
          "Maison des Ambassadeurs",
          "Villa Charlotte, 3 Chambres, Wifi, Terarsse, La Rochelle centre",
          "Le Saint-Nicolas",
          "Expérience sur un bateau - Conforme au nouveau règlement",
          "Bel appartement avec parking, face à la mer",
          "Hotel de Paris",
          "Hôtel Kyriad La Rochelle Centre Ville",
          "Le Gambetta - Marché Central",
          "Hôtel Les Brises",
          "50m from the beach ultra cosy balcony near the cen",
          "Bel appartement à 2 pas du vieux port",
          "Elysée Darcy - Devosge hyper centre ,Liberté Gare - ville",
          "Dijon Hypercentre - Loge Pompon",
          "Romantisme et glamour avec spa ,jardin proche zénith",
          "Romantisme et glamour 2 avec spa , clim et jardin",
          "IDÉAL ART DÉCO compris un parking privé sécurisé Darcy Liberté centre Gare-Ville",
          "The down town Nenad's SPA",
          "Agréable T2 au centre de Dijon",
          "Holiday Inn Dijon Sud - Longvic by IHG",
          "Residhome Dijon Cité Des Vignes",
          "Havre de sérénité coeur de Dijon",
          "Cosy au Cœur de Dijon",
          "Best Western Dijon Centre Gare",
          "Le duplex Dijonnais",
          "B&B HOTEL Dijon Valmy Toison d'or",
          "Hôtel Montchapet Dijon Centre",
          "Holiday Inn Dijon Toison D'or by IHG",
          "Maladière la Belle 6p",
          "Ibis Styles Dijon Nord Valmy",
          "Aphrodite suite de prestige",
          "Logis Hotel Darcy Dijon Centre",
          "Maison Neuve 9 personnes Terrasse & Garage Privé",
          "Le Central - Hypercentre Standing Wifi T",
          "Studio : le petit comtois",
          "Chambre privée proche centre et gare 3",
          "Best Western Hotel Fontaine Argent",
          "B&B HOTEL Besançon Valentin",
          "Hôtel de Paris",
          "Hôtel AKENA Besançon",
          "Comfort Aparthotel Besancon Hauts du Chazal",
          "Appartement cosy en plein centre historique de Besançon",
          "Best Western Citadelle",
          "Mercure Besancon Parc Micaud - Hotel & Bar",
          "ibis Besançon Centre Ville",
          "Hotel Restaurant Vesontio",
          "Logis Hôtel Victor Hugo & Spa",
          "Résidence Charles Quint",
          "Le glamour",
          "ibis budget Besançon Centre Gare",
          "Chambre d’hôte proche gare et centre 1",
          "Temis hôtel Besançon",
          "Aigues Marines",
          "Mas de la Montille",
          "Chambre d'hôtes villa Adoya dans les remparts, piscine, ascenseur",
          "Maison De Mon Père",
          "LA PENICHE - Bed And Bicycle - Aigues Mortes",
          "Mas des jours heureux aigues mortes",
          "Boutique Hôtel des Remparts & Spa",
          "Artemia Aigues-Mortes - Hotel avec piscine",
          "Hotel Des 4 Vents \"Esprit Camargue\" Parking Privé securisé",
          "Chambre SEVILLE - Mas Saint-Louis",
          "Hôtel les jardins du canal - piscine chauffée - parking - garage - bornes électriques",
          "Hotel Les Templiers",
          "Chambres d'hotes Deluxe Jacuzzi Mas de l'Etoile",
          "Chambre BELEM - MAS SAINT LOUIS",
          "Résidence Odalys Fleur de Sel",
          "Le Mas Des Sables",
          "Le Driant 50m de la Plage 150m du centre Ville",
          "Magnifique vue mer et terrasse Garage Clim WiFi - ROSSIconciergerie - Linge inclus",
          "Villa Camarguaise entre Plage et centre ville avec bassin extérieur",
          "Au Cabanon",
          "Le pigeonnier",
          "Agréables chambres au calme",
          "Maison villa avec piscine",
          "L'Arche Denim",
          "Maison climatisée Gare à 10 min, idéale familles MaisonCarréeConciergerie",
          "Maison Blanche",
          "Appartement 4 à 8 personnes, Spacieux de Standing Classé 4 Etoiles",
          "Antichambre",
          "Détente au Green",
          "Jolie villa à quelques pas du centre-ville.",
          "Chambre indépendante avec terrasse privée et piscine",
          "Patrick&Pierre Bed and Breakfast Nîmes",
          "Entre tendance et authenticité - LA VOÛTE",
          "Suite Privée Bed and Breakfast",
          "Appartement entier 1 à 4 personnes au calme avec parking gratuit",
          "Cristal suite – a hidden gem in historic center",
          "Allegria Nimes Chambre Deluxe Spa",
          "Nîmes Downtown Apartment",
          "Maison Albar Hotels L’Imperator",
          "La Demeure Provençale au charme suranné",
          "Appartement dans Hotel de Flaux",
          "La suite Kyoto, appartement privé Uzès",
          "Le Mas des Alexandrins",
          "Manoir des Sources",
          "Hostellerie et la parenthese uzes",
          "Villa Maélie",
          "Domaine de Privadière & Spa",
          "Patio De Violette",
          "Chez Louis de Uzès",
          "LOGIS HOTEL L' Auberge d'Uzes",
          "Logis Hotel Restaurant Uzès Pont du Gard",
          "Appartement Centre Historique - Garage Privé",
          "Le Mas du Lac",
          "Le mas des Lilas",
          "Les Gîtes de Cayenne - Gîte Olivia",
          "Villa Mirabelle",
          "Les Olives",
          "Les toîts d'Uzès",
          "Kira",
          "Beautiful home in the historic Center of Uzes",
          "Chambres d'Hôtes En Aparté",
          "T2 Calme absolu - Coeur Toulouse - Saint Cyprien - climatisation - Terrasse arborée",
          "Douce Évasion",
          "Sangha Toulouse",
          "La Closerie aux Violettes - Maison d'hôtes",
          "FirstName Toulouse, part of JdV by Hyatt",
          "Appartement I Confort et Lumineux I 2 min du métro",
          "OIQIA • Tolosa",
          "Aparthotel Adagio Original Toulouse Centre La Grave",
          "La maison calme et lumineuse avec jardin",
          "LA CARTOUCHERIE",
          "Boutique Hotel SOCLO",
          "Aparthotel Adagio Access Toulouse Jolimont",
          "La Chambre de PAT",
          "Le Coccon Entre Basso Cambo et Lardenne",
          "Residhome Toulouse Occitania",
          "Campanile Toulouse Balma - Cité de l'Espace",
          "Campanile Toulouse Purpan",
          "Residhome Toulouse Ponts Jumeaux",
          "L'instant Détente avec terrasse climatisation et parking",
          "R'Apparts T4 Le Prieuré",
          "Chambre chez l'habitant",
          "Le Lussac",
          "Superbe: parking gratuit + wifi puissant + balcon",
          "#GF The Grenoble Beret next to the train station et GEM",
          "Cocon calme à 2mn Clinique Mutualiste et Tram",
          "Le Berriat, proche Gare-CCI-GEM",
          "Villa atmosphère PETIT DEJEUNER COMPRIS",
          "Les 3 arches - Grenoble",
          "Fafa Central #CX",
          "Le Trésor de la Monnaie",
          "44 Foch 3",
          "5min Alpexpo 4 personnes garage privé terrasse",
          "Ile verte entre CHU & vieille ville",
          "Le Bon Quai",
          "Le Beauvert 2 NOUVEAU à GRENOBLE parking gratuit",
          "Hyper-centre de Grenoble, suite parentale - wifi fibre - cocon",
          "Libertad - Verdun",
          "RockyPop Grenoble Hotel",
          "Le Grand Hôtel Grenoble, BW Premier Collection by Best Western",
          "Petit cocon lillois:Cheminée & jardin",
          "CENTRAL Hostel Lille Centre",
          "B&B HOTEL Lille Lillenium Eurasanté",
          "JOST Hostel Lille Centre",
          "Rosa Hotel",
          "JOST Hôtel Lille Centre",
          "Boa Hotel - BW Signature Collection - Lille Centre Gares",
          "OKKO Hotels Lille Centre",
          "Hôtel Barrière Lille",
          "The People - Lille",
          "CALM Appart' & Hostel",
          "Appart'City Confort Lille - Euralille",
          "Campanile Lille Euralille",
          "La Valiz",
          "Holiday Inn Express Lille Centre by IHG",
          "Hotel De La Treille",
          "Superb 1BR flat on the Bois Blancs district",
          "Hotel De La Paix",
          "ibis Styles Lille Centre Grand Place",
          "Hilton Lille",
          "Hôtel Villa la Renaissance",
          "Mendiska",
          "Hôtel des Basses Pyrénées - Bayonne",
          "Hôtel Villa KOEGUI Bayonne",
          "Hotel Cote Basque",
          "Hotel Loreak",
          "OKKO Hotels Bayonne Centre",
          "Hôtel Le Bayonne",
          "Hostel20 Bayonne",
          "ibis budget Bayonne",
          "Temporesidence Cathedrale",
          "ibis Bayonne Centre",
          "Duplex 90m² + terrasse",
          "Hôtel Les Genêts Bayonne",
          "B&B HOTEL Bayonne",
          "Hôtel des Arceaux",
          "Campanile Bayonne",
          "Premiere Classe Bayonne",
          "Reflet YourHostHelper",
          "hotelF1 Bayonne",
          "Maison Alta Mar - 7 Chambres & Jacuzzi",
          "DUPLEX REP 10 COEUR de COLLIOURE avec parking proche",
          "Collioure, bel appartement de 40m2 avec balcon et parking",
          "Le Glacis",
          "Les Suites de Collioure",
          "Casa Collioura & Spa",
          "SAPHIR - Vue Mer et Montagne - WIFI FIBRE- PISCINE et GARAGE Privé",
          "Le Nid de Gilles",
          "Hotel Le Bon Port",
          "Ibanova Appartements",
          "Les Résidences de Collioure",
          "Appartement T2 de 30m2, Grande Terrasse, Résidence Soleil Marin",
          "Résidence du Soleil",
          "Residence Pierre & Vacances Les Balcons de Collioure",
          "Hôtel des Templiers",
          "Collioure, le village préféré des Français",
          "23 Rue Romain Rolland Appartement",
          "Duplex quartier piéton",
          "Camping Les Amandiers",
          "2VSE-ALZ07 Studio dans résidence calme proche plage Collioure",
          "Appartement en attique Strasbourg ville proche gare Halles",
          "Cour du Corbeau Hotel Strasbourg - MGallery Collection",
          "Good Life à Strasbourg",
          "Hotel Beaucour",
          "Ibis Budget Strasbourg Centre Republique",
          "OKKO Hotels Strasbourg Centre",
          "Hotel Kaijoo by HappyCulture",
          "Hôtel de l'Europe by HappyCulture",
          "Logis Hôtel Ettenheim",
          "Logis Hôtel Restaurant Au Cerf d'Or",
          "Les Colonnes Strasbourg Zenith",
          "CityKamp Strasbourg",
          "Hotel de l'Orangerie",
          "Sofitel Strasbourg Grande Ile",
          "Kyriad Direct Strasbourg Ouest - Zénith",
          "Appart Hotel Odalys City Strasbourg Green Marsh",
          "Auberge de Jeunesse HI Strasbourg 2 Rives",
          "Chaleureux studio Orangerie à Strasbourg",
          "L'Orangerie, studio",
          "Lingo104 - Confort - Proche centre ville - Transports en communs",
          "Place des Dominicains",
          "Place des Dominicains",
          "Studio de l eau",
          "Studio de l eau",
          "Hotel L'Europe",
          "Hotel L'Europe",
          "Hotel Le Colombier",
          "The Family industry",
          "Appartements Chauffour - Colmar Centre",
          "Contact Hotel Du Ladhof",
          "Chez Sylvestre",
          "Hôtel du Ladhof",
          "Unisotel Colmar Parc Des Exposition EX F1",
          "Gîtes Openroc - Vue imprenable sur Colmar",
          "Gîtes Openroc - Vue imprenable sur Colmar",
          "SUITE SOLIE SPA Wintzenheim",
          "SUITE SOLIE SPA Wintzenheim",
          "Cottage 1956 - Maison d'hôtes",
          "Cottage 1956 - Maison d'hôtes",
          "Villa Rosa Trois Epis",
          "Villa Rosa Trois Epis",
          "Appartements & Chambres Les Loges du Capucin",
          "Appartements & Chambres Les Loges du Capucin",
          "\"les amandiers\"",
          "\"les amandiers\"",
          "Appartement Les Tournesols avec Climatisation",
          "Grand Appartement Cosy Chez Pépette à 5 min de Colmar",
          "Grand Appartement Cosy Chez Pépette à 5 min de Colmar",
          "Appartement Le Ch'ti Alsacien",
          "Appartement Le Ch'ti Alsacien",
          "Demeure d’antan",
          "Route des vins d'Alsace - Gewurztraminer",
          "Route des vins d'Alsace, domaine viticole 'Pinot Gris'",
          "Gîte Charlotte et Suzette",
          "Charme doux des Récollets",
          "Le Moonloft insolite Tiny-House dans les arbres & 1 séance de sauna pour 2 avec vue panoramique",
          "Chez Alfred et Régine",
          "Coquet appartement 6 personnes avec jardin",
          "Grande terrasse, route des vins, domaine viticole 'riesling'",
          "Duplex tout confort, 2 min de Colmar, parking gratuit",
          "Le Point central - Terrasse - Proche de Colmar",
          "CHATEAU R",
          "Avalon II",
          "Gîte au Manoir des Sens - Escapade insolite aux parfums et couleurs d Asie",
          "Au Refuge des amoureux avec baignoire Balnéo 2 personnes",
          "GITE CHEZ JEAN PAUL",
          "Avalon III",
          "Chambre d'Hôtes \"Au Vigneron\"",
          "Bienvenue chez jacquou Chambre d'hote cher l'habitant",
          "Les Gîtes de Juliane - Calme & spa en altitude - Alsace",
          "Villa kerangoues gîte 3 étoiles",
          "Salutho",
          "Au Petit Bonheur - Studio - Centre ville",
          "L'ESCALE d'ALSACE",
          "Gite Pinot Gris et gite Pinot Blanc",
          "Au pied du Haut Koenigsbourg 2",
          "Gite HEINRICH",
          "Gîte à l'Orée du Bois",
          "Gîte Le Riesling",
          "Appartement Mirabelle avec Jardin - Centre Ribeauvillé",
          "InterContinental Lyon - Hotel Dieu by IHG",
          "Villa Florentine",
          "Cour des Loges Lyon, A Radisson Collection Hotel",
          "Villa Maïa",
          "Spark by Hilton Lyon Park Saone",
          "Mon Appart A GERLAND II",
          "Ibis Styles Lyon Centre - Gare Part Dieu",
          "Spark by Hilton Lyon Ouest",
          "Hôtel Fort St Laurent Lyon - Handwritten Collection",
          "Boscolo Lyon Hotel & Spa",
          "Le Royal Hotel Lyon - MGallery Collection",
          "NOCNOC - Le Michelangelo",
          "Ibis Budget Lyon Centre - Gare Part Dieu",
          "Résidence Ôtelia Affaires & Bien-être",
          "Lagrange Aparthotel Lyon Lumière",
          "STUDIO VAISE 3 CENTRE à LYON 69009",
          "Hôtel Lyon Métropole",
          "The Ruck Hotel",
          "Adagio Access Lyon Centre Université",
          "Hôtel Chromatics & Restaurant Hill Club by HappyCulture",
          "LE LOFT SOMMEILLER 19*** Près du Lac",
          "La Maison Blanche 74 Annecy-le-Vieux",
          "Alery Loft",
          "Résidence moderne 4* avec terrasses et TV, proche du lac - FR-1-432-7",
          "Lac arte postale",
          "Passage des bains",
          "La Cour du 6",
          "Apparthotel Privilodges Le Royal",
          "Hôtel Le Pré Carré",
          "Hébé Hotel",
          "Annecy Naila's apartement",
          "A la belle quatrième étoile",
          "Lanfonnet t3 Annecy",
          "Le Splendid Hotel Lac D'Annecy - Handwritten Collection",
          "Le Balcon de la Vieille Ville Annecy",
          "Le Pélican",
          "Rivage Hôtel & Spa Annecy",
          "Les suites sainte claire",
          "B&B HOTEL Annecy Cran-Gevrier",
          "Ace Hotel Annecy",
          "2 Chambres Chez l'habitant à Paris Bercy - 2 Rooms in a Private Home in Paris Bercy",
          "Belle chambre avec sanitaires privatifs",
          "LEDION PARIS 14",
          "Luxury appartement 165m2 Paris 16 Victor Hugo Etoile AC",
          "Duplex près des Champs-Élysées",
          "T3 balcon parking clim 3mn pied metro 8 et T3",
          "Too Hotel & Spa Paris - MGallery Collection",
          "Hôtel Le Milie Rose",
          "Motel One Paris-Porte Dorée",
          "Virgina",
          "Hôtel Piapia",
          "Hôtel Orchidée",
          "Hôtel de l'Exposition - Tour Eiffel",
          "Hotel OHM by Happyculture",
          "Hôtel Sanso by HappyCulture",
          "Citadines Opéra Paris",
          "Hotel de L'Empereur by Malone",
          "Luxurious apartment - center of Paris",
          "CARD Hôtel",
          "Hotel Relais Bosquet by Malone",
          "Dalikyda - La Doublette - Wifi - Quiet and secure",
          "Le Petit Havrais",
          "Confort et sérénité 5 Min Plage",
          "Le Baiser 1 le bunker réaménagé en plaisir interdit",
          "Le Tellier Le Havre",
          "Le Discret",
          "Charmant Perret centre-ville 2 chambres idéales",
          "Studio jo meublé",
          "Rue du Général Sarrail - F2",
          "Le Central",
          "Vivez les flots bleus - Port de plaisance - Plage",
          "Vivez l'Horizon sur la mer - Vue mer - plage - Port de plaisance",
          "La Maison au fond du jardin",
          "Ô Terminus Océane - Proche gare - Lit King size",
          "Le petit Drapiers 4 Pers a 5 Minutes a pied du petit port et 10 Mins de la plage",
          "Vivez le Port de plaisance - Plage",
          "l'océane",
          "La Marée Studio vu mer Le Havre",
          "Kings and Queens - Studio rénové - Notre-Dame",
          "LES APPARTS KENNEDY",
          "Le Monlahaye, cozy & bright",
          "50 Nuances Nirvana - Love Room à Rouen",
          "La Balnéo",
          "L'Eden Rouennais - Gare de Rouen",
          "Rouen, Vue sur la Seine #Tokyo",
          "Zenitude Hôtel Résidences Rouen",
          "Aparthotel Adagio Access Rouen Centre Cathédrale",
          "Hôtel Littéraire Gustave Flaubert, BW Signature Collection",
          "Hotel De Quebec",
          "Mercure Rouen Centre Cathédrale",
          "Magnifique maison en plein centre ville",
          "Hyatt Place Rouen",
          "Best Western Plus Hotel de Dieppe 1880",
          "Le Canyon Rouen Centre by MyFrenchPAT Terrasse & Parking",
          "Novotel Rouen Centre Cathédrale",
          "Radisson Blu Hotel, Rouen Centre",
          "DOMITYS Les Mosaïques",
          "L'Atelier 9 - Hypercentre Rouen",
          "KYRIAD ROUEN SUD - Sotteville les Rouen",
          "ibis budget Rouen Centre Rive Gauche",
          "Helsinki 2 personnes",
          "Irziana - Au jardin d'Henriville",
          "Oslo 2 personnes",
          "Charming City Home Near Downtown with Garage",
          "The Originals Boutique Hôtel Amiens Sud",
          "Holiday Inn Express Amiens by IHG",
          "Chez Victor H",
          "Hôtel Spa Marotte",
          "Appart'City Confort Amiens Gare",
          "Comfort Hotel Amiens Nord",
          "Première Classe Amiens",
          "Résidence Amiens hyper Centre",
          "Le Gaveau T",
          "L Etoile filante",
          "Le Lovely avec parking",
          "L'harmonie",
          "Maison amiénoise - 2 chambres",
          "Le P Tillant",
          "Le Black Pearl avec salle de sport",
          "Le Jules Verne B avec salle de sport",
          "Chambre privée",
          "\"Le Dix\", emplacement exceptionnel, parking inclus",
          "Charming townhouse Air conditioning and Parking",
          "Villa de cammas",
          "Maison loft dans ancienne ferme",
          "Hébergement chez Alice",
          "Studio plein Sud au calme",
          "Dali Hôtel Montauban",
          "Hôtel Mercure Montauban",
          "Suites appartement 1 chambre",
          "46FM : Montauban Guest House",
          "Vanille Bourbon",
          "Castel Bois Marie, Maison d'hôtes",
          "Le Loft Paradise",
          "Sure Hotel by Best Western Les Portes de Montauban",
          "Abbaye des Capucins Spa & Resort",
          "ibis Styles Montauban",
          "B&B HOTEL Montauban",
          "ibis Montauban",
          "Brit Hotel Confort Montauban",
          "Appartement Favière-plage, Piscine-Terrain de tennis-Foot",
          "Bergerie dans les Vignes",
          "Romantic getaway in Bormes",
          "Le petit atelier",
          "Appartement unique dans le domaine de la sangliere",
          "Villa Nais B&B",
          "Les Jardins de Bormes, hôtel adult only avec sauna & jacuzzi",
          "Love-room Discret 40 m2 Bormes les mimosas village avec Terrasse",
          "Superbe Duplex 35m2 vue mer avec piscine",
          "Le studio TAHITI 4 pers 600m de la plage la favière",
          "Appartement centre village médiéval Bormes-les-Mimosas, 1 chambre, 3 personnes",
          "Hotel La Voile",
          "Hôtel Paradis",
          "Hostellerie du Cigalou",
          "Hôtel de la Plage - HDLP",
          "Le Pin d'Alep",
          "Auberge du Dom",
          "Eden Rose Grand Hotel BW Premier Collection",
          "Camping Clau Mar Jo",
          "Mazet climatisé avec piscine & tennis Résidence calme proche Lavandou",
          "STRAVINSKY Apartments Avignon",
          "Echappée - Lumineux 3 chambres, Clim, Centre-ville",
          "Parking included - Elevator - Very Comfortable",
          "Chez Flo la suite",
          "Le Cloitre des Augustins 5 stars Spa & Fitness",
          "Beau studio dans mas provençal",
          "Appartement Les Cyprès de l’Île",
          "Au 21",
          "Chez Flo",
          "Studio Festival 1",
          "Loft a deux pas des Remparts",
          "Les Gîtes du Domaine de Rhodes",
          "Duplex de charme intramuros climatisé",
          "Medieval Avignon, calm, stunning & spacious 60m2",
          "L'Appartement-Studio LMS Radio",
          "Agréable Studio refait à neuf, Centre historique",
          "Bel appartement T3 avec parking",
          "Chambre d'hôtes Les Cyprès de l'île",
          "Gîte Les cyprès de l'ile",
          "Le gite de Fa nny Moulin de Tartay en Avignon",
          "Les Ondines",
          "Les Roulottes de Camarkas",
          "Résidence L’Oiseau des Sables",
          "Le chêne vert",
          "Le Fangassier",
          "MAS MLS",
          "Appartement de l'olivier",
          "Hotel Lou Marquès",
          "L'ESCAPADE n17",
          "Appartement Duplex Climatisé Le Trident",
          "Le Maset en Camargue",
          "Logis Le Nid du Pont de Gau",
          "L Abri-côtier Appartements",
          "Bellevue",
          "Mangio Fango Hotel et Spa",
          "Lodge Sainte Helene Adult only",
          "Le Cocardier",
          "Auberge de la Fadaise",
          "Hôtel Les Arcades",
          "Mas De Calabrun",
          "Duplex vue mer à Rochebonne Plage Parking",
          "Maison de charme 4 chambres, vue Rance et jardin",
          "Sunset",
          "appartement vacances en copropriété avec parking",
          "La Haute Flourie - bed and breakfast -chambres d'hôtes",
          "Les Létruns - Appart - 3 pers - Vue sur la mer",
          "Le Nid Love Spa Plages 5 min à pied",
          "Le Grenier sur l'Eau -5 étoiles- Saint-Malo",
          "Malouinière Guillaume Onffroy",
          "La cabane au fond du jardin - 300m de la plage",
          "Roch calme",
          "Appartement avec jardin",
          "Le Danycan - 18mn à pied gare TGV",
          "Résidence La Hoguette",
          "Résidence Le Roc Fleuri",
          "Le pet en l'air",
          "Le Courtois",
          "Villa Ellerslie",
          "B&B Maison Angélus",
          "Apt RDC avec sa terrasse privée",
          "La Terrasse du Mont St Michel, vue imprenable, appartement cosy pour 4 pers",
          "Les Logis de Catherine et Serge",
          "Clos Margottières",
          "Petit Bijou",
          "Le Domaine de Belleville",
          "L'Orée du Mont proche du mont saint Michel",
          "Au Mont De La Rive #Jaccuzi et Mont-Saint-Michel #",
          "Au Mont Chez Vous #Jacuzzi et Vue Mont-St-Michel#",
          "Le beau séjour",
          "La Roulotte de Ville Chérel",
          "Chambre du mont saint Michel",
          "Chambres de Villée",
          "Au p'tit Mont",
          "Gite Le Grand Manoir",
          "Domaine La Perruche Parenthèse poétique Vue Mont-Saint-Michel & Petit-déjeuner festin",
          "Le Clos Saint-Gilles",
          "La Vieille Foulonnière : Chambres d'hôtes & Permaculture",
          "Tiny House à 10min du Mont Saint Michel",
          "Vaintan B&B",
          "Mon Chez Moi Côté Mont",
          "Hôtel & Espace Bien-être La Maison du Lierre",
          "ALFRED HOTELS Port-Vieux",
          "ALFRED HOTELS Les Halles",
          "L'océan à perte de vue, la grande plage à vos pieds",
          "Hotel Saint Julien",
          "Le Rooftop des Halles",
          "CHAMBRE D'HOTES Villa BIBICHERI",
          "Hotel de Silhouette",
          "Le Garage Biarritz Hôtel",
          "Hôtel du Palais Biarritz, in The Unbound Collection by Hyatt",
          "Résidence Biarritz Ocean",
          "ibis Styles Biarritz Plage",
          "Hôtel Mirano",
          "Hotel Plaza Biarritz Plage - Handwritten Collection",
          "Chalet basque 6 couchages centre ville Biarritz",
          "Le Talaia Hôtel & Spa Biarritz - MGallery Collection",
          "GARDEN - Utopy Hostel",
          "Sure Hotel by Best Western Biarritz Aeroport",
          "Hôtel Parc Mazon-Biarritz",
          "Hôtel AKENA Biarritz - Grande plage"
         ],
         "lat": {
          "bdata": "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",
          "dtype": "f8"
         },
         "legendgroup": "",
         "lon": {
          "bdata": "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",
          "dtype": "f8"
         },
         "marker": {
          "color": {
           "bdata": "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",
           "dtype": "f8"
          },
          "coloraxis": "coloraxis",
          "size": 10
         },
         "mode": "markers",
         "name": "",
         "showlegend": false,
         "subplot": "map",
         "type": "scattermap"
        }
       ],
       "layout": {
        "coloraxis": {
         "colorbar": {
          "title": {
           "text": "note"
          }
         },
         "colorscale": [
          [
           0,
           "#30123b"
          ],
          [
           0.07142857142857142,
           "#4145ab"
          ],
          [
           0.14285714285714285,
           "#4675ed"
          ],
          [
           0.21428571428571427,
           "#39a2fc"
          ],
          [
           0.2857142857142857,
           "#1bcfd4"
          ],
          [
           0.35714285714285715,
           "#24eca6"
          ],
          [
           0.42857142857142855,
           "#61fc6c"
          ],
          [
           0.5,
           "#a4fc3b"
          ],
          [
           0.5714285714285714,
           "#d1e834"
          ],
          [
           0.6428571428571429,
           "#f3c63a"
          ],
          [
           0.7142857142857143,
           "#fe9b2d"
          ],
          [
           0.7857142857142857,
           "#f36315"
          ],
          [
           0.8571428571428571,
           "#d93806"
          ],
          [
           0.9285714285714286,
           "#b11901"
          ],
          [
           1,
           "#7a0402"
          ]
         ]
        },
        "height": 500,
        "legend": {
         "tracegroupgap": 0
        },
        "map": {
         "center": {
          "lat": 45.83343700573065,
          "lon": 3.402914240687679
         },
         "domain": {
          "x": [
           0,
           1
          ],
          "y": [
           0,
           1
          ]
         },
         "style": "basic",
         "zoom": 4
        },
        "mapbox": {
         "center": {
          "lat": 45.83343700573065,
          "lon": 3.402914240687679
         },
         "zoom": 4
        },
        "margin": {
         "b": 0,
         "l": 0,
         "r": 0,
         "t": 0
        },
        "template": {
         "data": {
          "bar": [
           {
            "error_x": {
             "color": "#2a3f5f"
            },
            "error_y": {
             "color": "#2a3f5f"
            },
            "marker": {
             "line": {
              "color": "#E5ECF6",
              "width": 0.5
             },
             "pattern": {
              "fillmode": "overlay",
              "size": 10,
              "solidity": 0.2
             }
            },
            "type": "bar"
           }
          ],
          "barpolar": [
           {
            "marker": {
             "line": {
              "color": "#E5ECF6",
              "width": 0.5
             },
             "pattern": {
              "fillmode": "overlay",
              "size": 10,
              "solidity": 0.2
             }
            },
            "type": "barpolar"
           }
          ],
          "carpet": [
           {
            "aaxis": {
             "endlinecolor": "#2a3f5f",
             "gridcolor": "white",
             "linecolor": "white",
             "minorgridcolor": "white",
             "startlinecolor": "#2a3f5f"
            },
            "baxis": {
             "endlinecolor": "#2a3f5f",
             "gridcolor": "white",
             "linecolor": "white",
             "minorgridcolor": "white",
             "startlinecolor": "#2a3f5f"
            },
            "type": "carpet"
           }
          ],
          "choropleth": [
           {
            "colorbar": {
             "outlinewidth": 0,
             "ticks": ""
            },
            "type": "choropleth"
           }
          ],
          "contour": [
           {
            "colorbar": {
             "outlinewidth": 0,
             "ticks": ""
            },
            "colorscale": [
             [
              0,
              "#0d0887"
             ],
             [
              0.1111111111111111,
              "#46039f"
             ],
             [
              0.2222222222222222,
              "#7201a8"
             ],
             [
              0.3333333333333333,
              "#9c179e"
             ],
             [
              0.4444444444444444,
              "#bd3786"
             ],
             [
              0.5555555555555556,
              "#d8576b"
             ],
             [
              0.6666666666666666,
              "#ed7953"
             ],
             [
              0.7777777777777778,
              "#fb9f3a"
             ],
             [
              0.8888888888888888,
              "#fdca26"
             ],
             [
              1,
              "#f0f921"
             ]
            ],
            "type": "contour"
           }
          ],
          "contourcarpet": [
           {
            "colorbar": {
             "outlinewidth": 0,
             "ticks": ""
            },
            "type": "contourcarpet"
           }
          ],
          "heatmap": [
           {
            "colorbar": {
             "outlinewidth": 0,
             "ticks": ""
            },
            "colorscale": [
             [
              0,
              "#0d0887"
             ],
             [
              0.1111111111111111,
              "#46039f"
             ],
             [
              0.2222222222222222,
              "#7201a8"
             ],
             [
              0.3333333333333333,
              "#9c179e"
             ],
             [
              0.4444444444444444,
              "#bd3786"
             ],
             [
              0.5555555555555556,
              "#d8576b"
             ],
             [
              0.6666666666666666,
              "#ed7953"
             ],
             [
              0.7777777777777778,
              "#fb9f3a"
             ],
             [
              0.8888888888888888,
              "#fdca26"
             ],
             [
              1,
              "#f0f921"
             ]
            ],
            "type": "heatmap"
           }
          ],
          "histogram": [
           {
            "marker": {
             "pattern": {
              "fillmode": "overlay",
              "size": 10,
              "solidity": 0.2
             }
            },
            "type": "histogram"
           }
          ],
          "histogram2d": [
           {
            "colorbar": {
             "outlinewidth": 0,
             "ticks": ""
            },
            "colorscale": [
             [
              0,
              "#0d0887"
             ],
             [
              0.1111111111111111,
              "#46039f"
             ],
             [
              0.2222222222222222,
              "#7201a8"
             ],
             [
              0.3333333333333333,
              "#9c179e"
             ],
             [
              0.4444444444444444,
              "#bd3786"
             ],
             [
              0.5555555555555556,
              "#d8576b"
             ],
             [
              0.6666666666666666,
              "#ed7953"
             ],
             [
              0.7777777777777778,
              "#fb9f3a"
             ],
             [
              0.8888888888888888,
              "#fdca26"
             ],
             [
              1,
              "#f0f921"
             ]
            ],
            "type": "histogram2d"
           }
          ],
          "histogram2dcontour": [
           {
            "colorbar": {
             "outlinewidth": 0,
             "ticks": ""
            },
            "colorscale": [
             [
              0,
              "#0d0887"
             ],
             [
              0.1111111111111111,
              "#46039f"
             ],
             [
              0.2222222222222222,
              "#7201a8"
             ],
             [
              0.3333333333333333,
              "#9c179e"
             ],
             [
              0.4444444444444444,
              "#bd3786"
             ],
             [
              0.5555555555555556,
              "#d8576b"
             ],
             [
              0.6666666666666666,
              "#ed7953"
             ],
             [
              0.7777777777777778,
              "#fb9f3a"
             ],
             [
              0.8888888888888888,
              "#fdca26"
             ],
             [
              1,
              "#f0f921"
             ]
            ],
            "type": "histogram2dcontour"
           }
          ],
          "mesh3d": [
           {
            "colorbar": {
             "outlinewidth": 0,
             "ticks": ""
            },
            "type": "mesh3d"
           }
          ],
          "parcoords": [
           {
            "line": {
             "colorbar": {
              "outlinewidth": 0,
              "ticks": ""
             }
            },
            "type": "parcoords"
           }
          ],
          "pie": [
           {
            "automargin": true,
            "type": "pie"
           }
          ],
          "scatter": [
           {
            "fillpattern": {
             "fillmode": "overlay",
             "size": 10,
             "solidity": 0.2
            },
            "type": "scatter"
           }
          ],
          "scatter3d": [
           {
            "line": {
             "colorbar": {
              "outlinewidth": 0,
              "ticks": ""
             }
            },
            "marker": {
             "colorbar": {
              "outlinewidth": 0,
              "ticks": ""
             }
            },
            "type": "scatter3d"
           }
          ],
          "scattercarpet": [
           {
            "marker": {
             "colorbar": {
              "outlinewidth": 0,
              "ticks": ""
             }
            },
            "type": "scattercarpet"
           }
          ],
          "scattergeo": [
           {
            "marker": {
             "colorbar": {
              "outlinewidth": 0,
              "ticks": ""
             }
            },
            "type": "scattergeo"
           }
          ],
          "scattergl": [
           {
            "marker": {
             "colorbar": {
              "outlinewidth": 0,
              "ticks": ""
             }
            },
            "type": "scattergl"
           }
          ],
          "scattermap": [
           {
            "marker": {
             "colorbar": {
              "outlinewidth": 0,
              "ticks": ""
             }
            },
            "type": "scattermap"
           }
          ],
          "scattermapbox": [
           {
            "marker": {
             "colorbar": {
              "outlinewidth": 0,
              "ticks": ""
             }
            },
            "type": "scattermapbox"
           }
          ],
          "scatterpolar": [
           {
            "marker": {
             "colorbar": {
              "outlinewidth": 0,
              "ticks": ""
             }
            },
            "type": "scatterpolar"
           }
          ],
          "scatterpolargl": [
           {
            "marker": {
             "colorbar": {
              "outlinewidth": 0,
              "ticks": ""
             }
            },
            "type": "scatterpolargl"
           }
          ],
          "scatterternary": [
           {
            "marker": {
             "colorbar": {
              "outlinewidth": 0,
              "ticks": ""
             }
            },
            "type": "scatterternary"
           }
          ],
          "surface": [
           {
            "colorbar": {
             "outlinewidth": 0,
             "ticks": ""
            },
            "colorscale": [
             [
              0,
              "#0d0887"
             ],
             [
              0.1111111111111111,
              "#46039f"
             ],
             [
              0.2222222222222222,
              "#7201a8"
             ],
             [
              0.3333333333333333,
              "#9c179e"
             ],
             [
              0.4444444444444444,
              "#bd3786"
             ],
             [
              0.5555555555555556,
              "#d8576b"
             ],
             [
              0.6666666666666666,
              "#ed7953"
             ],
             [
              0.7777777777777778,
              "#fb9f3a"
             ],
             [
              0.8888888888888888,
              "#fdca26"
             ],
             [
              1,
              "#f0f921"
             ]
            ],
            "type": "surface"
           }
          ],
          "table": [
           {
            "cells": {
             "fill": {
              "color": "#EBF0F8"
             },
             "line": {
              "color": "white"
             }
            },
            "header": {
             "fill": {
              "color": "#C8D4E3"
             },
             "line": {
              "color": "white"
             }
            },
            "type": "table"
           }
          ]
         },
         "layout": {
          "annotationdefaults": {
           "arrowcolor": "#2a3f5f",
           "arrowhead": 0,
           "arrowwidth": 1
          },
          "autotypenumbers": "strict",
          "coloraxis": {
           "colorbar": {
            "outlinewidth": 0,
            "ticks": ""
           }
          },
          "colorscale": {
           "diverging": [
            [
             0,
             "#8e0152"
            ],
            [
             0.1,
             "#c51b7d"
            ],
            [
             0.2,
             "#de77ae"
            ],
            [
             0.3,
             "#f1b6da"
            ],
            [
             0.4,
             "#fde0ef"
            ],
            [
             0.5,
             "#f7f7f7"
            ],
            [
             0.6,
             "#e6f5d0"
            ],
            [
             0.7,
             "#b8e186"
            ],
            [
             0.8,
             "#7fbc41"
            ],
            [
             0.9,
             "#4d9221"
            ],
            [
             1,
             "#276419"
            ]
           ],
           "sequential": [
            [
             0,
             "#0d0887"
            ],
            [
             0.1111111111111111,
             "#46039f"
            ],
            [
             0.2222222222222222,
             "#7201a8"
            ],
            [
             0.3333333333333333,
             "#9c179e"
            ],
            [
             0.4444444444444444,
             "#bd3786"
            ],
            [
             0.5555555555555556,
             "#d8576b"
            ],
            [
             0.6666666666666666,
             "#ed7953"
            ],
            [
             0.7777777777777778,
             "#fb9f3a"
            ],
            [
             0.8888888888888888,
             "#fdca26"
            ],
            [
             1,
             "#f0f921"
            ]
           ],
           "sequentialminus": [
            [
             0,
             "#0d0887"
            ],
            [
             0.1111111111111111,
             "#46039f"
            ],
            [
             0.2222222222222222,
             "#7201a8"
            ],
            [
             0.3333333333333333,
             "#9c179e"
            ],
            [
             0.4444444444444444,
             "#bd3786"
            ],
            [
             0.5555555555555556,
             "#d8576b"
            ],
            [
             0.6666666666666666,
             "#ed7953"
            ],
            [
             0.7777777777777778,
             "#fb9f3a"
            ],
            [
             0.8888888888888888,
             "#fdca26"
            ],
            [
             1,
             "#f0f921"
            ]
           ]
          },
          "colorway": [
           "#636efa",
           "#EF553B",
           "#00cc96",
           "#ab63fa",
           "#FFA15A",
           "#19d3f3",
           "#FF6692",
           "#B6E880",
           "#FF97FF",
           "#FECB52"
          ],
          "font": {
           "color": "#2a3f5f"
          },
          "geo": {
           "bgcolor": "white",
           "lakecolor": "white",
           "landcolor": "#E5ECF6",
           "showlakes": true,
           "showland": true,
           "subunitcolor": "white"
          },
          "hoverlabel": {
           "align": "left"
          },
          "hovermode": "closest",
          "mapbox": {
           "style": "light"
          },
          "paper_bgcolor": "white",
          "plot_bgcolor": "#E5ECF6",
          "polar": {
           "angularaxis": {
            "gridcolor": "white",
            "linecolor": "white",
            "ticks": ""
           },
           "bgcolor": "#E5ECF6",
           "radialaxis": {
            "gridcolor": "white",
            "linecolor": "white",
            "ticks": ""
           }
          },
          "scene": {
           "xaxis": {
            "backgroundcolor": "#E5ECF6",
            "gridcolor": "white",
            "gridwidth": 2,
            "linecolor": "white",
            "showbackground": true,
            "ticks": "",
            "zerolinecolor": "white"
           },
           "yaxis": {
            "backgroundcolor": "#E5ECF6",
            "gridcolor": "white",
            "gridwidth": 2,
            "linecolor": "white",
            "showbackground": true,
            "ticks": "",
            "zerolinecolor": "white"
           },
           "zaxis": {
            "backgroundcolor": "#E5ECF6",
            "gridcolor": "white",
            "gridwidth": 2,
            "linecolor": "white",
            "showbackground": true,
            "ticks": "",
            "zerolinecolor": "white"
           }
          },
          "shapedefaults": {
           "line": {
            "color": "#2a3f5f"
           }
          },
          "ternary": {
           "aaxis": {
            "gridcolor": "white",
            "linecolor": "white",
            "ticks": ""
           },
           "baxis": {
            "gridcolor": "white",
            "linecolor": "white",
            "ticks": ""
           },
           "bgcolor": "#E5ECF6",
           "caxis": {
            "gridcolor": "white",
            "linecolor": "white",
            "ticks": ""
           }
          },
          "title": {
           "x": 0.05
          },
          "xaxis": {
           "automargin": true,
           "gridcolor": "white",
           "linecolor": "white",
           "ticks": "",
           "title": {
            "standoff": 15
           },
           "zerolinecolor": "white",
           "zerolinewidth": 2
          },
          "yaxis": {
           "automargin": true,
           "gridcolor": "white",
           "linecolor": "white",
           "ticks": "",
           "title": {
            "standoff": 15
           },
           "zerolinecolor": "white",
           "zerolinewidth": 2
          }
         }
        },
        "width": 600
       }
      }
     },
     "metadata": {},
     "output_type": "display_data"
    }
   ],
   "source": [
    "fig = px.scatter_map(df, lat=\"lat_h\", lon=\"lon_h\", color=\"note\",\n",
    "                     color_continuous_scale=\"Turbo\",\n",
    "                     hover_name=\"nom\", hover_data=[\"url\", \"adresse\"],\n",
    "                     zoom=4, height=500, width=600)\n",
    "fig.update_traces(marker_size=10)\n",
    "fig.update_layout(map_style=\"basic\")\n",
    "fig.update_layout(margin={\"r\":0,\"t\":0,\"l\":0,\"b\":0})\n",
    "fig.show()"
   ]
  },
  {
   "cell_type": "markdown",
   "metadata": {},
   "source": [
    "# 6. Online storing "
   ]
  },
  {
   "cell_type": "markdown",
   "metadata": {},
   "source": [
    "## 6.1. AWS S3 Bucket\n",
    "\n",
    "Storing dataset into S3 as a csv file."
   ]
  },
  {
   "cell_type": "code",
   "execution_count": null,
   "metadata": {},
   "outputs": [],
   "source": [
    "# Load environment variables from .env file\n",
    "dotenv.load_dotenv()\n",
    "AWS_access_key=os.getenv('AWS_access_key')\n",
    "AWS_secret_access_key=os.getenv('AWS_secret_access_key')\n",
    "\n",
    "# Verification\n",
    "print(f\"AWS key : {AWS_access_key[:10]}...\" if AWS_access_key else \"❌ Erreur : clé non trouvée\")"
   ]
  },
  {
   "cell_type": "code",
   "execution_count": null,
   "metadata": {},
   "outputs": [],
   "source": [
    "# Create a client which is going to interact with our S3 Bucket\n",
    "s3_client = boto3.client(\n",
    "    's3',\n",
    "    aws_access_key_id=os.getenv('AWS_access_key'),\n",
    "    aws_secret_access_key=os.getenv('AWS_secret_access_key'),\n",
    "    region_name=os.getenv('AWS_REGION', 'eu-west-3')\n",
    ")\n",
    "bucket_name=os.getenv('S3_BUCKET_NAME')\n",
    "\n",
    "print(f\"AWS S3 Bucket name : {bucket_name}\")"
   ]
  },
  {
   "cell_type": "code",
   "execution_count": null,
   "metadata": {},
   "outputs": [],
   "source": [
    "# Ask S3_client to upload hotels_info.csv file into our S3 Bucket with name \"hotels_info.csv\"\n",
    "s3_client.upload_file('data/hotels_info.csv', bucket_name, 'hotels_info.csv')\n",
    "print(f\"hotels_info.csv has been uploaded to {bucket_name} AWS S3 Bucket.\")"
   ]
  },
  {
   "cell_type": "markdown",
   "metadata": {},
   "source": [
    "## 6.2. NEON Database\n",
    "Creating a SQL Database using NEONcb to extract clean data from AWS S3 Bucket and store it in NEON Database."
   ]
  },
  {
   "cell_type": "code",
   "execution_count": 2,
   "metadata": {},
   "outputs": [
    {
     "name": "stdout",
     "output_type": "stream",
     "text": [
      "Début de NEON_db : postgresql...\n"
     ]
    }
   ],
   "source": [
    "s3_client = boto3.client(\n",
    "    's3',\n",
    "    aws_access_key_id=os.getenv('AWS_access_key'),\n",
    "    aws_secret_access_key=os.getenv('AWS_secret_access_key'),\n",
    "    region_name=os.getenv('AWS_REGION', 'eu-west-3')\n",
    ")\n",
    "bucket_name = os.getenv('S3_BUCKET_NAME')\n",
    "\n",
    "NEON_db = os.getenv('NEON_URI')\n",
    "\n",
    "print(f\"Début de NEON_db : {NEON_db[:10]}...\")"
   ]
  },
  {
   "cell_type": "code",
   "execution_count": 3,
   "metadata": {},
   "outputs": [
    {
     "name": "stdout",
     "output_type": "stream",
     "text": [
      "Type de test_engine: <class 'sqlalchemy.engine.base.Engine'>\n",
      "2025-10-23 15:59:42,667 INFO sqlalchemy.engine.Engine select pg_catalog.version()\n",
      "2025-10-23 15:59:42,668 INFO sqlalchemy.engine.Engine [raw sql] {}\n",
      "2025-10-23 15:59:42,728 INFO sqlalchemy.engine.Engine select current_schema()\n",
      "2025-10-23 15:59:42,730 INFO sqlalchemy.engine.Engine [raw sql] {}\n",
      "2025-10-23 15:59:42,790 INFO sqlalchemy.engine.Engine show standard_conforming_strings\n",
      "2025-10-23 15:59:42,791 INFO sqlalchemy.engine.Engine [raw sql] {}\n",
      "2025-10-23 15:59:42,848 INFO sqlalchemy.engine.Engine BEGIN (implicit)\n",
      "2025-10-23 15:59:42,861 INFO sqlalchemy.engine.Engine SELECT pg_catalog.pg_class.relname \n",
      "FROM pg_catalog.pg_class JOIN pg_catalog.pg_namespace ON pg_catalog.pg_namespace.oid = pg_catalog.pg_class.relnamespace \n",
      "WHERE pg_catalog.pg_class.relname = %(table_name)s AND pg_catalog.pg_class.relkind = ANY (ARRAY[%(param_1)s, %(param_2)s, %(param_3)s, %(param_4)s, %(param_5)s]) AND pg_catalog.pg_table_is_visible(pg_catalog.pg_class.oid) AND pg_catalog.pg_namespace.nspname != %(nspname_1)s\n",
      "2025-10-23 15:59:42,863 INFO sqlalchemy.engine.Engine [generated in 0.00215s] {'table_name': 'hotels_info', 'param_1': 'r', 'param_2': 'p', 'param_3': 'f', 'param_4': 'v', 'param_5': 'm', 'nspname_1': 'pg_catalog'}\n",
      "2025-10-23 15:59:42,937 INFO sqlalchemy.engine.Engine \n",
      "CREATE TABLE hotels_info (\n",
      "\tindex BIGINT, \n",
      "\turl TEXT, \n",
      "\tville TEXT, \n",
      "\tnom TEXT, \n",
      "\tnote FLOAT(53), \n",
      "\tadresse TEXT, \n",
      "\tdescription TEXT, \n",
      "\tinsee BIGINT, \n",
      "\tlat FLOAT(53), \n",
      "\tlon FLOAT(53), \n",
      "\tdate TEXT, \n",
      "\tpluiew_mean FLOAT(53), \n",
      "\ttw_mean FLOAT(53), \n",
      "\tlat_h FLOAT(53), \n",
      "\tlon_h FLOAT(53)\n",
      ")\n",
      "\n",
      "\n",
      "2025-10-23 15:59:42,938 INFO sqlalchemy.engine.Engine [no key 0.00073s] {}\n",
      "2025-10-23 15:59:43,021 INFO sqlalchemy.engine.Engine CREATE INDEX ix_hotels_info_index ON hotels_info (index)\n",
      "2025-10-23 15:59:43,023 INFO sqlalchemy.engine.Engine [no key 0.00072s] {}\n",
      "2025-10-23 15:59:43,075 INFO sqlalchemy.engine.Engine INSERT INTO hotels_info (index, url, ville, nom, note, adresse, description, insee, lat, lon, date, pluiew_mean, tw_mean, lat_h, lon_h) VALUES (%(index__0)s, %(url__0)s, %(ville__0)s, %(nom__0)s, %(note__0)s, %(adresse__0)s, %(description__0)s, %(ins ... 171741 characters truncated ... %(lon__699)s, %(date__699)s, %(pluiew_mean__699)s, %(tw_mean__699)s, %(lat_h__699)s, %(lon_h__699)s)\n",
      "2025-10-23 15:59:43,077 INFO sqlalchemy.engine.Engine [generated in 0.00854s (insertmanyvalues) 1/1 (unordered)] {'date__0': '2025-10-06', 'lat__0': 43.7496562, 'pluiew_mean__0': 0.3999999999999999, 'url__0': 'https://www.booking.com/hotel/fr/charming-studio-proche-centre.fr.html', 'note__0': 10.0, 'nom__0': 'CHARMING studio proche centre', 'description__0': \"Situé à Castellane, l’hébergement CHARMING studio proche centre offre une vue sur la montagne. Il propose une terrasse et une connexion Wi-Fi gratuit ... (347 characters truncated) ... roche (Aéroport de Nice-Côte d'Azur) est à 85 km. Les distances indiquées dans la description de l'établissement sont calculées avec © OpenStreetMap.\", 'ville__0': 'Gorges du Verdon', 'index__0': 0, 'insee__0': 41440, 'lat_h__0': 43.84507, 'lon_h__0': 6.50694, 'tw_mean__0': 10.871428571428572, 'lon__0': 6.3285616, 'adresse__0': '243 Route des Gorges du Verdon, 04120 Castellane, France', 'date__1': '2025-10-06', 'lat__1': 43.7496562, 'pluiew_mean__1': 0.3999999999999999, 'url__1': 'https://www.booking.com/hotel/fr/la-bastide-des-marcassins.fr.html', 'note__1': 10.0, 'nom__1': 'La Bastide des Marcassins', 'description__1': \"Situé à Moissac-Bellevue, l’hébergement La Bastide des Marcassins offre une vue sur le jardin. Il possède une piscine extérieure ouverte en saison, u ... (572 characters truncated) ... s lui donnent la note de   pour un séjour à deux. Les distances indiquées dans la description de l'établissement sont calculées avec © OpenStreetMap.\", 'ville__1': 'Gorges du Verdon', 'index__1': 1, 'insee__1': 41440, 'lat_h__1': 43.65037, 'lon_h__1': 6.18103, 'tw_mean__1': 10.871428571428572, 'lon__1': 6.3285616, 'adresse__1': '81 All. du Rossignol, 83630 Moissac-Bellevue, France', 'date__2': '2025-10-06', 'lat__2': 43.7496562, 'pluiew_mean__2': 0.3999999999999999, 'url__2': 'https://www.booking.com/hotel/fr/chambres-d-hotes-entre-gorges-du-verdon-et-castellane.fr.html', 'note__2': 9.6, 'nom__2': \"Gorges du Verdon - Chambres d'Hotes des arches - Cadre magnifique,\", 'description__2': \"Situé à Castellane, l’hébergement Gorges du Verdon - Chambres d'Hotes des arches - Cadre magnifique, offre une vue sur la montagne. Il propose un jar ... (496 characters truncated) ... roche (Aéroport de Nice-Côte d'Azur) est à 95 km. Les distances indiquées dans la description de l'établissement sont calculées avec © OpenStreetMap.\", 'ville__2': 'Gorges du Verdon', 'index__2': 2, 'insee__2': 41440, 'lat_h__2': 43.83677, 'lon_h__2': 6.42174, 'tw_mean__2': 10.871428571428572, 'lon__2': 6.3285616, 'adresse__2': 'Chambre des arches 2388 Rte de Chasteuil, 04120 Castellane, France', 'date__3': '2025-10-06', 'lat__3': 43.7496562, 'pluiew_mean__3': 0.3999999999999999, 'url__3': 'https://www.booking.com/hotel/fr/montagnac-village-house-verdon.fr.html', 'note__3': 9.5 ... 10400 parameters truncated ... 'lat_h__696': 43.47374, 'lon_h__696': -1.55014, 'tw_mean__696': 17.135714285714286, 'lon__696': -1.5592776, 'adresse__696': 'Batiment E 27 Avenue de Migron, 64200 Biarritz, France', 'date__697': '2025-10-06', 'lat__697': 43.4832523, 'pluiew_mean__697': 2.1, 'url__697': 'https://www.booking.com/hotel/fr/amaryshotel.fr.html', 'note__697': 8.0, 'nom__697': 'Sure Hotel by Best Western Biarritz Aeroport', 'description__697': \"Le Sure Hotel by Best Western Biarritz Aeroport se trouve au cœur du Pays basque, à 3\\xa0km du centre de Biarritz et de ses plages. La connexion Wi-F ... (691 characters truncated) ... s lui donnent la note de   pour un séjour à deux. Les distances indiquées dans la description de l'établissement sont calculées avec © OpenStreetMap.\", 'ville__697': 'Biarritz', 'index__697': 697, 'insee__697': 6412251, 'lat_h__697': 43.47177, 'lon_h__697': -1.53536, 'tw_mean__697': 17.135714285714286, 'lon__697': -1.5592776, 'adresse__697': '24 boulevard marcel dassault, 64200 Biarritz, France', 'date__698': '2025-10-06', 'lat__698': 43.4832523, 'pluiew_mean__698': 2.1, 'url__698': 'https://www.booking.com/hotel/fr/baron-de-biarritz.fr.html', 'note__698': 8.0, 'nom__698': 'Hôtel Parc Mazon-Biarritz', 'description__698': \"Situé dans le centre de Biarritz, à 450 mètres de la plage, l'Hôtel Parc Mazon-Biarritz propose des hébergements insonorisés, une connexion Wi-Fi gra ... (811 characters truncated) ... s lui donnent la note de   pour un séjour à deux. Les distances indiquées dans la description de l'établissement sont calculées avec © OpenStreetMap.\", 'ville__698': 'Biarritz', 'index__698': 698, 'insee__698': 6412251, 'lat_h__698': 43.47776, 'lon_h__698': -1.56218, 'tw_mean__698': 17.135714285714286, 'lon__698': -1.5592776, 'adresse__698': '13 avenue Maréchal Joffre , 64200 Biarritz, France', 'date__699': '2025-10-06', 'lat__699': 43.4832523, 'pluiew_mean__699': 2.1, 'url__699': 'https://www.booking.com/hotel/fr/altess-hotel.fr.html', 'note__699': 8.4, 'nom__699': 'Hôtel AKENA Biarritz - Grande plage', 'description__699': \"Vous pouvez peut-être bénéficier d’une réduction Genius dans l’établissement Hôtel AKENA Biarritz - Grande plage.   pour voir si une réduction Genius ... (835 characters truncated) ... s lui donnent la note de   pour un séjour à deux. Les distances indiquées dans la description de l'établissement sont calculées avec © OpenStreetMap.\", 'ville__699': 'Biarritz', 'index__699': 699, 'insee__699': 6412251, 'lat_h__699': 43.48547, 'lon_h__699': -1.55237, 'tw_mean__699': 17.135714285714286, 'lon__699': -1.5592776, 'adresse__699': '19 Avenue De La Reine Victoria, 64200 Biarritz, France'}\n",
      "2025-10-23 15:59:43,450 INFO sqlalchemy.engine.Engine COMMIT\n"
     ]
    },
    {
     "data": {
      "text/plain": [
       "700"
      ]
     },
     "execution_count": 3,
     "metadata": {},
     "output_type": "execute_result"
    }
   ],
   "source": [
    "# Get s3 object from bucket\n",
    "Object_s3 = s3_client.get_object(Bucket=bucket_name, Key='hotels_info.csv')\n",
    "\n",
    "# Extract from s3 as csv\n",
    "df_test = pd.read_csv(Object_s3['Body'])\n",
    "\n",
    "# SQL method to extract & load\n",
    "engine = create_engine(NEON_db, echo=True)\n",
    "print(f\"Type de test_engine: {type(engine)}\")\n",
    "\n",
    "# Send csv to neon db with engine\n",
    "df_test.to_sql(\"hotels_info\", engine, if_exists=\"replace\", index=True)"
   ]
  }
 ],
 "metadata": {
  "kernelspec": {
   "display_name": "scrap_py311",
   "language": "python",
   "name": "python3"
  },
  "language_info": {
   "codemirror_mode": {
    "name": "ipython",
    "version": 3
   },
   "file_extension": ".py",
   "mimetype": "text/x-python",
   "name": "python",
   "nbconvert_exporter": "python",
   "pygments_lexer": "ipython3",
   "version": "3.11.11"
  }
 },
 "nbformat": 4,
 "nbformat_minor": 4
}
